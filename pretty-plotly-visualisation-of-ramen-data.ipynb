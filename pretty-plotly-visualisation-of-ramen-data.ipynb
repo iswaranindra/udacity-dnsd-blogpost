{
 "cells": [
  {
   "cell_type": "code",
   "execution_count": 1,
   "metadata": {
    "_cell_guid": "b1076dfc-b9ad-4769-8c92-a6c4dae69d19",
    "_uuid": "8f2839f25d086af736a60e9eeb907d3b93b6e0e5"
   },
   "outputs": [
    {
     "data": {
      "text/html": [
       "        <script type=\"text/javascript\">\n",
       "        window.PlotlyConfig = {MathJaxConfig: 'local'};\n",
       "        if (window.MathJax) {MathJax.Hub.Config({SVG: {font: \"STIX-Web\"}});}\n",
       "        if (typeof require !== 'undefined') {\n",
       "        require.undef(\"plotly\");\n",
       "        requirejs.config({\n",
       "            paths: {\n",
       "                'plotly': ['https://cdn.plot.ly/plotly-latest.min']\n",
       "            }\n",
       "        });\n",
       "        require(['plotly'], function(Plotly) {\n",
       "            window._Plotly = Plotly;\n",
       "        });\n",
       "        }\n",
       "        </script>\n",
       "        "
      ]
     },
     "metadata": {},
     "output_type": "display_data"
    },
    {
     "name": "stdout",
     "output_type": "stream",
     "text": [
      "['ramen-ratings.csv']\n"
     ]
    }
   ],
   "source": [
    "# This Python 3 environment comes with many helpful analytics libraries installed\n",
    "# It is defined by the kaggle/python docker image: https://github.com/kaggle/docker-python\n",
    "# For example, here's several helpful packages to load in \n",
    "\n",
    "import numpy as np # linear algebra\n",
    "import pandas as pd # data processing, CSV file I/O (e.g. pd.read_csv)\n",
    "\n",
    "import plotly.graph_objects as go\n",
    "from plotly.subplots import make_subplots\n",
    "from plotly.offline import init_notebook_mode, iplot\n",
    "init_notebook_mode(connected=True)\n",
    "\n",
    "# Input data files are available in the \"../input/\" directory.\n",
    "# For example, running this (by clicking run or pressing Shift+Enter) will list the files in the input directory\n",
    "\n",
    "import os\n",
    "print(os.listdir(\"../input\"))\n",
    "\n",
    "# Any results you write to the current directory are saved as output.\n",
    "\n",
    "import pandas as pd\n",
    "import seaborn as sns\n",
    "import matplotlib.pyplot as plt\n",
    "\n",
    "# Comment this if the data visualisations doesn't work on your side\n",
    "%matplotlib inline\n",
    "\n",
    "plt.style.use('bmh')\n"
   ]
  },
  {
   "cell_type": "code",
   "execution_count": 2,
   "metadata": {
    "_cell_guid": "79c7e3d0-c299-4dcb-8224-4455121ee9b0",
    "_uuid": "d629ff2d2480ee46fbb7e2d37f6b5fab8052498a"
   },
   "outputs": [
    {
     "name": "stdout",
     "output_type": "stream",
     "text": [
      "(2580, 7)\n"
     ]
    },
    {
     "data": {
      "text/html": [
       "<div>\n",
       "<style scoped>\n",
       "    .dataframe tbody tr th:only-of-type {\n",
       "        vertical-align: middle;\n",
       "    }\n",
       "\n",
       "    .dataframe tbody tr th {\n",
       "        vertical-align: top;\n",
       "    }\n",
       "\n",
       "    .dataframe thead th {\n",
       "        text-align: right;\n",
       "    }\n",
       "</style>\n",
       "<table border=\"1\" class=\"dataframe\">\n",
       "  <thead>\n",
       "    <tr style=\"text-align: right;\">\n",
       "      <th></th>\n",
       "      <th>Review #</th>\n",
       "      <th>Brand</th>\n",
       "      <th>Variety</th>\n",
       "      <th>Style</th>\n",
       "      <th>Country</th>\n",
       "      <th>Stars</th>\n",
       "      <th>Top Ten</th>\n",
       "    </tr>\n",
       "  </thead>\n",
       "  <tbody>\n",
       "    <tr>\n",
       "      <td>0</td>\n",
       "      <td>2580</td>\n",
       "      <td>New Touch</td>\n",
       "      <td>T's Restaurant Tantanmen</td>\n",
       "      <td>Cup</td>\n",
       "      <td>Japan</td>\n",
       "      <td>3.75</td>\n",
       "      <td>NaN</td>\n",
       "    </tr>\n",
       "    <tr>\n",
       "      <td>1</td>\n",
       "      <td>2579</td>\n",
       "      <td>Just Way</td>\n",
       "      <td>Noodles Spicy Hot Sesame Spicy Hot Sesame Guan...</td>\n",
       "      <td>Pack</td>\n",
       "      <td>Taiwan</td>\n",
       "      <td>1</td>\n",
       "      <td>NaN</td>\n",
       "    </tr>\n",
       "    <tr>\n",
       "      <td>2</td>\n",
       "      <td>2578</td>\n",
       "      <td>Nissin</td>\n",
       "      <td>Cup Noodles Chicken Vegetable</td>\n",
       "      <td>Cup</td>\n",
       "      <td>USA</td>\n",
       "      <td>2.25</td>\n",
       "      <td>NaN</td>\n",
       "    </tr>\n",
       "    <tr>\n",
       "      <td>3</td>\n",
       "      <td>2577</td>\n",
       "      <td>Wei Lih</td>\n",
       "      <td>GGE Ramen Snack Tomato Flavor</td>\n",
       "      <td>Pack</td>\n",
       "      <td>Taiwan</td>\n",
       "      <td>2.75</td>\n",
       "      <td>NaN</td>\n",
       "    </tr>\n",
       "    <tr>\n",
       "      <td>4</td>\n",
       "      <td>2576</td>\n",
       "      <td>Ching's Secret</td>\n",
       "      <td>Singapore Curry</td>\n",
       "      <td>Pack</td>\n",
       "      <td>India</td>\n",
       "      <td>3.75</td>\n",
       "      <td>NaN</td>\n",
       "    </tr>\n",
       "  </tbody>\n",
       "</table>\n",
       "</div>"
      ],
      "text/plain": [
       "   Review #           Brand  \\\n",
       "0      2580       New Touch   \n",
       "1      2579        Just Way   \n",
       "2      2578          Nissin   \n",
       "3      2577         Wei Lih   \n",
       "4      2576  Ching's Secret   \n",
       "\n",
       "                                             Variety Style Country Stars  \\\n",
       "0                          T's Restaurant Tantanmen    Cup   Japan  3.75   \n",
       "1  Noodles Spicy Hot Sesame Spicy Hot Sesame Guan...  Pack  Taiwan     1   \n",
       "2                      Cup Noodles Chicken Vegetable   Cup     USA  2.25   \n",
       "3                      GGE Ramen Snack Tomato Flavor  Pack  Taiwan  2.75   \n",
       "4                                    Singapore Curry  Pack   India  3.75   \n",
       "\n",
       "  Top Ten  \n",
       "0     NaN  \n",
       "1     NaN  \n",
       "2     NaN  \n",
       "3     NaN  \n",
       "4     NaN  "
      ]
     },
     "execution_count": 2,
     "metadata": {},
     "output_type": "execute_result"
    }
   ],
   "source": [
    "df = pd.read_csv(\"../input/ramen-ratings.csv\")\n",
    "print(df.shape)\n",
    "df.head(5)"
   ]
  },
  {
   "cell_type": "markdown",
   "metadata": {},
   "source": [
    "### 1. Preprocessing the data"
   ]
  },
  {
   "cell_type": "code",
   "execution_count": 3,
   "metadata": {},
   "outputs": [
    {
     "name": "stdout",
     "output_type": "stream",
     "text": [
      "<class 'pandas.core.frame.DataFrame'>\n",
      "RangeIndex: 2580 entries, 0 to 2579\n",
      "Data columns (total 7 columns):\n",
      "Review #    2580 non-null int64\n",
      "Brand       2580 non-null object\n",
      "Variety     2580 non-null object\n",
      "Style       2578 non-null object\n",
      "Country     2580 non-null object\n",
      "Stars       2580 non-null object\n",
      "Top Ten     41 non-null object\n",
      "dtypes: int64(1), object(6)\n",
      "memory usage: 141.2+ KB\n"
     ]
    },
    {
     "data": {
      "text/html": [
       "<div>\n",
       "<style scoped>\n",
       "    .dataframe tbody tr th:only-of-type {\n",
       "        vertical-align: middle;\n",
       "    }\n",
       "\n",
       "    .dataframe tbody tr th {\n",
       "        vertical-align: top;\n",
       "    }\n",
       "\n",
       "    .dataframe thead th {\n",
       "        text-align: right;\n",
       "    }\n",
       "</style>\n",
       "<table border=\"1\" class=\"dataframe\">\n",
       "  <thead>\n",
       "    <tr style=\"text-align: right;\">\n",
       "      <th></th>\n",
       "      <th>Review #</th>\n",
       "      <th>Brand</th>\n",
       "      <th>Variety</th>\n",
       "      <th>Style</th>\n",
       "      <th>Country</th>\n",
       "      <th>Stars</th>\n",
       "      <th>Top Ten</th>\n",
       "    </tr>\n",
       "  </thead>\n",
       "  <tbody>\n",
       "    <tr>\n",
       "      <td>count</td>\n",
       "      <td>2580.000000</td>\n",
       "      <td>2580</td>\n",
       "      <td>2580</td>\n",
       "      <td>2578</td>\n",
       "      <td>2580</td>\n",
       "      <td>2580</td>\n",
       "      <td>41</td>\n",
       "    </tr>\n",
       "    <tr>\n",
       "      <td>unique</td>\n",
       "      <td>NaN</td>\n",
       "      <td>355</td>\n",
       "      <td>2413</td>\n",
       "      <td>7</td>\n",
       "      <td>38</td>\n",
       "      <td>51</td>\n",
       "      <td>38</td>\n",
       "    </tr>\n",
       "    <tr>\n",
       "      <td>top</td>\n",
       "      <td>NaN</td>\n",
       "      <td>Nissin</td>\n",
       "      <td>Chicken</td>\n",
       "      <td>Pack</td>\n",
       "      <td>Japan</td>\n",
       "      <td>4</td>\n",
       "      <td>\\n</td>\n",
       "    </tr>\n",
       "    <tr>\n",
       "      <td>freq</td>\n",
       "      <td>NaN</td>\n",
       "      <td>381</td>\n",
       "      <td>7</td>\n",
       "      <td>1531</td>\n",
       "      <td>352</td>\n",
       "      <td>384</td>\n",
       "      <td>4</td>\n",
       "    </tr>\n",
       "    <tr>\n",
       "      <td>mean</td>\n",
       "      <td>1290.500000</td>\n",
       "      <td>NaN</td>\n",
       "      <td>NaN</td>\n",
       "      <td>NaN</td>\n",
       "      <td>NaN</td>\n",
       "      <td>NaN</td>\n",
       "      <td>NaN</td>\n",
       "    </tr>\n",
       "    <tr>\n",
       "      <td>std</td>\n",
       "      <td>744.926171</td>\n",
       "      <td>NaN</td>\n",
       "      <td>NaN</td>\n",
       "      <td>NaN</td>\n",
       "      <td>NaN</td>\n",
       "      <td>NaN</td>\n",
       "      <td>NaN</td>\n",
       "    </tr>\n",
       "    <tr>\n",
       "      <td>min</td>\n",
       "      <td>1.000000</td>\n",
       "      <td>NaN</td>\n",
       "      <td>NaN</td>\n",
       "      <td>NaN</td>\n",
       "      <td>NaN</td>\n",
       "      <td>NaN</td>\n",
       "      <td>NaN</td>\n",
       "    </tr>\n",
       "    <tr>\n",
       "      <td>25%</td>\n",
       "      <td>645.750000</td>\n",
       "      <td>NaN</td>\n",
       "      <td>NaN</td>\n",
       "      <td>NaN</td>\n",
       "      <td>NaN</td>\n",
       "      <td>NaN</td>\n",
       "      <td>NaN</td>\n",
       "    </tr>\n",
       "    <tr>\n",
       "      <td>50%</td>\n",
       "      <td>1290.500000</td>\n",
       "      <td>NaN</td>\n",
       "      <td>NaN</td>\n",
       "      <td>NaN</td>\n",
       "      <td>NaN</td>\n",
       "      <td>NaN</td>\n",
       "      <td>NaN</td>\n",
       "    </tr>\n",
       "    <tr>\n",
       "      <td>75%</td>\n",
       "      <td>1935.250000</td>\n",
       "      <td>NaN</td>\n",
       "      <td>NaN</td>\n",
       "      <td>NaN</td>\n",
       "      <td>NaN</td>\n",
       "      <td>NaN</td>\n",
       "      <td>NaN</td>\n",
       "    </tr>\n",
       "    <tr>\n",
       "      <td>max</td>\n",
       "      <td>2580.000000</td>\n",
       "      <td>NaN</td>\n",
       "      <td>NaN</td>\n",
       "      <td>NaN</td>\n",
       "      <td>NaN</td>\n",
       "      <td>NaN</td>\n",
       "      <td>NaN</td>\n",
       "    </tr>\n",
       "  </tbody>\n",
       "</table>\n",
       "</div>"
      ],
      "text/plain": [
       "           Review #   Brand  Variety Style Country Stars Top Ten\n",
       "count   2580.000000    2580     2580  2578    2580  2580      41\n",
       "unique          NaN     355     2413     7      38    51      38\n",
       "top             NaN  Nissin  Chicken  Pack   Japan     4      \\n\n",
       "freq            NaN     381        7  1531     352   384       4\n",
       "mean    1290.500000     NaN      NaN   NaN     NaN   NaN     NaN\n",
       "std      744.926171     NaN      NaN   NaN     NaN   NaN     NaN\n",
       "min        1.000000     NaN      NaN   NaN     NaN   NaN     NaN\n",
       "25%      645.750000     NaN      NaN   NaN     NaN   NaN     NaN\n",
       "50%     1290.500000     NaN      NaN   NaN     NaN   NaN     NaN\n",
       "75%     1935.250000     NaN      NaN   NaN     NaN   NaN     NaN\n",
       "max     2580.000000     NaN      NaN   NaN     NaN   NaN     NaN"
      ]
     },
     "execution_count": 3,
     "metadata": {},
     "output_type": "execute_result"
    }
   ],
   "source": [
    "df.info()\n",
    "df.describe(include=\"all\")"
   ]
  },
  {
   "cell_type": "markdown",
   "metadata": {},
   "source": [
    "#### 1.1 Data types and completeness\n",
    "* Some column name have spaces between words\n",
    "* __Style__ missing 2 values indicated by its 2578 count while others are 2580  \n",
    "* __Stars__ are currently stored as object whilst it seems to provide more context if stored as float \n",
    "* __Top Ten__ seems to indicate whether or not the ramen has been to a \"Top\" meals or not\n",
    "* __Top Ten__ has most frequent value of '\\n' indicating there are rows with meaningless value\n"
   ]
  },
  {
   "cell_type": "code",
   "execution_count": 4,
   "metadata": {},
   "outputs": [
    {
     "name": "stdout",
     "output_type": "stream",
     "text": [
      "Style : ['Cup', 'Pack', 'Tray', 'Bowl', 'Box', 'Can', 'Bar', nan] \n",
      "\n",
      "Country : ['Japan', 'Taiwan', 'USA', 'India', 'South Korea', 'Singapore', 'Thailand', 'Hong Kong', 'Vietnam', 'Ghana', 'Malaysia', 'Indonesia', 'China', 'Nigeria', 'Germany', 'Hungary', 'Mexico', 'Fiji', 'Australia', 'Pakistan', 'Bangladesh', 'Canada', 'Nepal', 'Brazil', 'UK', 'Myanmar', 'Netherlands', 'United States', 'Cambodia', 'Finland', 'Sarawak', 'Philippines', 'Sweden', 'Colombia', 'Estonia', 'Holland', 'Poland', 'Dubai'] \n",
      "\n",
      "Stars : ['3.75', '1', '2.25', '2.75', '4.75', '4', '0.25', '2.5', '5', '4.25', '4.5', '3.5', 'Unrated', '1.5', '3.25', '2', '0', '3', '0.5', '4.00', '5.0', '3.50', '3.8', '4.3', '2.3', '5.00', '3.3', '4.0', '3.00', '1.75', '3.0', '4.50', '0.75', '1.25', '1.1', '2.1', '0.9', '3.1', '4.125', '3.125', '2.125', '2.9', '0.1', '2.8', '3.7', '3.4', '3.6', '2.85', '3.2', '3.65', '1.8'] \n",
      "\n",
      "Top Ten : [nan, '2016 #10', '2016 #1', '2016 #8', '2016 #5', '2016 #9', '2016 #7', '2015 #10', '2015 #7', '2015 #4', '2015 #9', '2015 #6', '2015 #1', '2013 #10', '2015 #8', '2014 #7', '2014 #4', '2014 #9', '2014 #10', '2014 #8', '2014 #5', '2014 #6', '2014 #1', '2013 #1', '2013 #2', '2013 #4', '\\n', '2013 #9', '2013 #3', '2012 #10', '2012 #7', '2012 #5', '2012 #3', '2012 #6', '2012 #9', '2012 #1', '2012 #2', '2013 #6', '2012 #4'] \n",
      "\n"
     ]
    }
   ],
   "source": [
    "columns = ['Style','Country','Stars','Top Ten']\n",
    "for col in columns : \n",
    "    if df[col].dtypes == \"object\" : print(col,\":\" ,df[col].unique().tolist(),\"\\n\")"
   ]
  },
  {
   "cell_type": "markdown",
   "metadata": {},
   "source": [
    "#### 1.2 Investigate categories of each observable 'object' columns\n",
    "* __Style__ has nan value which is meaningless. We know from earlier observation that there are only 2 of them. We can just do nothing about it since its not sizeable but it's worth checking what are the other values of these 2 rows\n",
    "* __Country__ column seems normal\n",
    "* __Starts__ has 'Unrated' value which is later will cause problem when we're converting it to float. Thus it shall somewhat convert to other value before converting. It's also interesting to know how whether it has a sizeable presence or not\n",
    "* __Top Ten__ indicates 2 information which are the year and rank of the noodle. For later ease of exploration, we can split this column into 2. We'll also convert the '\\n' into blank"
   ]
  },
  {
   "cell_type": "markdown",
   "metadata": {},
   "source": [
    "#### 1.3 Operations\n",
    "So, putting things together, some of procedures will be excuted during preprocesing are\n",
    "1. Add underscore for column name that has space\n",
    "2. __Stars:__ Replace 'Unrated' to '-1' and change its data type to float\n",
    "3. __Top Ten:__ replace '\\n' to blank and break the column into 2 (year and rank)"
   ]
  },
  {
   "cell_type": "code",
   "execution_count": 5,
   "metadata": {},
   "outputs": [],
   "source": [
    "#df = pd.read_csv(\"../input/ramen-ratings.csv\")\n",
    "# Store preprocess dataframe to df 1\n",
    "df1=df.copy()"
   ]
  },
  {
   "cell_type": "code",
   "execution_count": 6,
   "metadata": {},
   "outputs": [],
   "source": [
    "# Fix spaces in column name\n",
    "df1.columns = [c.replace(' ', '_') for c in df1.columns]\n",
    "\n",
    "# Stars - Replace 'Unrated'\n",
    "df1.Stars = df1['Stars'].replace(to_replace='Unrated',value='-1')\n",
    "\n",
    "# Stars - Convert data type from object to float\n",
    "df1.Stars = df1.Stars.astype(float)\n",
    "\n",
    "# Top Ten - Replace '\\n'\n",
    "df1.Top_Ten = df1.Top_Ten.replace(to_replace='\\n',value=np.nan)\n",
    "\n",
    "# Top Ten - Slice column into 2 and drop the column \n",
    "df1[['Topten_Year','Topten_Rank']] = df1['Top_Ten'].str.split('#', expand=True)\n",
    "df1 = df1.drop('Top_Ten', axis=1)\n",
    "\n",
    "# Top Ten - Set rank as float \n",
    "df1.Topten_Rank = df1.Topten_Rank.astype(float)"
   ]
  },
  {
   "cell_type": "code",
   "execution_count": 7,
   "metadata": {},
   "outputs": [
    {
     "name": "stdout",
     "output_type": "stream",
     "text": [
      "<class 'pandas.core.frame.DataFrame'>\n",
      "RangeIndex: 2580 entries, 0 to 2579\n",
      "Data columns (total 8 columns):\n",
      "Review_#       2580 non-null int64\n",
      "Brand          2580 non-null object\n",
      "Variety        2580 non-null object\n",
      "Style          2578 non-null object\n",
      "Country        2580 non-null object\n",
      "Stars          2580 non-null float64\n",
      "Topten_Year    37 non-null object\n",
      "Topten_Rank    37 non-null float64\n",
      "dtypes: float64(2), int64(1), object(5)\n",
      "memory usage: 161.4+ KB\n"
     ]
    }
   ],
   "source": [
    "df1[df1.Topten_Rank.notnull()].head(5)\n",
    "df1.info()"
   ]
  },
  {
   "cell_type": "code",
   "execution_count": 8,
   "metadata": {},
   "outputs": [
    {
     "data": {
      "text/html": [
       "<div>\n",
       "<style scoped>\n",
       "    .dataframe tbody tr th:only-of-type {\n",
       "        vertical-align: middle;\n",
       "    }\n",
       "\n",
       "    .dataframe tbody tr th {\n",
       "        vertical-align: top;\n",
       "    }\n",
       "\n",
       "    .dataframe thead th {\n",
       "        text-align: right;\n",
       "    }\n",
       "</style>\n",
       "<table border=\"1\" class=\"dataframe\">\n",
       "  <thead>\n",
       "    <tr style=\"text-align: right;\">\n",
       "      <th></th>\n",
       "      <th>Review_#</th>\n",
       "      <th>Brand</th>\n",
       "      <th>Variety</th>\n",
       "      <th>Style</th>\n",
       "      <th>Country</th>\n",
       "      <th>Stars</th>\n",
       "      <th>Topten_Year</th>\n",
       "      <th>Topten_Rank</th>\n",
       "    </tr>\n",
       "  </thead>\n",
       "  <tbody>\n",
       "    <tr>\n",
       "      <td>0</td>\n",
       "      <td>2580</td>\n",
       "      <td>New Touch</td>\n",
       "      <td>T's Restaurant Tantanmen</td>\n",
       "      <td>Cup</td>\n",
       "      <td>Japan</td>\n",
       "      <td>3.75</td>\n",
       "      <td>NaN</td>\n",
       "      <td>NaN</td>\n",
       "    </tr>\n",
       "    <tr>\n",
       "      <td>1</td>\n",
       "      <td>2579</td>\n",
       "      <td>Just Way</td>\n",
       "      <td>Noodles Spicy Hot Sesame Spicy Hot Sesame Guan...</td>\n",
       "      <td>Pack</td>\n",
       "      <td>Taiwan</td>\n",
       "      <td>1.00</td>\n",
       "      <td>NaN</td>\n",
       "      <td>NaN</td>\n",
       "    </tr>\n",
       "    <tr>\n",
       "      <td>2</td>\n",
       "      <td>2578</td>\n",
       "      <td>Nissin</td>\n",
       "      <td>Cup Noodles Chicken Vegetable</td>\n",
       "      <td>Cup</td>\n",
       "      <td>USA</td>\n",
       "      <td>2.25</td>\n",
       "      <td>NaN</td>\n",
       "      <td>NaN</td>\n",
       "    </tr>\n",
       "    <tr>\n",
       "      <td>3</td>\n",
       "      <td>2577</td>\n",
       "      <td>Wei Lih</td>\n",
       "      <td>GGE Ramen Snack Tomato Flavor</td>\n",
       "      <td>Pack</td>\n",
       "      <td>Taiwan</td>\n",
       "      <td>2.75</td>\n",
       "      <td>NaN</td>\n",
       "      <td>NaN</td>\n",
       "    </tr>\n",
       "    <tr>\n",
       "      <td>4</td>\n",
       "      <td>2576</td>\n",
       "      <td>Ching's Secret</td>\n",
       "      <td>Singapore Curry</td>\n",
       "      <td>Pack</td>\n",
       "      <td>India</td>\n",
       "      <td>3.75</td>\n",
       "      <td>NaN</td>\n",
       "      <td>NaN</td>\n",
       "    </tr>\n",
       "    <tr>\n",
       "      <td>5</td>\n",
       "      <td>2575</td>\n",
       "      <td>Samyang Foods</td>\n",
       "      <td>Kimchi song Song Ramen</td>\n",
       "      <td>Pack</td>\n",
       "      <td>South Korea</td>\n",
       "      <td>4.75</td>\n",
       "      <td>NaN</td>\n",
       "      <td>NaN</td>\n",
       "    </tr>\n",
       "    <tr>\n",
       "      <td>6</td>\n",
       "      <td>2574</td>\n",
       "      <td>Acecook</td>\n",
       "      <td>Spice Deli Tantan Men With Cilantro</td>\n",
       "      <td>Cup</td>\n",
       "      <td>Japan</td>\n",
       "      <td>4.00</td>\n",
       "      <td>NaN</td>\n",
       "      <td>NaN</td>\n",
       "    </tr>\n",
       "    <tr>\n",
       "      <td>7</td>\n",
       "      <td>2573</td>\n",
       "      <td>Ikeda Shoku</td>\n",
       "      <td>Nabeyaki Kitsune Udon</td>\n",
       "      <td>Tray</td>\n",
       "      <td>Japan</td>\n",
       "      <td>3.75</td>\n",
       "      <td>NaN</td>\n",
       "      <td>NaN</td>\n",
       "    </tr>\n",
       "    <tr>\n",
       "      <td>8</td>\n",
       "      <td>2572</td>\n",
       "      <td>Ripe'n'Dry</td>\n",
       "      <td>Hokkaido Soy Sauce Ramen</td>\n",
       "      <td>Pack</td>\n",
       "      <td>Japan</td>\n",
       "      <td>0.25</td>\n",
       "      <td>NaN</td>\n",
       "      <td>NaN</td>\n",
       "    </tr>\n",
       "    <tr>\n",
       "      <td>9</td>\n",
       "      <td>2571</td>\n",
       "      <td>KOKA</td>\n",
       "      <td>The Original Spicy Stir-Fried Noodles</td>\n",
       "      <td>Pack</td>\n",
       "      <td>Singapore</td>\n",
       "      <td>2.50</td>\n",
       "      <td>NaN</td>\n",
       "      <td>NaN</td>\n",
       "    </tr>\n",
       "  </tbody>\n",
       "</table>\n",
       "</div>"
      ],
      "text/plain": [
       "   Review_#           Brand  \\\n",
       "0      2580       New Touch   \n",
       "1      2579        Just Way   \n",
       "2      2578          Nissin   \n",
       "3      2577         Wei Lih   \n",
       "4      2576  Ching's Secret   \n",
       "5      2575   Samyang Foods   \n",
       "6      2574         Acecook   \n",
       "7      2573     Ikeda Shoku   \n",
       "8      2572      Ripe'n'Dry   \n",
       "9      2571            KOKA   \n",
       "\n",
       "                                             Variety Style      Country  \\\n",
       "0                          T's Restaurant Tantanmen    Cup        Japan   \n",
       "1  Noodles Spicy Hot Sesame Spicy Hot Sesame Guan...  Pack       Taiwan   \n",
       "2                      Cup Noodles Chicken Vegetable   Cup          USA   \n",
       "3                      GGE Ramen Snack Tomato Flavor  Pack       Taiwan   \n",
       "4                                    Singapore Curry  Pack        India   \n",
       "5                             Kimchi song Song Ramen  Pack  South Korea   \n",
       "6                Spice Deli Tantan Men With Cilantro   Cup        Japan   \n",
       "7                              Nabeyaki Kitsune Udon  Tray        Japan   \n",
       "8                           Hokkaido Soy Sauce Ramen  Pack        Japan   \n",
       "9              The Original Spicy Stir-Fried Noodles  Pack    Singapore   \n",
       "\n",
       "   Stars Topten_Year  Topten_Rank  \n",
       "0   3.75         NaN          NaN  \n",
       "1   1.00         NaN          NaN  \n",
       "2   2.25         NaN          NaN  \n",
       "3   2.75         NaN          NaN  \n",
       "4   3.75         NaN          NaN  \n",
       "5   4.75         NaN          NaN  \n",
       "6   4.00         NaN          NaN  \n",
       "7   3.75         NaN          NaN  \n",
       "8   0.25         NaN          NaN  \n",
       "9   2.50         NaN          NaN  "
      ]
     },
     "execution_count": 8,
     "metadata": {},
     "output_type": "execute_result"
    }
   ],
   "source": [
    "df1.head(10)"
   ]
  },
  {
   "cell_type": "markdown",
   "metadata": {},
   "source": [
    "### 2. Exploratory\n",
    "To explore, I am curious to know : <br>\n",
    "`1.` What are the average variety and ratings for each brand? <br>\n",
    "`2.` Which country has the highest competition? <br>\n",
    "`3.` How strict a country judge a Ramen? <br>\n",
    "`4.` What is the leading global brand? <br>"
   ]
  },
  {
   "cell_type": "code",
   "execution_count": 9,
   "metadata": {},
   "outputs": [
    {
     "data": {
      "application/vnd.plotly.v1+json": {
       "config": {
        "plotlyServerURL": "https://plot.ly"
       },
       "data": [
        {
         "hoverinfo": "x+y+z+text",
         "hoverlabel": {
          "bgcolor": "rgba(20,189,204,1)",
          "bordercolor": "rgba(20,189,204,0.5)",
          "font": {
           "color": "rgba(255,255,255,1)",
           "family": "Arial",
           "size": 10
          }
         },
         "marker": {
          "color": "rgba(20,189,204,0.2)",
          "line": {
           "color": "#14BDCC",
           "width": 1
          }
         },
         "name": "Variety",
         "type": "histogram",
         "x": [
          1,
          2,
          1,
          4,
          26,
          3,
          12,
          15,
          4,
          2,
          2,
          10,
          3,
          12,
          2,
          4,
          14,
          1,
          5,
          11,
          5,
          2,
          5,
          16,
          3,
          2,
          4,
          1,
          2,
          3,
          1,
          7,
          1,
          5,
          5,
          8,
          1,
          1,
          3,
          1,
          1,
          1,
          2,
          5,
          5,
          1,
          1,
          1,
          1,
          6,
          1,
          13,
          16,
          1,
          1,
          9,
          4,
          3,
          2,
          5,
          1,
          6,
          2,
          6,
          1,
          3,
          5,
          2,
          4,
          4,
          8,
          1,
          1,
          7,
          10,
          1,
          2,
          7,
          2,
          4,
          1,
          3,
          4,
          3,
          12,
          1,
          2,
          1,
          7,
          4,
          1,
          1,
          3,
          2,
          8,
          3,
          2,
          2,
          2,
          1,
          1,
          5,
          1,
          1,
          1,
          2,
          2,
          3,
          10,
          2,
          52,
          1,
          5,
          4,
          2,
          2,
          21,
          1,
          8,
          2,
          25,
          5,
          3,
          15,
          5,
          1,
          2,
          1,
          1,
          1,
          2,
          8,
          10,
          4,
          16,
          1,
          7,
          1,
          3,
          2,
          1,
          1,
          1,
          1,
          1,
          1,
          1,
          14,
          1,
          2,
          5,
          3,
          5,
          34,
          27,
          28,
          1,
          70,
          4,
          26,
          75,
          7,
          27,
          7,
          2,
          8,
          1,
          5,
          12,
          1,
          1,
          1,
          1,
          1,
          6,
          1,
          6,
          15,
          4,
          2,
          1,
          23,
          5,
          62,
          1,
          1,
          1,
          1,
          1,
          2,
          9,
          1,
          369,
          2,
          2,
          94,
          2,
          2,
          1,
          1,
          2,
          3,
          1,
          1,
          4,
          1,
          42,
          4,
          61,
          3,
          4,
          1,
          1,
          1,
          6,
          1,
          3,
          1,
          3,
          11,
          2,
          2,
          1,
          1,
          4,
          7,
          1,
          8,
          1,
          1,
          5,
          6,
          1,
          3,
          1,
          2,
          2,
          6,
          1,
          1,
          11,
          5,
          2,
          5,
          1,
          9,
          2,
          1,
          17,
          51,
          1,
          1,
          1,
          4,
          22,
          7,
          14,
          4,
          3,
          1,
          1,
          5,
          11,
          9,
          4,
          3,
          6,
          1,
          5,
          1,
          1,
          2,
          1,
          1,
          2,
          8,
          7,
          8,
          1,
          1,
          5,
          4,
          8,
          1,
          1,
          1,
          3,
          3,
          1,
          14,
          1,
          6,
          1,
          2,
          1,
          4,
          4,
          3,
          9,
          3,
          3,
          1,
          2,
          1,
          1,
          1,
          2,
          1,
          4,
          4,
          1,
          4,
          4,
          2,
          7,
          1,
          1,
          2,
          12,
          13,
          11,
          1,
          2,
          3,
          6,
          1,
          5,
          24,
          6,
          33,
          34,
          13,
          25,
          6,
          1,
          2,
          15,
          3,
          1,
          6,
          2,
          7,
          12,
          8,
          3,
          1,
          11,
          1,
          2,
          4,
          12,
          1,
          1,
          4,
          2
         ]
        }
       ],
       "layout": {
        "annotations": [
         {
          "align": "left",
          "font": {
           "color": "#1A1817",
           "family": " Raleway,sans-serif",
           "size": 16
          },
          "showarrow": false,
          "text": "<b>Most brand has at most 4 variety</b>",
          "x": -0.05,
          "xanchor": "left",
          "xref": "paper",
          "y": 1.18,
          "yanchor": "top",
          "yref": "paper"
         },
         {
          "align": "left",
          "font": {
           "color": "#98928E",
           "family": "Raleway,sans-serif",
           "size": 14
          },
          "showarrow": false,
          "text": "Total brands by total variety of ramen",
          "x": -0.05,
          "xanchor": "left",
          "xref": "paper",
          "y": 1.12,
          "yanchor": "top",
          "yref": "paper"
         }
        ],
        "font": {
         "color": "#98928E",
         "family": "Raleway, sans-serif",
         "size": 12
        },
        "height": 500,
        "paper_bgcolor": "#fffaf7",
        "plot_bgcolor": "#fffaf7",
        "showlegend": false,
        "template": {
         "data": {
          "bar": [
           {
            "error_x": {
             "color": "#2a3f5f"
            },
            "error_y": {
             "color": "#2a3f5f"
            },
            "marker": {
             "line": {
              "color": "#E5ECF6",
              "width": 0.5
             }
            },
            "type": "bar"
           }
          ],
          "barpolar": [
           {
            "marker": {
             "line": {
              "color": "#E5ECF6",
              "width": 0.5
             }
            },
            "type": "barpolar"
           }
          ],
          "carpet": [
           {
            "aaxis": {
             "endlinecolor": "#2a3f5f",
             "gridcolor": "white",
             "linecolor": "white",
             "minorgridcolor": "white",
             "startlinecolor": "#2a3f5f"
            },
            "baxis": {
             "endlinecolor": "#2a3f5f",
             "gridcolor": "white",
             "linecolor": "white",
             "minorgridcolor": "white",
             "startlinecolor": "#2a3f5f"
            },
            "type": "carpet"
           }
          ],
          "choropleth": [
           {
            "colorbar": {
             "outlinewidth": 0,
             "ticks": ""
            },
            "type": "choropleth"
           }
          ],
          "contour": [
           {
            "colorbar": {
             "outlinewidth": 0,
             "ticks": ""
            },
            "colorscale": [
             [
              0.0,
              "#0d0887"
             ],
             [
              0.1111111111111111,
              "#46039f"
             ],
             [
              0.2222222222222222,
              "#7201a8"
             ],
             [
              0.3333333333333333,
              "#9c179e"
             ],
             [
              0.4444444444444444,
              "#bd3786"
             ],
             [
              0.5555555555555556,
              "#d8576b"
             ],
             [
              0.6666666666666666,
              "#ed7953"
             ],
             [
              0.7777777777777778,
              "#fb9f3a"
             ],
             [
              0.8888888888888888,
              "#fdca26"
             ],
             [
              1.0,
              "#f0f921"
             ]
            ],
            "type": "contour"
           }
          ],
          "contourcarpet": [
           {
            "colorbar": {
             "outlinewidth": 0,
             "ticks": ""
            },
            "type": "contourcarpet"
           }
          ],
          "heatmap": [
           {
            "colorbar": {
             "outlinewidth": 0,
             "ticks": ""
            },
            "colorscale": [
             [
              0.0,
              "#0d0887"
             ],
             [
              0.1111111111111111,
              "#46039f"
             ],
             [
              0.2222222222222222,
              "#7201a8"
             ],
             [
              0.3333333333333333,
              "#9c179e"
             ],
             [
              0.4444444444444444,
              "#bd3786"
             ],
             [
              0.5555555555555556,
              "#d8576b"
             ],
             [
              0.6666666666666666,
              "#ed7953"
             ],
             [
              0.7777777777777778,
              "#fb9f3a"
             ],
             [
              0.8888888888888888,
              "#fdca26"
             ],
             [
              1.0,
              "#f0f921"
             ]
            ],
            "type": "heatmap"
           }
          ],
          "heatmapgl": [
           {
            "colorbar": {
             "outlinewidth": 0,
             "ticks": ""
            },
            "colorscale": [
             [
              0.0,
              "#0d0887"
             ],
             [
              0.1111111111111111,
              "#46039f"
             ],
             [
              0.2222222222222222,
              "#7201a8"
             ],
             [
              0.3333333333333333,
              "#9c179e"
             ],
             [
              0.4444444444444444,
              "#bd3786"
             ],
             [
              0.5555555555555556,
              "#d8576b"
             ],
             [
              0.6666666666666666,
              "#ed7953"
             ],
             [
              0.7777777777777778,
              "#fb9f3a"
             ],
             [
              0.8888888888888888,
              "#fdca26"
             ],
             [
              1.0,
              "#f0f921"
             ]
            ],
            "type": "heatmapgl"
           }
          ],
          "histogram": [
           {
            "marker": {
             "colorbar": {
              "outlinewidth": 0,
              "ticks": ""
             }
            },
            "type": "histogram"
           }
          ],
          "histogram2d": [
           {
            "colorbar": {
             "outlinewidth": 0,
             "ticks": ""
            },
            "colorscale": [
             [
              0.0,
              "#0d0887"
             ],
             [
              0.1111111111111111,
              "#46039f"
             ],
             [
              0.2222222222222222,
              "#7201a8"
             ],
             [
              0.3333333333333333,
              "#9c179e"
             ],
             [
              0.4444444444444444,
              "#bd3786"
             ],
             [
              0.5555555555555556,
              "#d8576b"
             ],
             [
              0.6666666666666666,
              "#ed7953"
             ],
             [
              0.7777777777777778,
              "#fb9f3a"
             ],
             [
              0.8888888888888888,
              "#fdca26"
             ],
             [
              1.0,
              "#f0f921"
             ]
            ],
            "type": "histogram2d"
           }
          ],
          "histogram2dcontour": [
           {
            "colorbar": {
             "outlinewidth": 0,
             "ticks": ""
            },
            "colorscale": [
             [
              0.0,
              "#0d0887"
             ],
             [
              0.1111111111111111,
              "#46039f"
             ],
             [
              0.2222222222222222,
              "#7201a8"
             ],
             [
              0.3333333333333333,
              "#9c179e"
             ],
             [
              0.4444444444444444,
              "#bd3786"
             ],
             [
              0.5555555555555556,
              "#d8576b"
             ],
             [
              0.6666666666666666,
              "#ed7953"
             ],
             [
              0.7777777777777778,
              "#fb9f3a"
             ],
             [
              0.8888888888888888,
              "#fdca26"
             ],
             [
              1.0,
              "#f0f921"
             ]
            ],
            "type": "histogram2dcontour"
           }
          ],
          "mesh3d": [
           {
            "colorbar": {
             "outlinewidth": 0,
             "ticks": ""
            },
            "type": "mesh3d"
           }
          ],
          "parcoords": [
           {
            "line": {
             "colorbar": {
              "outlinewidth": 0,
              "ticks": ""
             }
            },
            "type": "parcoords"
           }
          ],
          "scatter": [
           {
            "marker": {
             "colorbar": {
              "outlinewidth": 0,
              "ticks": ""
             }
            },
            "type": "scatter"
           }
          ],
          "scatter3d": [
           {
            "line": {
             "colorbar": {
              "outlinewidth": 0,
              "ticks": ""
             }
            },
            "marker": {
             "colorbar": {
              "outlinewidth": 0,
              "ticks": ""
             }
            },
            "type": "scatter3d"
           }
          ],
          "scattercarpet": [
           {
            "marker": {
             "colorbar": {
              "outlinewidth": 0,
              "ticks": ""
             }
            },
            "type": "scattercarpet"
           }
          ],
          "scattergeo": [
           {
            "marker": {
             "colorbar": {
              "outlinewidth": 0,
              "ticks": ""
             }
            },
            "type": "scattergeo"
           }
          ],
          "scattergl": [
           {
            "marker": {
             "colorbar": {
              "outlinewidth": 0,
              "ticks": ""
             }
            },
            "type": "scattergl"
           }
          ],
          "scattermapbox": [
           {
            "marker": {
             "colorbar": {
              "outlinewidth": 0,
              "ticks": ""
             }
            },
            "type": "scattermapbox"
           }
          ],
          "scatterpolar": [
           {
            "marker": {
             "colorbar": {
              "outlinewidth": 0,
              "ticks": ""
             }
            },
            "type": "scatterpolar"
           }
          ],
          "scatterpolargl": [
           {
            "marker": {
             "colorbar": {
              "outlinewidth": 0,
              "ticks": ""
             }
            },
            "type": "scatterpolargl"
           }
          ],
          "scatterternary": [
           {
            "marker": {
             "colorbar": {
              "outlinewidth": 0,
              "ticks": ""
             }
            },
            "type": "scatterternary"
           }
          ],
          "surface": [
           {
            "colorbar": {
             "outlinewidth": 0,
             "ticks": ""
            },
            "colorscale": [
             [
              0.0,
              "#0d0887"
             ],
             [
              0.1111111111111111,
              "#46039f"
             ],
             [
              0.2222222222222222,
              "#7201a8"
             ],
             [
              0.3333333333333333,
              "#9c179e"
             ],
             [
              0.4444444444444444,
              "#bd3786"
             ],
             [
              0.5555555555555556,
              "#d8576b"
             ],
             [
              0.6666666666666666,
              "#ed7953"
             ],
             [
              0.7777777777777778,
              "#fb9f3a"
             ],
             [
              0.8888888888888888,
              "#fdca26"
             ],
             [
              1.0,
              "#f0f921"
             ]
            ],
            "type": "surface"
           }
          ],
          "table": [
           {
            "cells": {
             "fill": {
              "color": "#EBF0F8"
             },
             "line": {
              "color": "white"
             }
            },
            "header": {
             "fill": {
              "color": "#C8D4E3"
             },
             "line": {
              "color": "white"
             }
            },
            "type": "table"
           }
          ]
         },
         "layout": {
          "annotationdefaults": {
           "arrowcolor": "#2a3f5f",
           "arrowhead": 0,
           "arrowwidth": 1
          },
          "colorscale": {
           "diverging": [
            [
             0,
             "#8e0152"
            ],
            [
             0.1,
             "#c51b7d"
            ],
            [
             0.2,
             "#de77ae"
            ],
            [
             0.3,
             "#f1b6da"
            ],
            [
             0.4,
             "#fde0ef"
            ],
            [
             0.5,
             "#f7f7f7"
            ],
            [
             0.6,
             "#e6f5d0"
            ],
            [
             0.7,
             "#b8e186"
            ],
            [
             0.8,
             "#7fbc41"
            ],
            [
             0.9,
             "#4d9221"
            ],
            [
             1,
             "#276419"
            ]
           ],
           "sequential": [
            [
             0.0,
             "#0d0887"
            ],
            [
             0.1111111111111111,
             "#46039f"
            ],
            [
             0.2222222222222222,
             "#7201a8"
            ],
            [
             0.3333333333333333,
             "#9c179e"
            ],
            [
             0.4444444444444444,
             "#bd3786"
            ],
            [
             0.5555555555555556,
             "#d8576b"
            ],
            [
             0.6666666666666666,
             "#ed7953"
            ],
            [
             0.7777777777777778,
             "#fb9f3a"
            ],
            [
             0.8888888888888888,
             "#fdca26"
            ],
            [
             1.0,
             "#f0f921"
            ]
           ],
           "sequentialminus": [
            [
             0.0,
             "#0d0887"
            ],
            [
             0.1111111111111111,
             "#46039f"
            ],
            [
             0.2222222222222222,
             "#7201a8"
            ],
            [
             0.3333333333333333,
             "#9c179e"
            ],
            [
             0.4444444444444444,
             "#bd3786"
            ],
            [
             0.5555555555555556,
             "#d8576b"
            ],
            [
             0.6666666666666666,
             "#ed7953"
            ],
            [
             0.7777777777777778,
             "#fb9f3a"
            ],
            [
             0.8888888888888888,
             "#fdca26"
            ],
            [
             1.0,
             "#f0f921"
            ]
           ]
          },
          "colorway": [
           "#636efa",
           "#EF553B",
           "#00cc96",
           "#ab63fa",
           "#FFA15A",
           "#19d3f3",
           "#FF6692",
           "#B6E880",
           "#FF97FF",
           "#FECB52"
          ],
          "font": {
           "color": "#2a3f5f"
          },
          "geo": {
           "bgcolor": "white",
           "lakecolor": "white",
           "landcolor": "#E5ECF6",
           "showlakes": true,
           "showland": true,
           "subunitcolor": "white"
          },
          "hoverlabel": {
           "align": "left"
          },
          "hovermode": "closest",
          "mapbox": {
           "style": "light"
          },
          "paper_bgcolor": "white",
          "plot_bgcolor": "#E5ECF6",
          "polar": {
           "angularaxis": {
            "gridcolor": "white",
            "linecolor": "white",
            "ticks": ""
           },
           "bgcolor": "#E5ECF6",
           "radialaxis": {
            "gridcolor": "white",
            "linecolor": "white",
            "ticks": ""
           }
          },
          "scene": {
           "xaxis": {
            "backgroundcolor": "#E5ECF6",
            "gridcolor": "white",
            "gridwidth": 2,
            "linecolor": "white",
            "showbackground": true,
            "ticks": "",
            "zerolinecolor": "white"
           },
           "yaxis": {
            "backgroundcolor": "#E5ECF6",
            "gridcolor": "white",
            "gridwidth": 2,
            "linecolor": "white",
            "showbackground": true,
            "ticks": "",
            "zerolinecolor": "white"
           },
           "zaxis": {
            "backgroundcolor": "#E5ECF6",
            "gridcolor": "white",
            "gridwidth": 2,
            "linecolor": "white",
            "showbackground": true,
            "ticks": "",
            "zerolinecolor": "white"
           }
          },
          "shapedefaults": {
           "line": {
            "color": "#2a3f5f"
           }
          },
          "ternary": {
           "aaxis": {
            "gridcolor": "white",
            "linecolor": "white",
            "ticks": ""
           },
           "baxis": {
            "gridcolor": "white",
            "linecolor": "white",
            "ticks": ""
           },
           "bgcolor": "#E5ECF6",
           "caxis": {
            "gridcolor": "white",
            "linecolor": "white",
            "ticks": ""
           }
          },
          "title": {
           "x": 0.05
          },
          "xaxis": {
           "automargin": true,
           "gridcolor": "white",
           "linecolor": "white",
           "ticks": "",
           "zerolinecolor": "white",
           "zerolinewidth": 2
          },
          "yaxis": {
           "automargin": true,
           "gridcolor": "white",
           "linecolor": "white",
           "ticks": "",
           "zerolinecolor": "white",
           "zerolinewidth": 2
          }
         }
        },
        "xaxis": {
         "gridcolor": "#F2E9E1",
         "gridwidth": 1,
         "hoverformat": ",.1f",
         "linecolor": "#F2E9E1",
         "linewidth": 2,
         "showgrid": false,
         "showline": true,
         "tickcolor": "#F2E9E1",
         "ticklen": 10,
         "ticks": "outside",
         "tickwidth": 0.5,
         "title": {
          "font": {
           "color": "#1A1817",
           "size": 12
          },
          "text": "<b>VARIETY</b> (total variety)"
         },
         "zeroline": true,
         "zerolinecolor": "crimson",
         "zerolinewidth": 1
        },
        "yaxis": {
         "gridcolor": "#F2E9E1",
         "gridwidth": 1,
         "hoverformat": ",.1f",
         "linecolor": "#F2E9E1",
         "linewidth": 2,
         "showgrid": true,
         "showline": true,
         "tickcolor": "#F2E9E1",
         "ticklen": 10,
         "ticks": "outside",
         "tickwidth": 0.5,
         "title": {
          "font": {
           "color": "#1A1817",
           "size": 12
          },
          "text": "<b>BRAND</b> (total)"
         },
         "zeroline": true,
         "zerolinecolor": "crimson",
         "zerolinewidth": 1
        }
       }
      },
      "text/html": [
       "<div>\n",
       "        \n",
       "        \n",
       "            <div id=\"4a88a53a-9fec-4d8e-8631-ec482d4f7104\" class=\"plotly-graph-div\" style=\"height:500px; width:100%;\"></div>\n",
       "            <script type=\"text/javascript\">\n",
       "                require([\"plotly\"], function(Plotly) {\n",
       "                    window.PLOTLYENV=window.PLOTLYENV || {};\n",
       "                    \n",
       "                if (document.getElementById(\"4a88a53a-9fec-4d8e-8631-ec482d4f7104\")) {\n",
       "                    Plotly.newPlot(\n",
       "                        '4a88a53a-9fec-4d8e-8631-ec482d4f7104',\n",
       "                        [{\"hoverinfo\": \"x+y+z+text\", \"hoverlabel\": {\"bgcolor\": \"rgba(20,189,204,1)\", \"bordercolor\": \"rgba(20,189,204,0.5)\", \"font\": {\"color\": \"rgba(255,255,255,1)\", \"family\": \"Arial\", \"size\": 10}}, \"marker\": {\"color\": \"rgba(20,189,204,0.2)\", \"line\": {\"color\": \"#14BDCC\", \"width\": 1}}, \"name\": \"Variety\", \"type\": \"histogram\", \"x\": [1, 2, 1, 4, 26, 3, 12, 15, 4, 2, 2, 10, 3, 12, 2, 4, 14, 1, 5, 11, 5, 2, 5, 16, 3, 2, 4, 1, 2, 3, 1, 7, 1, 5, 5, 8, 1, 1, 3, 1, 1, 1, 2, 5, 5, 1, 1, 1, 1, 6, 1, 13, 16, 1, 1, 9, 4, 3, 2, 5, 1, 6, 2, 6, 1, 3, 5, 2, 4, 4, 8, 1, 1, 7, 10, 1, 2, 7, 2, 4, 1, 3, 4, 3, 12, 1, 2, 1, 7, 4, 1, 1, 3, 2, 8, 3, 2, 2, 2, 1, 1, 5, 1, 1, 1, 2, 2, 3, 10, 2, 52, 1, 5, 4, 2, 2, 21, 1, 8, 2, 25, 5, 3, 15, 5, 1, 2, 1, 1, 1, 2, 8, 10, 4, 16, 1, 7, 1, 3, 2, 1, 1, 1, 1, 1, 1, 1, 14, 1, 2, 5, 3, 5, 34, 27, 28, 1, 70, 4, 26, 75, 7, 27, 7, 2, 8, 1, 5, 12, 1, 1, 1, 1, 1, 6, 1, 6, 15, 4, 2, 1, 23, 5, 62, 1, 1, 1, 1, 1, 2, 9, 1, 369, 2, 2, 94, 2, 2, 1, 1, 2, 3, 1, 1, 4, 1, 42, 4, 61, 3, 4, 1, 1, 1, 6, 1, 3, 1, 3, 11, 2, 2, 1, 1, 4, 7, 1, 8, 1, 1, 5, 6, 1, 3, 1, 2, 2, 6, 1, 1, 11, 5, 2, 5, 1, 9, 2, 1, 17, 51, 1, 1, 1, 4, 22, 7, 14, 4, 3, 1, 1, 5, 11, 9, 4, 3, 6, 1, 5, 1, 1, 2, 1, 1, 2, 8, 7, 8, 1, 1, 5, 4, 8, 1, 1, 1, 3, 3, 1, 14, 1, 6, 1, 2, 1, 4, 4, 3, 9, 3, 3, 1, 2, 1, 1, 1, 2, 1, 4, 4, 1, 4, 4, 2, 7, 1, 1, 2, 12, 13, 11, 1, 2, 3, 6, 1, 5, 24, 6, 33, 34, 13, 25, 6, 1, 2, 15, 3, 1, 6, 2, 7, 12, 8, 3, 1, 11, 1, 2, 4, 12, 1, 1, 4, 2]}],\n",
       "                        {\"annotations\": [{\"align\": \"left\", \"font\": {\"color\": \"#1A1817\", \"family\": \" Raleway,sans-serif\", \"size\": 16}, \"showarrow\": false, \"text\": \"<b>Most brand has at most 4 variety</b>\", \"x\": -0.05, \"xanchor\": \"left\", \"xref\": \"paper\", \"y\": 1.18, \"yanchor\": \"top\", \"yref\": \"paper\"}, {\"align\": \"left\", \"font\": {\"color\": \"#98928E\", \"family\": \"Raleway,sans-serif\", \"size\": 14}, \"showarrow\": false, \"text\": \"Total brands by total variety of ramen\", \"x\": -0.05, \"xanchor\": \"left\", \"xref\": \"paper\", \"y\": 1.12, \"yanchor\": \"top\", \"yref\": \"paper\"}], \"font\": {\"color\": \"#98928E\", \"family\": \"Raleway, sans-serif\", \"size\": 12}, \"height\": 500, \"paper_bgcolor\": \"#fffaf7\", \"plot_bgcolor\": \"#fffaf7\", \"showlegend\": false, \"template\": {\"data\": {\"bar\": [{\"error_x\": {\"color\": \"#2a3f5f\"}, \"error_y\": {\"color\": \"#2a3f5f\"}, \"marker\": {\"line\": {\"color\": \"#E5ECF6\", \"width\": 0.5}}, \"type\": \"bar\"}], \"barpolar\": [{\"marker\": {\"line\": {\"color\": \"#E5ECF6\", \"width\": 0.5}}, \"type\": \"barpolar\"}], \"carpet\": [{\"aaxis\": {\"endlinecolor\": \"#2a3f5f\", \"gridcolor\": \"white\", \"linecolor\": \"white\", \"minorgridcolor\": \"white\", \"startlinecolor\": \"#2a3f5f\"}, \"baxis\": {\"endlinecolor\": \"#2a3f5f\", \"gridcolor\": \"white\", \"linecolor\": \"white\", \"minorgridcolor\": \"white\", \"startlinecolor\": \"#2a3f5f\"}, \"type\": \"carpet\"}], \"choropleth\": [{\"colorbar\": {\"outlinewidth\": 0, \"ticks\": \"\"}, \"type\": \"choropleth\"}], \"contour\": [{\"colorbar\": {\"outlinewidth\": 0, \"ticks\": \"\"}, \"colorscale\": [[0.0, \"#0d0887\"], [0.1111111111111111, \"#46039f\"], [0.2222222222222222, \"#7201a8\"], [0.3333333333333333, \"#9c179e\"], [0.4444444444444444, \"#bd3786\"], [0.5555555555555556, \"#d8576b\"], [0.6666666666666666, \"#ed7953\"], [0.7777777777777778, \"#fb9f3a\"], [0.8888888888888888, \"#fdca26\"], [1.0, \"#f0f921\"]], \"type\": \"contour\"}], \"contourcarpet\": [{\"colorbar\": {\"outlinewidth\": 0, \"ticks\": \"\"}, \"type\": \"contourcarpet\"}], \"heatmap\": [{\"colorbar\": {\"outlinewidth\": 0, \"ticks\": \"\"}, \"colorscale\": [[0.0, \"#0d0887\"], [0.1111111111111111, \"#46039f\"], [0.2222222222222222, \"#7201a8\"], [0.3333333333333333, \"#9c179e\"], [0.4444444444444444, \"#bd3786\"], [0.5555555555555556, \"#d8576b\"], [0.6666666666666666, \"#ed7953\"], [0.7777777777777778, \"#fb9f3a\"], [0.8888888888888888, \"#fdca26\"], [1.0, \"#f0f921\"]], \"type\": \"heatmap\"}], \"heatmapgl\": [{\"colorbar\": {\"outlinewidth\": 0, \"ticks\": \"\"}, \"colorscale\": [[0.0, \"#0d0887\"], [0.1111111111111111, \"#46039f\"], [0.2222222222222222, \"#7201a8\"], [0.3333333333333333, \"#9c179e\"], [0.4444444444444444, \"#bd3786\"], [0.5555555555555556, \"#d8576b\"], [0.6666666666666666, \"#ed7953\"], [0.7777777777777778, \"#fb9f3a\"], [0.8888888888888888, \"#fdca26\"], [1.0, \"#f0f921\"]], \"type\": \"heatmapgl\"}], \"histogram\": [{\"marker\": {\"colorbar\": {\"outlinewidth\": 0, \"ticks\": \"\"}}, \"type\": \"histogram\"}], \"histogram2d\": [{\"colorbar\": {\"outlinewidth\": 0, \"ticks\": \"\"}, \"colorscale\": [[0.0, \"#0d0887\"], [0.1111111111111111, \"#46039f\"], [0.2222222222222222, \"#7201a8\"], [0.3333333333333333, \"#9c179e\"], [0.4444444444444444, \"#bd3786\"], [0.5555555555555556, \"#d8576b\"], [0.6666666666666666, \"#ed7953\"], [0.7777777777777778, \"#fb9f3a\"], [0.8888888888888888, \"#fdca26\"], [1.0, \"#f0f921\"]], \"type\": \"histogram2d\"}], \"histogram2dcontour\": [{\"colorbar\": {\"outlinewidth\": 0, \"ticks\": \"\"}, \"colorscale\": [[0.0, \"#0d0887\"], [0.1111111111111111, \"#46039f\"], [0.2222222222222222, \"#7201a8\"], [0.3333333333333333, \"#9c179e\"], [0.4444444444444444, \"#bd3786\"], [0.5555555555555556, \"#d8576b\"], [0.6666666666666666, \"#ed7953\"], [0.7777777777777778, \"#fb9f3a\"], [0.8888888888888888, \"#fdca26\"], [1.0, \"#f0f921\"]], \"type\": \"histogram2dcontour\"}], \"mesh3d\": [{\"colorbar\": {\"outlinewidth\": 0, \"ticks\": \"\"}, \"type\": \"mesh3d\"}], \"parcoords\": [{\"line\": {\"colorbar\": {\"outlinewidth\": 0, \"ticks\": \"\"}}, \"type\": \"parcoords\"}], \"scatter\": [{\"marker\": {\"colorbar\": {\"outlinewidth\": 0, \"ticks\": \"\"}}, \"type\": \"scatter\"}], \"scatter3d\": [{\"line\": {\"colorbar\": {\"outlinewidth\": 0, \"ticks\": \"\"}}, \"marker\": {\"colorbar\": {\"outlinewidth\": 0, \"ticks\": \"\"}}, \"type\": \"scatter3d\"}], \"scattercarpet\": [{\"marker\": {\"colorbar\": {\"outlinewidth\": 0, \"ticks\": \"\"}}, \"type\": \"scattercarpet\"}], \"scattergeo\": [{\"marker\": {\"colorbar\": {\"outlinewidth\": 0, \"ticks\": \"\"}}, \"type\": \"scattergeo\"}], \"scattergl\": [{\"marker\": {\"colorbar\": {\"outlinewidth\": 0, \"ticks\": \"\"}}, \"type\": \"scattergl\"}], \"scattermapbox\": [{\"marker\": {\"colorbar\": {\"outlinewidth\": 0, \"ticks\": \"\"}}, \"type\": \"scattermapbox\"}], \"scatterpolar\": [{\"marker\": {\"colorbar\": {\"outlinewidth\": 0, \"ticks\": \"\"}}, \"type\": \"scatterpolar\"}], \"scatterpolargl\": [{\"marker\": {\"colorbar\": {\"outlinewidth\": 0, \"ticks\": \"\"}}, \"type\": \"scatterpolargl\"}], \"scatterternary\": [{\"marker\": {\"colorbar\": {\"outlinewidth\": 0, \"ticks\": \"\"}}, \"type\": \"scatterternary\"}], \"surface\": [{\"colorbar\": {\"outlinewidth\": 0, \"ticks\": \"\"}, \"colorscale\": [[0.0, \"#0d0887\"], [0.1111111111111111, \"#46039f\"], [0.2222222222222222, \"#7201a8\"], [0.3333333333333333, \"#9c179e\"], [0.4444444444444444, \"#bd3786\"], [0.5555555555555556, \"#d8576b\"], [0.6666666666666666, \"#ed7953\"], [0.7777777777777778, \"#fb9f3a\"], [0.8888888888888888, \"#fdca26\"], [1.0, \"#f0f921\"]], \"type\": \"surface\"}], \"table\": [{\"cells\": {\"fill\": {\"color\": \"#EBF0F8\"}, \"line\": {\"color\": \"white\"}}, \"header\": {\"fill\": {\"color\": \"#C8D4E3\"}, \"line\": {\"color\": \"white\"}}, \"type\": \"table\"}]}, \"layout\": {\"annotationdefaults\": {\"arrowcolor\": \"#2a3f5f\", \"arrowhead\": 0, \"arrowwidth\": 1}, \"colorscale\": {\"diverging\": [[0, \"#8e0152\"], [0.1, \"#c51b7d\"], [0.2, \"#de77ae\"], [0.3, \"#f1b6da\"], [0.4, \"#fde0ef\"], [0.5, \"#f7f7f7\"], [0.6, \"#e6f5d0\"], [0.7, \"#b8e186\"], [0.8, \"#7fbc41\"], [0.9, \"#4d9221\"], [1, \"#276419\"]], \"sequential\": [[0.0, \"#0d0887\"], [0.1111111111111111, \"#46039f\"], [0.2222222222222222, \"#7201a8\"], [0.3333333333333333, \"#9c179e\"], [0.4444444444444444, \"#bd3786\"], [0.5555555555555556, \"#d8576b\"], [0.6666666666666666, \"#ed7953\"], [0.7777777777777778, \"#fb9f3a\"], [0.8888888888888888, \"#fdca26\"], [1.0, \"#f0f921\"]], \"sequentialminus\": [[0.0, \"#0d0887\"], [0.1111111111111111, \"#46039f\"], [0.2222222222222222, \"#7201a8\"], [0.3333333333333333, \"#9c179e\"], [0.4444444444444444, \"#bd3786\"], [0.5555555555555556, \"#d8576b\"], [0.6666666666666666, \"#ed7953\"], [0.7777777777777778, \"#fb9f3a\"], [0.8888888888888888, \"#fdca26\"], [1.0, \"#f0f921\"]]}, \"colorway\": [\"#636efa\", \"#EF553B\", \"#00cc96\", \"#ab63fa\", \"#FFA15A\", \"#19d3f3\", \"#FF6692\", \"#B6E880\", \"#FF97FF\", \"#FECB52\"], \"font\": {\"color\": \"#2a3f5f\"}, \"geo\": {\"bgcolor\": \"white\", \"lakecolor\": \"white\", \"landcolor\": \"#E5ECF6\", \"showlakes\": true, \"showland\": true, \"subunitcolor\": \"white\"}, \"hoverlabel\": {\"align\": \"left\"}, \"hovermode\": \"closest\", \"mapbox\": {\"style\": \"light\"}, \"paper_bgcolor\": \"white\", \"plot_bgcolor\": \"#E5ECF6\", \"polar\": {\"angularaxis\": {\"gridcolor\": \"white\", \"linecolor\": \"white\", \"ticks\": \"\"}, \"bgcolor\": \"#E5ECF6\", \"radialaxis\": {\"gridcolor\": \"white\", \"linecolor\": \"white\", \"ticks\": \"\"}}, \"scene\": {\"xaxis\": {\"backgroundcolor\": \"#E5ECF6\", \"gridcolor\": \"white\", \"gridwidth\": 2, \"linecolor\": \"white\", \"showbackground\": true, \"ticks\": \"\", \"zerolinecolor\": \"white\"}, \"yaxis\": {\"backgroundcolor\": \"#E5ECF6\", \"gridcolor\": \"white\", \"gridwidth\": 2, \"linecolor\": \"white\", \"showbackground\": true, \"ticks\": \"\", \"zerolinecolor\": \"white\"}, \"zaxis\": {\"backgroundcolor\": \"#E5ECF6\", \"gridcolor\": \"white\", \"gridwidth\": 2, \"linecolor\": \"white\", \"showbackground\": true, \"ticks\": \"\", \"zerolinecolor\": \"white\"}}, \"shapedefaults\": {\"line\": {\"color\": \"#2a3f5f\"}}, \"ternary\": {\"aaxis\": {\"gridcolor\": \"white\", \"linecolor\": \"white\", \"ticks\": \"\"}, \"baxis\": {\"gridcolor\": \"white\", \"linecolor\": \"white\", \"ticks\": \"\"}, \"bgcolor\": \"#E5ECF6\", \"caxis\": {\"gridcolor\": \"white\", \"linecolor\": \"white\", \"ticks\": \"\"}}, \"title\": {\"x\": 0.05}, \"xaxis\": {\"automargin\": true, \"gridcolor\": \"white\", \"linecolor\": \"white\", \"ticks\": \"\", \"zerolinecolor\": \"white\", \"zerolinewidth\": 2}, \"yaxis\": {\"automargin\": true, \"gridcolor\": \"white\", \"linecolor\": \"white\", \"ticks\": \"\", \"zerolinecolor\": \"white\", \"zerolinewidth\": 2}}}, \"xaxis\": {\"gridcolor\": \"#F2E9E1\", \"gridwidth\": 1, \"hoverformat\": \",.1f\", \"linecolor\": \"#F2E9E1\", \"linewidth\": 2, \"showgrid\": false, \"showline\": true, \"tickcolor\": \"#F2E9E1\", \"ticklen\": 10, \"ticks\": \"outside\", \"tickwidth\": 0.5, \"title\": {\"font\": {\"color\": \"#1A1817\", \"size\": 12}, \"text\": \"<b>VARIETY</b> (total variety)\"}, \"zeroline\": true, \"zerolinecolor\": \"crimson\", \"zerolinewidth\": 1}, \"yaxis\": {\"gridcolor\": \"#F2E9E1\", \"gridwidth\": 1, \"hoverformat\": \",.1f\", \"linecolor\": \"#F2E9E1\", \"linewidth\": 2, \"showgrid\": true, \"showline\": true, \"tickcolor\": \"#F2E9E1\", \"ticklen\": 10, \"ticks\": \"outside\", \"tickwidth\": 0.5, \"title\": {\"font\": {\"color\": \"#1A1817\", \"size\": 12}, \"text\": \"<b>BRAND</b> (total)\"}, \"zeroline\": true, \"zerolinecolor\": \"crimson\", \"zerolinewidth\": 1}},\n",
       "                        {\"responsive\": true}\n",
       "                    ).then(function(){\n",
       "                            \n",
       "var gd = document.getElementById('4a88a53a-9fec-4d8e-8631-ec482d4f7104');\n",
       "var x = new MutationObserver(function (mutations, observer) {{\n",
       "        var display = window.getComputedStyle(gd).display;\n",
       "        if (!display || display === 'none') {{\n",
       "            console.log([gd, 'removed!']);\n",
       "            Plotly.purge(gd);\n",
       "            observer.disconnect();\n",
       "        }}\n",
       "}});\n",
       "\n",
       "// Listen for the removal of the full notebook cells\n",
       "var notebookContainer = gd.closest('#notebook-container');\n",
       "if (notebookContainer) {{\n",
       "    x.observe(notebookContainer, {childList: true});\n",
       "}}\n",
       "\n",
       "// Listen for the clearing of the current output cell\n",
       "var outputEl = gd.closest('.output');\n",
       "if (outputEl) {{\n",
       "    x.observe(outputEl, {childList: true});\n",
       "}}\n",
       "\n",
       "                        })\n",
       "                };\n",
       "                });\n",
       "            </script>\n",
       "        </div>"
      ]
     },
     "metadata": {},
     "output_type": "display_data"
    }
   ],
   "source": [
    "# Preparing data \n",
    "df1_brand_histograms= df1.groupby(['Brand']).agg({'Variety':pd.Series.nunique,'Stars':'mean'})\n",
    "\n",
    "# Generate plot and styling 1 out of 2\n",
    "fig = go.Figure(data=go.Histogram(x=df1_brand_histograms[\"Variety\"],\n",
    "                 marker=dict(color=\"rgba(20,189,204,0.2)\",line=dict(color='#14BDCC', width=1)),\n",
    "                 hoverinfo=\"x+y+z+text\",\n",
    "                 name = \"Variety\",\n",
    "                 hoverlabel = dict(bgcolor=\"rgba(20,189,204,1)\",bordercolor=\"rgba(20,189,204,0.5)\",\n",
    "                       font=dict(family=\"Arial\",size=10,color='rgba(255,255,255,1)'))\n",
    "                ))\n",
    "\n",
    "# Update xaxis properties\n",
    "fig.update_xaxes(title=dict(font=dict(size=12, color='#1A1817')),\n",
    "                 ticks=\"outside\", tickwidth=0.5, tickcolor='#F2E9E1', ticklen=10,hoverformat=\",.1f\",\n",
    "                 showline=True, linewidth=2, linecolor='#F2E9E1',\n",
    "                 showgrid=False, gridwidth=1, gridcolor='#F2E9E1',\n",
    "                 zeroline=True, zerolinewidth=1, zerolinecolor='crimson')\n",
    "fig.update_xaxes(title_text=\"<b>VARIETY</b> (total variety)\")\n",
    "\n",
    "# Update yaxis properties\n",
    "fig.update_yaxes(title= dict(font=dict(size=12, color='#1A1817'),),ticks=\"outside\", tickwidth=0.5, tickcolor='#F2E9E1', ticklen=10, hoverformat=\",.1f\",\n",
    "                 showline=True, linewidth=2, linecolor='#F2E9E1',\n",
    "                 showgrid=True, gridwidth=1, gridcolor='#F2E9E1',\n",
    "                 zeroline=True, zerolinewidth=1, zerolinecolor='crimson',)\n",
    "fig.update_yaxes(title_text=\"<b>BRAND</b> (total)\")\n",
    "\n",
    "fig.update_layout(    \n",
    "    font=dict(family=\"Raleway, sans-serif\", size=12, color='#98928E'),\n",
    "    plot_bgcolor=\"#fffaf7\",\n",
    "    showlegend=False,\n",
    "    paper_bgcolor = \"#fffaf7\",\n",
    "    height = 500,\n",
    "    annotations=[go.layout.Annotation(text=\"<b>Most brand has at most 4 variety</b>\",x=-0.05,y=1.18,xref=\"paper\",yref=\"paper\",showarrow=False,\n",
    "                                      xanchor=\"left\",yanchor=\"top\",align=\"left\",font=dict(family=\" Raleway,sans-serif\", size=16, color='#1A1817')),\n",
    "                 go.layout.Annotation(text=\"Total brands by total variety of ramen\",x=-0.05,y=1.12,xref=\"paper\",yref=\"paper\",showarrow=False,\n",
    "                                      xanchor=\"left\",yanchor=\"top\",align=\"left\",font=dict(family='Raleway,sans-serif', size=14, color='#98928E'))]\n",
    ")\n",
    "fig.show()"
   ]
  },
  {
   "cell_type": "code",
   "execution_count": 10,
   "metadata": {},
   "outputs": [
    {
     "data": {
      "application/vnd.plotly.v1+json": {
       "config": {
        "plotlyServerURL": "https://plot.ly"
       },
       "data": [
        {
         "cumulative": {
          "enabled": true
         },
         "hoverinfo": "x+y+z+text",
         "hoverlabel": {
          "bgcolor": "rgba(20,189,204,1)",
          "bordercolor": "rgba(20,189,204,0.5)",
          "font": {
           "color": "rgba(255,255,255,1)",
           "family": "Arial",
           "size": 10
          }
         },
         "marker": {
          "color": "rgba(20,189,204,0.2)",
          "line": {
           "color": "#14BDCC",
           "width": 1
          }
         },
         "showlegend": false,
         "type": "histogram",
         "x": [
          4.0,
          3.75,
          3.5,
          2.75,
          4.0673076923076925,
          3.0833333333333335,
          4.208333333333333,
          3.27,
          3.8125,
          4.75,
          3.25,
          3.95,
          3.5,
          3.4791666666666665,
          4.5,
          3.4375,
          3.5535714285714284,
          1.0,
          1.95,
          1.25,
          3.7,
          3.5,
          3.3,
          2.921875,
          3.4166666666666665,
          3.375,
          3.5,
          2.5,
          2.875,
          1.0,
          3.0,
          4.928571428571429,
          2.5,
          3.4,
          4.35,
          2.625,
          4.5,
          1.0,
          3.8125,
          4.25,
          5.0,
          4.0,
          3.5,
          3.3,
          2.1,
          0.25,
          4.0,
          5.0,
          5.0,
          3.875,
          3.0,
          4.134615384615385,
          3.296875,
          4.5,
          0.0,
          4.0576923076923075,
          3.9375,
          4.333333333333333,
          3.75,
          4.2,
          3.5,
          3.8214285714285716,
          4.125,
          3.0416666666666665,
          3.75,
          3.1666666666666665,
          1.8,
          5.0,
          4.1875,
          2.6875,
          3.21875,
          4.0,
          3.5,
          3.9642857142857144,
          3.88,
          3.5,
          4.25,
          3.7857142857142856,
          3.125,
          3.4375,
          2.25,
          3.75,
          3.4375,
          3.5833333333333335,
          3.125,
          4.25,
          2.875,
          4.0,
          3.357142857142857,
          1.5,
          1.0,
          3.5,
          3.25,
          3.625,
          3.84375,
          4.416666666666667,
          4.0,
          3.75,
          4.0,
          5.0,
          4.5,
          4.1,
          3.75,
          0.0,
          4.25,
          2.0,
          3.125,
          2.5,
          3.75,
          4.125,
          4.070754716981132,
          4.5,
          3.9,
          3.625,
          3.875,
          4.125,
          3.902173913043478,
          5.0,
          4.375,
          2.75,
          4.21,
          3.85,
          3.25,
          3.4866666666666664,
          4.05,
          3.5,
          5.0,
          0.0,
          3.5,
          5.0,
          3.75,
          2.875,
          3.475,
          1.6875,
          3.75,
          5.0,
          2.0357142857142856,
          2.5,
          4.416666666666667,
          4.0,
          3.0,
          4.0,
          3.5,
          1.0,
          1.5,
          1.5,
          3.5,
          3.3392857142857144,
          4.0,
          2.625,
          2.06,
          3.1666666666666665,
          4.2,
          3.2941176470588234,
          3.8981481481481484,
          3.68,
          4.0,
          3.6288732394366194,
          3.6875,
          3.939655172413793,
          3.554276315789474,
          4.214285714285714,
          3.8482142857142856,
          3.2857142857142856,
          3.75,
          4.25,
          2.5,
          2.75,
          4.145833333333333,
          1.5,
          3.5,
          3.75,
          4.0,
          0.25,
          4.833333333333333,
          4.0,
          3.5500000000000003,
          2.0166666666666666,
          3.125,
          3.0,
          3.5,
          4.947916666666667,
          5.0,
          3.8015873015873014,
          4.25,
          3.0,
          4.0,
          0.25,
          0.5,
          4.875,
          4.277777777777778,
          4.0,
          3.918569553805774,
          2.375,
          2.375,
          4.0,
          1.75,
          5.0,
          2.5,
          5.0,
          4.75,
          3.5,
          3.75,
          0.0,
          3.95,
          3.75,
          3.2989130434782608,
          3.625,
          4.018939393939394,
          2.5833333333333335,
          3.75,
          3.5,
          3.25,
          5.0,
          3.8333333333333335,
          5.0,
          3.5833333333333335,
          5.0,
          3.75,
          3.0,
          4.0,
          3.875,
          4.5,
          2.75,
          5.0,
          5.0,
          3.5,
          3.8125,
          3.25,
          3.0,
          3.2,
          3.4583333333333335,
          1.75,
          2.0833333333333335,
          2.5,
          0.0,
          3.0,
          3.8333333333333335,
          4.0,
          3.25,
          3.230769230769231,
          2.7,
          4.125,
          3.9,
          3.5,
          4.175,
          4.625,
          4.0,
          3.339473684210526,
          3.9711538461538463,
          4.0,
          3.75,
          4.5,
          3.0,
          3.83,
          3.892857142857143,
          3.607142857142857,
          2.375,
          4.25,
          5.0,
          4.5,
          3.2,
          3.2954545454545454,
          4.0,
          2.125,
          2.8333333333333335,
          3.0833333333333335,
          1.5,
          3.2,
          3.5,
          5.0,
          4.0,
          3.0,
          3.75,
          3.875,
          3.2875,
          4.464285714285714,
          3.0,
          2.1,
          1.75,
          3.6,
          3.9375,
          4.21875,
          3.75,
          2.0,
          3.75,
          4.916666666666667,
          4.416666666666667,
          5.0,
          4.160714285714286,
          5.0,
          3.875,
          1.25,
          2.5,
          2.0,
          1.5625,
          3.6875,
          3.4166666666666665,
          3.375,
          3.25,
          2.0,
          5.0,
          4.5,
          5.0,
          3.0,
          0.0,
          2.375,
          2.25,
          3.8125,
          3.4375,
          5.0,
          3.2,
          2.75,
          3.75,
          4.821428571428571,
          3.0,
          0.0,
          3.75,
          3.9583333333333335,
          3.553846153846154,
          3.1136363636363638,
          1.0,
          3.875,
          2.9166666666666665,
          3.375,
          1.0,
          2.5,
          3.141666666666667,
          2.4166666666666665,
          3.0545454545454547,
          3.536764705882353,
          4.211538461538462,
          2.9339999999999997,
          3.5833333333333335,
          1.0,
          3.625,
          3.45,
          3.4166666666666665,
          0.5,
          1.7083333333333333,
          4.75,
          3.642857142857143,
          3.7708333333333335,
          4.125,
          4.1000000000000005,
          4.25,
          4.568181818181818,
          3.25,
          4.625,
          4.1875,
          3.75,
          3.5,
          3.75,
          3.5,
          3.0
         ]
        }
       ],
       "layout": {
        "annotations": [
         {
          "align": "left",
          "font": {
           "color": "#1A1817",
           "family": " Raleway,sans-serif",
           "size": 16
          },
          "showarrow": false,
          "text": "<b>Most brand rated less than 4</b>",
          "x": -0.05,
          "xanchor": "left",
          "xref": "paper",
          "y": 1.18,
          "yanchor": "top",
          "yref": "paper"
         },
         {
          "align": "left",
          "font": {
           "color": "#98928E",
           "family": "Raleway,sans-serif",
           "size": 14
          },
          "showarrow": false,
          "text": "Total brands (cummulative) by average ratings",
          "x": -0.05,
          "xanchor": "left",
          "xref": "paper",
          "y": 1.12,
          "yanchor": "top",
          "yref": "paper"
         }
        ],
        "font": {
         "color": "#98928E",
         "family": "Raleway, sans-serif",
         "size": 12
        },
        "height": 500,
        "paper_bgcolor": "#fffaf7",
        "plot_bgcolor": "#fffaf7",
        "showlegend": false,
        "template": {
         "data": {
          "bar": [
           {
            "error_x": {
             "color": "#2a3f5f"
            },
            "error_y": {
             "color": "#2a3f5f"
            },
            "marker": {
             "line": {
              "color": "#E5ECF6",
              "width": 0.5
             }
            },
            "type": "bar"
           }
          ],
          "barpolar": [
           {
            "marker": {
             "line": {
              "color": "#E5ECF6",
              "width": 0.5
             }
            },
            "type": "barpolar"
           }
          ],
          "carpet": [
           {
            "aaxis": {
             "endlinecolor": "#2a3f5f",
             "gridcolor": "white",
             "linecolor": "white",
             "minorgridcolor": "white",
             "startlinecolor": "#2a3f5f"
            },
            "baxis": {
             "endlinecolor": "#2a3f5f",
             "gridcolor": "white",
             "linecolor": "white",
             "minorgridcolor": "white",
             "startlinecolor": "#2a3f5f"
            },
            "type": "carpet"
           }
          ],
          "choropleth": [
           {
            "colorbar": {
             "outlinewidth": 0,
             "ticks": ""
            },
            "type": "choropleth"
           }
          ],
          "contour": [
           {
            "colorbar": {
             "outlinewidth": 0,
             "ticks": ""
            },
            "colorscale": [
             [
              0.0,
              "#0d0887"
             ],
             [
              0.1111111111111111,
              "#46039f"
             ],
             [
              0.2222222222222222,
              "#7201a8"
             ],
             [
              0.3333333333333333,
              "#9c179e"
             ],
             [
              0.4444444444444444,
              "#bd3786"
             ],
             [
              0.5555555555555556,
              "#d8576b"
             ],
             [
              0.6666666666666666,
              "#ed7953"
             ],
             [
              0.7777777777777778,
              "#fb9f3a"
             ],
             [
              0.8888888888888888,
              "#fdca26"
             ],
             [
              1.0,
              "#f0f921"
             ]
            ],
            "type": "contour"
           }
          ],
          "contourcarpet": [
           {
            "colorbar": {
             "outlinewidth": 0,
             "ticks": ""
            },
            "type": "contourcarpet"
           }
          ],
          "heatmap": [
           {
            "colorbar": {
             "outlinewidth": 0,
             "ticks": ""
            },
            "colorscale": [
             [
              0.0,
              "#0d0887"
             ],
             [
              0.1111111111111111,
              "#46039f"
             ],
             [
              0.2222222222222222,
              "#7201a8"
             ],
             [
              0.3333333333333333,
              "#9c179e"
             ],
             [
              0.4444444444444444,
              "#bd3786"
             ],
             [
              0.5555555555555556,
              "#d8576b"
             ],
             [
              0.6666666666666666,
              "#ed7953"
             ],
             [
              0.7777777777777778,
              "#fb9f3a"
             ],
             [
              0.8888888888888888,
              "#fdca26"
             ],
             [
              1.0,
              "#f0f921"
             ]
            ],
            "type": "heatmap"
           }
          ],
          "heatmapgl": [
           {
            "colorbar": {
             "outlinewidth": 0,
             "ticks": ""
            },
            "colorscale": [
             [
              0.0,
              "#0d0887"
             ],
             [
              0.1111111111111111,
              "#46039f"
             ],
             [
              0.2222222222222222,
              "#7201a8"
             ],
             [
              0.3333333333333333,
              "#9c179e"
             ],
             [
              0.4444444444444444,
              "#bd3786"
             ],
             [
              0.5555555555555556,
              "#d8576b"
             ],
             [
              0.6666666666666666,
              "#ed7953"
             ],
             [
              0.7777777777777778,
              "#fb9f3a"
             ],
             [
              0.8888888888888888,
              "#fdca26"
             ],
             [
              1.0,
              "#f0f921"
             ]
            ],
            "type": "heatmapgl"
           }
          ],
          "histogram": [
           {
            "marker": {
             "colorbar": {
              "outlinewidth": 0,
              "ticks": ""
             }
            },
            "type": "histogram"
           }
          ],
          "histogram2d": [
           {
            "colorbar": {
             "outlinewidth": 0,
             "ticks": ""
            },
            "colorscale": [
             [
              0.0,
              "#0d0887"
             ],
             [
              0.1111111111111111,
              "#46039f"
             ],
             [
              0.2222222222222222,
              "#7201a8"
             ],
             [
              0.3333333333333333,
              "#9c179e"
             ],
             [
              0.4444444444444444,
              "#bd3786"
             ],
             [
              0.5555555555555556,
              "#d8576b"
             ],
             [
              0.6666666666666666,
              "#ed7953"
             ],
             [
              0.7777777777777778,
              "#fb9f3a"
             ],
             [
              0.8888888888888888,
              "#fdca26"
             ],
             [
              1.0,
              "#f0f921"
             ]
            ],
            "type": "histogram2d"
           }
          ],
          "histogram2dcontour": [
           {
            "colorbar": {
             "outlinewidth": 0,
             "ticks": ""
            },
            "colorscale": [
             [
              0.0,
              "#0d0887"
             ],
             [
              0.1111111111111111,
              "#46039f"
             ],
             [
              0.2222222222222222,
              "#7201a8"
             ],
             [
              0.3333333333333333,
              "#9c179e"
             ],
             [
              0.4444444444444444,
              "#bd3786"
             ],
             [
              0.5555555555555556,
              "#d8576b"
             ],
             [
              0.6666666666666666,
              "#ed7953"
             ],
             [
              0.7777777777777778,
              "#fb9f3a"
             ],
             [
              0.8888888888888888,
              "#fdca26"
             ],
             [
              1.0,
              "#f0f921"
             ]
            ],
            "type": "histogram2dcontour"
           }
          ],
          "mesh3d": [
           {
            "colorbar": {
             "outlinewidth": 0,
             "ticks": ""
            },
            "type": "mesh3d"
           }
          ],
          "parcoords": [
           {
            "line": {
             "colorbar": {
              "outlinewidth": 0,
              "ticks": ""
             }
            },
            "type": "parcoords"
           }
          ],
          "scatter": [
           {
            "marker": {
             "colorbar": {
              "outlinewidth": 0,
              "ticks": ""
             }
            },
            "type": "scatter"
           }
          ],
          "scatter3d": [
           {
            "line": {
             "colorbar": {
              "outlinewidth": 0,
              "ticks": ""
             }
            },
            "marker": {
             "colorbar": {
              "outlinewidth": 0,
              "ticks": ""
             }
            },
            "type": "scatter3d"
           }
          ],
          "scattercarpet": [
           {
            "marker": {
             "colorbar": {
              "outlinewidth": 0,
              "ticks": ""
             }
            },
            "type": "scattercarpet"
           }
          ],
          "scattergeo": [
           {
            "marker": {
             "colorbar": {
              "outlinewidth": 0,
              "ticks": ""
             }
            },
            "type": "scattergeo"
           }
          ],
          "scattergl": [
           {
            "marker": {
             "colorbar": {
              "outlinewidth": 0,
              "ticks": ""
             }
            },
            "type": "scattergl"
           }
          ],
          "scattermapbox": [
           {
            "marker": {
             "colorbar": {
              "outlinewidth": 0,
              "ticks": ""
             }
            },
            "type": "scattermapbox"
           }
          ],
          "scatterpolar": [
           {
            "marker": {
             "colorbar": {
              "outlinewidth": 0,
              "ticks": ""
             }
            },
            "type": "scatterpolar"
           }
          ],
          "scatterpolargl": [
           {
            "marker": {
             "colorbar": {
              "outlinewidth": 0,
              "ticks": ""
             }
            },
            "type": "scatterpolargl"
           }
          ],
          "scatterternary": [
           {
            "marker": {
             "colorbar": {
              "outlinewidth": 0,
              "ticks": ""
             }
            },
            "type": "scatterternary"
           }
          ],
          "surface": [
           {
            "colorbar": {
             "outlinewidth": 0,
             "ticks": ""
            },
            "colorscale": [
             [
              0.0,
              "#0d0887"
             ],
             [
              0.1111111111111111,
              "#46039f"
             ],
             [
              0.2222222222222222,
              "#7201a8"
             ],
             [
              0.3333333333333333,
              "#9c179e"
             ],
             [
              0.4444444444444444,
              "#bd3786"
             ],
             [
              0.5555555555555556,
              "#d8576b"
             ],
             [
              0.6666666666666666,
              "#ed7953"
             ],
             [
              0.7777777777777778,
              "#fb9f3a"
             ],
             [
              0.8888888888888888,
              "#fdca26"
             ],
             [
              1.0,
              "#f0f921"
             ]
            ],
            "type": "surface"
           }
          ],
          "table": [
           {
            "cells": {
             "fill": {
              "color": "#EBF0F8"
             },
             "line": {
              "color": "white"
             }
            },
            "header": {
             "fill": {
              "color": "#C8D4E3"
             },
             "line": {
              "color": "white"
             }
            },
            "type": "table"
           }
          ]
         },
         "layout": {
          "annotationdefaults": {
           "arrowcolor": "#2a3f5f",
           "arrowhead": 0,
           "arrowwidth": 1
          },
          "colorscale": {
           "diverging": [
            [
             0,
             "#8e0152"
            ],
            [
             0.1,
             "#c51b7d"
            ],
            [
             0.2,
             "#de77ae"
            ],
            [
             0.3,
             "#f1b6da"
            ],
            [
             0.4,
             "#fde0ef"
            ],
            [
             0.5,
             "#f7f7f7"
            ],
            [
             0.6,
             "#e6f5d0"
            ],
            [
             0.7,
             "#b8e186"
            ],
            [
             0.8,
             "#7fbc41"
            ],
            [
             0.9,
             "#4d9221"
            ],
            [
             1,
             "#276419"
            ]
           ],
           "sequential": [
            [
             0.0,
             "#0d0887"
            ],
            [
             0.1111111111111111,
             "#46039f"
            ],
            [
             0.2222222222222222,
             "#7201a8"
            ],
            [
             0.3333333333333333,
             "#9c179e"
            ],
            [
             0.4444444444444444,
             "#bd3786"
            ],
            [
             0.5555555555555556,
             "#d8576b"
            ],
            [
             0.6666666666666666,
             "#ed7953"
            ],
            [
             0.7777777777777778,
             "#fb9f3a"
            ],
            [
             0.8888888888888888,
             "#fdca26"
            ],
            [
             1.0,
             "#f0f921"
            ]
           ],
           "sequentialminus": [
            [
             0.0,
             "#0d0887"
            ],
            [
             0.1111111111111111,
             "#46039f"
            ],
            [
             0.2222222222222222,
             "#7201a8"
            ],
            [
             0.3333333333333333,
             "#9c179e"
            ],
            [
             0.4444444444444444,
             "#bd3786"
            ],
            [
             0.5555555555555556,
             "#d8576b"
            ],
            [
             0.6666666666666666,
             "#ed7953"
            ],
            [
             0.7777777777777778,
             "#fb9f3a"
            ],
            [
             0.8888888888888888,
             "#fdca26"
            ],
            [
             1.0,
             "#f0f921"
            ]
           ]
          },
          "colorway": [
           "#636efa",
           "#EF553B",
           "#00cc96",
           "#ab63fa",
           "#FFA15A",
           "#19d3f3",
           "#FF6692",
           "#B6E880",
           "#FF97FF",
           "#FECB52"
          ],
          "font": {
           "color": "#2a3f5f"
          },
          "geo": {
           "bgcolor": "white",
           "lakecolor": "white",
           "landcolor": "#E5ECF6",
           "showlakes": true,
           "showland": true,
           "subunitcolor": "white"
          },
          "hoverlabel": {
           "align": "left"
          },
          "hovermode": "closest",
          "mapbox": {
           "style": "light"
          },
          "paper_bgcolor": "white",
          "plot_bgcolor": "#E5ECF6",
          "polar": {
           "angularaxis": {
            "gridcolor": "white",
            "linecolor": "white",
            "ticks": ""
           },
           "bgcolor": "#E5ECF6",
           "radialaxis": {
            "gridcolor": "white",
            "linecolor": "white",
            "ticks": ""
           }
          },
          "scene": {
           "xaxis": {
            "backgroundcolor": "#E5ECF6",
            "gridcolor": "white",
            "gridwidth": 2,
            "linecolor": "white",
            "showbackground": true,
            "ticks": "",
            "zerolinecolor": "white"
           },
           "yaxis": {
            "backgroundcolor": "#E5ECF6",
            "gridcolor": "white",
            "gridwidth": 2,
            "linecolor": "white",
            "showbackground": true,
            "ticks": "",
            "zerolinecolor": "white"
           },
           "zaxis": {
            "backgroundcolor": "#E5ECF6",
            "gridcolor": "white",
            "gridwidth": 2,
            "linecolor": "white",
            "showbackground": true,
            "ticks": "",
            "zerolinecolor": "white"
           }
          },
          "shapedefaults": {
           "line": {
            "color": "#2a3f5f"
           }
          },
          "ternary": {
           "aaxis": {
            "gridcolor": "white",
            "linecolor": "white",
            "ticks": ""
           },
           "baxis": {
            "gridcolor": "white",
            "linecolor": "white",
            "ticks": ""
           },
           "bgcolor": "#E5ECF6",
           "caxis": {
            "gridcolor": "white",
            "linecolor": "white",
            "ticks": ""
           }
          },
          "title": {
           "x": 0.05
          },
          "xaxis": {
           "automargin": true,
           "gridcolor": "white",
           "linecolor": "white",
           "ticks": "",
           "zerolinecolor": "white",
           "zerolinewidth": 2
          },
          "yaxis": {
           "automargin": true,
           "gridcolor": "white",
           "linecolor": "white",
           "ticks": "",
           "zerolinecolor": "white",
           "zerolinewidth": 2
          }
         }
        },
        "xaxis": {
         "gridcolor": "#F2E9E1",
         "gridwidth": 1,
         "hoverformat": ",.1f",
         "linecolor": "#F2E9E1",
         "linewidth": 2,
         "showgrid": false,
         "showline": true,
         "tickcolor": "#F2E9E1",
         "ticklen": 10,
         "ticks": "outside",
         "tickwidth": 0.5,
         "title": {
          "font": {
           "color": "#1A1817",
           "size": 12
          },
          "text": "<b>STARS</b> (average ratings)"
         },
         "zeroline": true,
         "zerolinecolor": "crimson",
         "zerolinewidth": 1
        },
        "yaxis": {
         "gridcolor": "#F2E9E1",
         "gridwidth": 1,
         "hoverformat": ",.1f",
         "linecolor": "#F2E9E1",
         "linewidth": 2,
         "showgrid": true,
         "showline": true,
         "tickcolor": "#F2E9E1",
         "ticklen": 10,
         "ticks": "outside",
         "tickwidth": 0.5,
         "title": {
          "font": {
           "color": "#1A1817",
           "size": 12
          },
          "text": "<b>BRAND</b> (total cummulative)"
         },
         "zeroline": true,
         "zerolinecolor": "crimson",
         "zerolinewidth": 1
        }
       }
      },
      "text/html": [
       "<div>\n",
       "        \n",
       "        \n",
       "            <div id=\"750de488-d51c-400e-aef8-6a448ba47593\" class=\"plotly-graph-div\" style=\"height:500px; width:100%;\"></div>\n",
       "            <script type=\"text/javascript\">\n",
       "                require([\"plotly\"], function(Plotly) {\n",
       "                    window.PLOTLYENV=window.PLOTLYENV || {};\n",
       "                    \n",
       "                if (document.getElementById(\"750de488-d51c-400e-aef8-6a448ba47593\")) {\n",
       "                    Plotly.newPlot(\n",
       "                        '750de488-d51c-400e-aef8-6a448ba47593',\n",
       "                        [{\"cumulative\": {\"enabled\": true}, \"hoverinfo\": \"x+y+z+text\", \"hoverlabel\": {\"bgcolor\": \"rgba(20,189,204,1)\", \"bordercolor\": \"rgba(20,189,204,0.5)\", \"font\": {\"color\": \"rgba(255,255,255,1)\", \"family\": \"Arial\", \"size\": 10}}, \"marker\": {\"color\": \"rgba(20,189,204,0.2)\", \"line\": {\"color\": \"#14BDCC\", \"width\": 1}}, \"showlegend\": false, \"type\": \"histogram\", \"x\": [4.0, 3.75, 3.5, 2.75, 4.0673076923076925, 3.0833333333333335, 4.208333333333333, 3.27, 3.8125, 4.75, 3.25, 3.95, 3.5, 3.4791666666666665, 4.5, 3.4375, 3.5535714285714284, 1.0, 1.95, 1.25, 3.7, 3.5, 3.3, 2.921875, 3.4166666666666665, 3.375, 3.5, 2.5, 2.875, 1.0, 3.0, 4.928571428571429, 2.5, 3.4, 4.35, 2.625, 4.5, 1.0, 3.8125, 4.25, 5.0, 4.0, 3.5, 3.3, 2.1, 0.25, 4.0, 5.0, 5.0, 3.875, 3.0, 4.134615384615385, 3.296875, 4.5, 0.0, 4.0576923076923075, 3.9375, 4.333333333333333, 3.75, 4.2, 3.5, 3.8214285714285716, 4.125, 3.0416666666666665, 3.75, 3.1666666666666665, 1.8, 5.0, 4.1875, 2.6875, 3.21875, 4.0, 3.5, 3.9642857142857144, 3.88, 3.5, 4.25, 3.7857142857142856, 3.125, 3.4375, 2.25, 3.75, 3.4375, 3.5833333333333335, 3.125, 4.25, 2.875, 4.0, 3.357142857142857, 1.5, 1.0, 3.5, 3.25, 3.625, 3.84375, 4.416666666666667, 4.0, 3.75, 4.0, 5.0, 4.5, 4.1, 3.75, 0.0, 4.25, 2.0, 3.125, 2.5, 3.75, 4.125, 4.070754716981132, 4.5, 3.9, 3.625, 3.875, 4.125, 3.902173913043478, 5.0, 4.375, 2.75, 4.21, 3.85, 3.25, 3.4866666666666664, 4.05, 3.5, 5.0, 0.0, 3.5, 5.0, 3.75, 2.875, 3.475, 1.6875, 3.75, 5.0, 2.0357142857142856, 2.5, 4.416666666666667, 4.0, 3.0, 4.0, 3.5, 1.0, 1.5, 1.5, 3.5, 3.3392857142857144, 4.0, 2.625, 2.06, 3.1666666666666665, 4.2, 3.2941176470588234, 3.8981481481481484, 3.68, 4.0, 3.6288732394366194, 3.6875, 3.939655172413793, 3.554276315789474, 4.214285714285714, 3.8482142857142856, 3.2857142857142856, 3.75, 4.25, 2.5, 2.75, 4.145833333333333, 1.5, 3.5, 3.75, 4.0, 0.25, 4.833333333333333, 4.0, 3.5500000000000003, 2.0166666666666666, 3.125, 3.0, 3.5, 4.947916666666667, 5.0, 3.8015873015873014, 4.25, 3.0, 4.0, 0.25, 0.5, 4.875, 4.277777777777778, 4.0, 3.918569553805774, 2.375, 2.375, 4.0, 1.75, 5.0, 2.5, 5.0, 4.75, 3.5, 3.75, 0.0, 3.95, 3.75, 3.2989130434782608, 3.625, 4.018939393939394, 2.5833333333333335, 3.75, 3.5, 3.25, 5.0, 3.8333333333333335, 5.0, 3.5833333333333335, 5.0, 3.75, 3.0, 4.0, 3.875, 4.5, 2.75, 5.0, 5.0, 3.5, 3.8125, 3.25, 3.0, 3.2, 3.4583333333333335, 1.75, 2.0833333333333335, 2.5, 0.0, 3.0, 3.8333333333333335, 4.0, 3.25, 3.230769230769231, 2.7, 4.125, 3.9, 3.5, 4.175, 4.625, 4.0, 3.339473684210526, 3.9711538461538463, 4.0, 3.75, 4.5, 3.0, 3.83, 3.892857142857143, 3.607142857142857, 2.375, 4.25, 5.0, 4.5, 3.2, 3.2954545454545454, 4.0, 2.125, 2.8333333333333335, 3.0833333333333335, 1.5, 3.2, 3.5, 5.0, 4.0, 3.0, 3.75, 3.875, 3.2875, 4.464285714285714, 3.0, 2.1, 1.75, 3.6, 3.9375, 4.21875, 3.75, 2.0, 3.75, 4.916666666666667, 4.416666666666667, 5.0, 4.160714285714286, 5.0, 3.875, 1.25, 2.5, 2.0, 1.5625, 3.6875, 3.4166666666666665, 3.375, 3.25, 2.0, 5.0, 4.5, 5.0, 3.0, 0.0, 2.375, 2.25, 3.8125, 3.4375, 5.0, 3.2, 2.75, 3.75, 4.821428571428571, 3.0, 0.0, 3.75, 3.9583333333333335, 3.553846153846154, 3.1136363636363638, 1.0, 3.875, 2.9166666666666665, 3.375, 1.0, 2.5, 3.141666666666667, 2.4166666666666665, 3.0545454545454547, 3.536764705882353, 4.211538461538462, 2.9339999999999997, 3.5833333333333335, 1.0, 3.625, 3.45, 3.4166666666666665, 0.5, 1.7083333333333333, 4.75, 3.642857142857143, 3.7708333333333335, 4.125, 4.1000000000000005, 4.25, 4.568181818181818, 3.25, 4.625, 4.1875, 3.75, 3.5, 3.75, 3.5, 3.0]}],\n",
       "                        {\"annotations\": [{\"align\": \"left\", \"font\": {\"color\": \"#1A1817\", \"family\": \" Raleway,sans-serif\", \"size\": 16}, \"showarrow\": false, \"text\": \"<b>Most brand rated less than 4</b>\", \"x\": -0.05, \"xanchor\": \"left\", \"xref\": \"paper\", \"y\": 1.18, \"yanchor\": \"top\", \"yref\": \"paper\"}, {\"align\": \"left\", \"font\": {\"color\": \"#98928E\", \"family\": \"Raleway,sans-serif\", \"size\": 14}, \"showarrow\": false, \"text\": \"Total brands (cummulative) by average ratings\", \"x\": -0.05, \"xanchor\": \"left\", \"xref\": \"paper\", \"y\": 1.12, \"yanchor\": \"top\", \"yref\": \"paper\"}], \"font\": {\"color\": \"#98928E\", \"family\": \"Raleway, sans-serif\", \"size\": 12}, \"height\": 500, \"paper_bgcolor\": \"#fffaf7\", \"plot_bgcolor\": \"#fffaf7\", \"showlegend\": false, \"template\": {\"data\": {\"bar\": [{\"error_x\": {\"color\": \"#2a3f5f\"}, \"error_y\": {\"color\": \"#2a3f5f\"}, \"marker\": {\"line\": {\"color\": \"#E5ECF6\", \"width\": 0.5}}, \"type\": \"bar\"}], \"barpolar\": [{\"marker\": {\"line\": {\"color\": \"#E5ECF6\", \"width\": 0.5}}, \"type\": \"barpolar\"}], \"carpet\": [{\"aaxis\": {\"endlinecolor\": \"#2a3f5f\", \"gridcolor\": \"white\", \"linecolor\": \"white\", \"minorgridcolor\": \"white\", \"startlinecolor\": \"#2a3f5f\"}, \"baxis\": {\"endlinecolor\": \"#2a3f5f\", \"gridcolor\": \"white\", \"linecolor\": \"white\", \"minorgridcolor\": \"white\", \"startlinecolor\": \"#2a3f5f\"}, \"type\": \"carpet\"}], \"choropleth\": [{\"colorbar\": {\"outlinewidth\": 0, \"ticks\": \"\"}, \"type\": \"choropleth\"}], \"contour\": [{\"colorbar\": {\"outlinewidth\": 0, \"ticks\": \"\"}, \"colorscale\": [[0.0, \"#0d0887\"], [0.1111111111111111, \"#46039f\"], [0.2222222222222222, \"#7201a8\"], [0.3333333333333333, \"#9c179e\"], [0.4444444444444444, \"#bd3786\"], [0.5555555555555556, \"#d8576b\"], [0.6666666666666666, \"#ed7953\"], [0.7777777777777778, \"#fb9f3a\"], [0.8888888888888888, \"#fdca26\"], [1.0, \"#f0f921\"]], \"type\": \"contour\"}], \"contourcarpet\": [{\"colorbar\": {\"outlinewidth\": 0, \"ticks\": \"\"}, \"type\": \"contourcarpet\"}], \"heatmap\": [{\"colorbar\": {\"outlinewidth\": 0, \"ticks\": \"\"}, \"colorscale\": [[0.0, \"#0d0887\"], [0.1111111111111111, \"#46039f\"], [0.2222222222222222, \"#7201a8\"], [0.3333333333333333, \"#9c179e\"], [0.4444444444444444, \"#bd3786\"], [0.5555555555555556, \"#d8576b\"], [0.6666666666666666, \"#ed7953\"], [0.7777777777777778, \"#fb9f3a\"], [0.8888888888888888, \"#fdca26\"], [1.0, \"#f0f921\"]], \"type\": \"heatmap\"}], \"heatmapgl\": [{\"colorbar\": {\"outlinewidth\": 0, \"ticks\": \"\"}, \"colorscale\": [[0.0, \"#0d0887\"], [0.1111111111111111, \"#46039f\"], [0.2222222222222222, \"#7201a8\"], [0.3333333333333333, \"#9c179e\"], [0.4444444444444444, \"#bd3786\"], [0.5555555555555556, \"#d8576b\"], [0.6666666666666666, \"#ed7953\"], [0.7777777777777778, \"#fb9f3a\"], [0.8888888888888888, \"#fdca26\"], [1.0, \"#f0f921\"]], \"type\": \"heatmapgl\"}], \"histogram\": [{\"marker\": {\"colorbar\": {\"outlinewidth\": 0, \"ticks\": \"\"}}, \"type\": \"histogram\"}], \"histogram2d\": [{\"colorbar\": {\"outlinewidth\": 0, \"ticks\": \"\"}, \"colorscale\": [[0.0, \"#0d0887\"], [0.1111111111111111, \"#46039f\"], [0.2222222222222222, \"#7201a8\"], [0.3333333333333333, \"#9c179e\"], [0.4444444444444444, \"#bd3786\"], [0.5555555555555556, \"#d8576b\"], [0.6666666666666666, \"#ed7953\"], [0.7777777777777778, \"#fb9f3a\"], [0.8888888888888888, \"#fdca26\"], [1.0, \"#f0f921\"]], \"type\": \"histogram2d\"}], \"histogram2dcontour\": [{\"colorbar\": {\"outlinewidth\": 0, \"ticks\": \"\"}, \"colorscale\": [[0.0, \"#0d0887\"], [0.1111111111111111, \"#46039f\"], [0.2222222222222222, \"#7201a8\"], [0.3333333333333333, \"#9c179e\"], [0.4444444444444444, \"#bd3786\"], [0.5555555555555556, \"#d8576b\"], [0.6666666666666666, \"#ed7953\"], [0.7777777777777778, \"#fb9f3a\"], [0.8888888888888888, \"#fdca26\"], [1.0, \"#f0f921\"]], \"type\": \"histogram2dcontour\"}], \"mesh3d\": [{\"colorbar\": {\"outlinewidth\": 0, \"ticks\": \"\"}, \"type\": \"mesh3d\"}], \"parcoords\": [{\"line\": {\"colorbar\": {\"outlinewidth\": 0, \"ticks\": \"\"}}, \"type\": \"parcoords\"}], \"scatter\": [{\"marker\": {\"colorbar\": {\"outlinewidth\": 0, \"ticks\": \"\"}}, \"type\": \"scatter\"}], \"scatter3d\": [{\"line\": {\"colorbar\": {\"outlinewidth\": 0, \"ticks\": \"\"}}, \"marker\": {\"colorbar\": {\"outlinewidth\": 0, \"ticks\": \"\"}}, \"type\": \"scatter3d\"}], \"scattercarpet\": [{\"marker\": {\"colorbar\": {\"outlinewidth\": 0, \"ticks\": \"\"}}, \"type\": \"scattercarpet\"}], \"scattergeo\": [{\"marker\": {\"colorbar\": {\"outlinewidth\": 0, \"ticks\": \"\"}}, \"type\": \"scattergeo\"}], \"scattergl\": [{\"marker\": {\"colorbar\": {\"outlinewidth\": 0, \"ticks\": \"\"}}, \"type\": \"scattergl\"}], \"scattermapbox\": [{\"marker\": {\"colorbar\": {\"outlinewidth\": 0, \"ticks\": \"\"}}, \"type\": \"scattermapbox\"}], \"scatterpolar\": [{\"marker\": {\"colorbar\": {\"outlinewidth\": 0, \"ticks\": \"\"}}, \"type\": \"scatterpolar\"}], \"scatterpolargl\": [{\"marker\": {\"colorbar\": {\"outlinewidth\": 0, \"ticks\": \"\"}}, \"type\": \"scatterpolargl\"}], \"scatterternary\": [{\"marker\": {\"colorbar\": {\"outlinewidth\": 0, \"ticks\": \"\"}}, \"type\": \"scatterternary\"}], \"surface\": [{\"colorbar\": {\"outlinewidth\": 0, \"ticks\": \"\"}, \"colorscale\": [[0.0, \"#0d0887\"], [0.1111111111111111, \"#46039f\"], [0.2222222222222222, \"#7201a8\"], [0.3333333333333333, \"#9c179e\"], [0.4444444444444444, \"#bd3786\"], [0.5555555555555556, \"#d8576b\"], [0.6666666666666666, \"#ed7953\"], [0.7777777777777778, \"#fb9f3a\"], [0.8888888888888888, \"#fdca26\"], [1.0, \"#f0f921\"]], \"type\": \"surface\"}], \"table\": [{\"cells\": {\"fill\": {\"color\": \"#EBF0F8\"}, \"line\": {\"color\": \"white\"}}, \"header\": {\"fill\": {\"color\": \"#C8D4E3\"}, \"line\": {\"color\": \"white\"}}, \"type\": \"table\"}]}, \"layout\": {\"annotationdefaults\": {\"arrowcolor\": \"#2a3f5f\", \"arrowhead\": 0, \"arrowwidth\": 1}, \"colorscale\": {\"diverging\": [[0, \"#8e0152\"], [0.1, \"#c51b7d\"], [0.2, \"#de77ae\"], [0.3, \"#f1b6da\"], [0.4, \"#fde0ef\"], [0.5, \"#f7f7f7\"], [0.6, \"#e6f5d0\"], [0.7, \"#b8e186\"], [0.8, \"#7fbc41\"], [0.9, \"#4d9221\"], [1, \"#276419\"]], \"sequential\": [[0.0, \"#0d0887\"], [0.1111111111111111, \"#46039f\"], [0.2222222222222222, \"#7201a8\"], [0.3333333333333333, \"#9c179e\"], [0.4444444444444444, \"#bd3786\"], [0.5555555555555556, \"#d8576b\"], [0.6666666666666666, \"#ed7953\"], [0.7777777777777778, \"#fb9f3a\"], [0.8888888888888888, \"#fdca26\"], [1.0, \"#f0f921\"]], \"sequentialminus\": [[0.0, \"#0d0887\"], [0.1111111111111111, \"#46039f\"], [0.2222222222222222, \"#7201a8\"], [0.3333333333333333, \"#9c179e\"], [0.4444444444444444, \"#bd3786\"], [0.5555555555555556, \"#d8576b\"], [0.6666666666666666, \"#ed7953\"], [0.7777777777777778, \"#fb9f3a\"], [0.8888888888888888, \"#fdca26\"], [1.0, \"#f0f921\"]]}, \"colorway\": [\"#636efa\", \"#EF553B\", \"#00cc96\", \"#ab63fa\", \"#FFA15A\", \"#19d3f3\", \"#FF6692\", \"#B6E880\", \"#FF97FF\", \"#FECB52\"], \"font\": {\"color\": \"#2a3f5f\"}, \"geo\": {\"bgcolor\": \"white\", \"lakecolor\": \"white\", \"landcolor\": \"#E5ECF6\", \"showlakes\": true, \"showland\": true, \"subunitcolor\": \"white\"}, \"hoverlabel\": {\"align\": \"left\"}, \"hovermode\": \"closest\", \"mapbox\": {\"style\": \"light\"}, \"paper_bgcolor\": \"white\", \"plot_bgcolor\": \"#E5ECF6\", \"polar\": {\"angularaxis\": {\"gridcolor\": \"white\", \"linecolor\": \"white\", \"ticks\": \"\"}, \"bgcolor\": \"#E5ECF6\", \"radialaxis\": {\"gridcolor\": \"white\", \"linecolor\": \"white\", \"ticks\": \"\"}}, \"scene\": {\"xaxis\": {\"backgroundcolor\": \"#E5ECF6\", \"gridcolor\": \"white\", \"gridwidth\": 2, \"linecolor\": \"white\", \"showbackground\": true, \"ticks\": \"\", \"zerolinecolor\": \"white\"}, \"yaxis\": {\"backgroundcolor\": \"#E5ECF6\", \"gridcolor\": \"white\", \"gridwidth\": 2, \"linecolor\": \"white\", \"showbackground\": true, \"ticks\": \"\", \"zerolinecolor\": \"white\"}, \"zaxis\": {\"backgroundcolor\": \"#E5ECF6\", \"gridcolor\": \"white\", \"gridwidth\": 2, \"linecolor\": \"white\", \"showbackground\": true, \"ticks\": \"\", \"zerolinecolor\": \"white\"}}, \"shapedefaults\": {\"line\": {\"color\": \"#2a3f5f\"}}, \"ternary\": {\"aaxis\": {\"gridcolor\": \"white\", \"linecolor\": \"white\", \"ticks\": \"\"}, \"baxis\": {\"gridcolor\": \"white\", \"linecolor\": \"white\", \"ticks\": \"\"}, \"bgcolor\": \"#E5ECF6\", \"caxis\": {\"gridcolor\": \"white\", \"linecolor\": \"white\", \"ticks\": \"\"}}, \"title\": {\"x\": 0.05}, \"xaxis\": {\"automargin\": true, \"gridcolor\": \"white\", \"linecolor\": \"white\", \"ticks\": \"\", \"zerolinecolor\": \"white\", \"zerolinewidth\": 2}, \"yaxis\": {\"automargin\": true, \"gridcolor\": \"white\", \"linecolor\": \"white\", \"ticks\": \"\", \"zerolinecolor\": \"white\", \"zerolinewidth\": 2}}}, \"xaxis\": {\"gridcolor\": \"#F2E9E1\", \"gridwidth\": 1, \"hoverformat\": \",.1f\", \"linecolor\": \"#F2E9E1\", \"linewidth\": 2, \"showgrid\": false, \"showline\": true, \"tickcolor\": \"#F2E9E1\", \"ticklen\": 10, \"ticks\": \"outside\", \"tickwidth\": 0.5, \"title\": {\"font\": {\"color\": \"#1A1817\", \"size\": 12}, \"text\": \"<b>STARS</b> (average ratings)\"}, \"zeroline\": true, \"zerolinecolor\": \"crimson\", \"zerolinewidth\": 1}, \"yaxis\": {\"gridcolor\": \"#F2E9E1\", \"gridwidth\": 1, \"hoverformat\": \",.1f\", \"linecolor\": \"#F2E9E1\", \"linewidth\": 2, \"showgrid\": true, \"showline\": true, \"tickcolor\": \"#F2E9E1\", \"ticklen\": 10, \"ticks\": \"outside\", \"tickwidth\": 0.5, \"title\": {\"font\": {\"color\": \"#1A1817\", \"size\": 12}, \"text\": \"<b>BRAND</b> (total cummulative)\"}, \"zeroline\": true, \"zerolinecolor\": \"crimson\", \"zerolinewidth\": 1}},\n",
       "                        {\"responsive\": true}\n",
       "                    ).then(function(){\n",
       "                            \n",
       "var gd = document.getElementById('750de488-d51c-400e-aef8-6a448ba47593');\n",
       "var x = new MutationObserver(function (mutations, observer) {{\n",
       "        var display = window.getComputedStyle(gd).display;\n",
       "        if (!display || display === 'none') {{\n",
       "            console.log([gd, 'removed!']);\n",
       "            Plotly.purge(gd);\n",
       "            observer.disconnect();\n",
       "        }}\n",
       "}});\n",
       "\n",
       "// Listen for the removal of the full notebook cells\n",
       "var notebookContainer = gd.closest('#notebook-container');\n",
       "if (notebookContainer) {{\n",
       "    x.observe(notebookContainer, {childList: true});\n",
       "}}\n",
       "\n",
       "// Listen for the clearing of the current output cell\n",
       "var outputEl = gd.closest('.output');\n",
       "if (outputEl) {{\n",
       "    x.observe(outputEl, {childList: true});\n",
       "}}\n",
       "\n",
       "                        })\n",
       "                };\n",
       "                });\n",
       "            </script>\n",
       "        </div>"
      ]
     },
     "metadata": {},
     "output_type": "display_data"
    }
   ],
   "source": [
    "# Generate plot and styling 2 out of 2\n",
    "fig = go.Figure(data=go.Histogram(x=df1_brand_histograms[\"Stars\"],\n",
    "                 cumulative_enabled=True,\n",
    "                marker=dict(color=\"rgba(20,189,204,0.2)\",line=dict(color='#14BDCC', width=1)),\n",
    "                 showlegend=False,\n",
    "                 hoverinfo=\"x+y+z+text\",\n",
    "                 hoverlabel = dict(bgcolor=\"rgba(20,189,204,1)\",bordercolor=\"rgba(20,189,204,0.5)\",\n",
    "                       font=dict(family=\"Arial\",size=10,color='rgba(255,255,255,1)'))\n",
    "                ))\n",
    "\n",
    "# Update xaxis properties\n",
    "fig.update_xaxes(title=dict(font=dict(size=12, color='#1A1817')),\n",
    "                 ticks=\"outside\", tickwidth=0.5, tickcolor='#F2E9E1', ticklen=10,hoverformat=\",.1f\",\n",
    "                 showline=True, linewidth=2, linecolor='#F2E9E1',\n",
    "                 showgrid=False, gridwidth=1, gridcolor='#F2E9E1',\n",
    "                 zeroline=True, zerolinewidth=1, zerolinecolor='crimson')\n",
    "fig.update_xaxes(title_text=\"<b>STARS</b> (average ratings)\")\n",
    "\n",
    "# Update yaxis properties\n",
    "fig.update_yaxes(title= dict(font=dict(size=12, color='#1A1817'),),ticks=\"outside\", tickwidth=0.5, tickcolor='#F2E9E1', ticklen=10, hoverformat=\",.1f\",\n",
    "                 showline=True, linewidth=2, linecolor='#F2E9E1',\n",
    "                 showgrid=True, gridwidth=1, gridcolor='#F2E9E1',\n",
    "                 zeroline=True, zerolinewidth=1, zerolinecolor='crimson',)\n",
    "fig.update_yaxes(title_text=\"<b>BRAND</b> (total cummulative)\")\n",
    "\n",
    "fig.update_layout(    \n",
    "    font=dict(family=\"Raleway, sans-serif\", size=12, color='#98928E'),\n",
    "    plot_bgcolor=\"#fffaf7\",\n",
    "    showlegend=False,\n",
    "    paper_bgcolor = \"#fffaf7\",\n",
    "    height = 500,\n",
    "    annotations=[go.layout.Annotation(text=\"<b>Most brand rated less than 4</b>\",x=-0.05,y=1.18,xref=\"paper\",yref=\"paper\",showarrow=False,\n",
    "                                      xanchor=\"left\",yanchor=\"top\",align=\"left\",font=dict(family=\" Raleway,sans-serif\", size=16, color='#1A1817')),\n",
    "                 go.layout.Annotation(text=\"Total brands (cummulative) by average ratings\",x=-0.05,y=1.12,xref=\"paper\",yref=\"paper\",showarrow=False,\n",
    "                                      xanchor=\"left\",yanchor=\"top\",align=\"left\",font=dict(family='Raleway,sans-serif', size=14, color='#98928E')),]\n",
    ")\n",
    "fig.show()"
   ]
  },
  {
   "cell_type": "markdown",
   "metadata": {},
   "source": [
    "#### 2.1 What are the average variety and ratings for each brand?\n",
    "\n",
    "Anchoring at brand, we can see that most brands have at most 4 variety with one outlier brand that has almost ~400 variety. Reviewers seems also rather selective in rating that most ramen are below 4."
   ]
  },
  {
   "cell_type": "code",
   "execution_count": 11,
   "metadata": {},
   "outputs": [
    {
     "data": {
      "application/vnd.plotly.v1+json": {
       "config": {
        "plotlyServerURL": "https://plot.ly"
       },
       "data": [
        {
         "hoverinfo": "x+y+z+text",
         "hoverlabel": {
          "bgcolor": "rgba(20,189,204,1)",
          "bordercolor": "rgba(20,189,204,0.5)",
          "font": {
           "color": "rgba(255,255,255,1)",
           "family": "Arial",
           "size": 10
          }
         },
         "marker": {
          "color": "rgba(20,189,204,0.2)",
          "line": {
           "color": "#14BDCC",
           "width": 1
          },
          "size": 15
         },
         "mode": "markers",
         "name": "Country",
         "text": [
          "Australia",
          "Bangladesh",
          "Brazil",
          "Cambodia",
          "Canada",
          "China",
          "Colombia",
          "Dubai",
          "Estonia",
          "Fiji",
          "Finland",
          "Germany",
          "Ghana",
          "Holland",
          "Hong Kong",
          "Hungary",
          "India",
          "Indonesia",
          "Japan",
          "Malaysia",
          "Mexico",
          "Myanmar",
          "Nepal",
          "Netherlands",
          "Nigeria",
          "Pakistan",
          "Philippines",
          "Poland",
          "Sarawak",
          "Singapore",
          "South Korea",
          "Sweden",
          "Taiwan",
          "Thailand",
          "UK",
          "USA",
          "United States",
          "Vietnam"
         ],
         "type": "scatter",
         "x": [
          22,
          7,
          5,
          5,
          41,
          156,
          6,
          3,
          2,
          4,
          3,
          27,
          2,
          4,
          136,
          8,
          29,
          125,
          333,
          150,
          25,
          14,
          14,
          15,
          1,
          9,
          47,
          4,
          3,
          102,
          290,
          3,
          222,
          178,
          69,
          315,
          1,
          106
         ],
         "y": [
          5,
          3,
          1,
          2,
          9,
          33,
          1,
          1,
          1,
          2,
          1,
          4,
          2,
          1,
          12,
          4,
          8,
          19,
          58,
          32,
          4,
          2,
          1,
          4,
          1,
          3,
          5,
          2,
          2,
          10,
          35,
          2,
          47,
          25,
          12,
          49,
          1,
          19
         ]
        }
       ],
       "layout": {
        "annotations": [
         {
          "align": "left",
          "font": {
           "color": "#1A1817",
           "family": " Raleway,sans-serif",
           "size": 16
          },
          "showarrow": false,
          "text": "<b>Brand and variety are proportional with 1:5 ratio</b>",
          "x": -0.05,
          "xanchor": "left",
          "xref": "paper",
          "y": 1.18,
          "yanchor": "top",
          "yref": "paper"
         },
         {
          "align": "left",
          "font": {
           "color": "#98928E",
           "family": "Raleway,sans-serif",
           "size": 14
          },
          "showarrow": false,
          "text": "Total brands and ramen varieties by country",
          "x": -0.05,
          "xanchor": "left",
          "xref": "paper",
          "y": 1.12,
          "yanchor": "top",
          "yref": "paper"
         }
        ],
        "font": {
         "color": "#98928E",
         "family": "Raleway, sans-serif",
         "size": 12
        },
        "height": 500,
        "paper_bgcolor": "#fffaf7",
        "plot_bgcolor": "#fffaf7",
        "showlegend": true,
        "template": {
         "data": {
          "bar": [
           {
            "error_x": {
             "color": "#2a3f5f"
            },
            "error_y": {
             "color": "#2a3f5f"
            },
            "marker": {
             "line": {
              "color": "#E5ECF6",
              "width": 0.5
             }
            },
            "type": "bar"
           }
          ],
          "barpolar": [
           {
            "marker": {
             "line": {
              "color": "#E5ECF6",
              "width": 0.5
             }
            },
            "type": "barpolar"
           }
          ],
          "carpet": [
           {
            "aaxis": {
             "endlinecolor": "#2a3f5f",
             "gridcolor": "white",
             "linecolor": "white",
             "minorgridcolor": "white",
             "startlinecolor": "#2a3f5f"
            },
            "baxis": {
             "endlinecolor": "#2a3f5f",
             "gridcolor": "white",
             "linecolor": "white",
             "minorgridcolor": "white",
             "startlinecolor": "#2a3f5f"
            },
            "type": "carpet"
           }
          ],
          "choropleth": [
           {
            "colorbar": {
             "outlinewidth": 0,
             "ticks": ""
            },
            "type": "choropleth"
           }
          ],
          "contour": [
           {
            "colorbar": {
             "outlinewidth": 0,
             "ticks": ""
            },
            "colorscale": [
             [
              0.0,
              "#0d0887"
             ],
             [
              0.1111111111111111,
              "#46039f"
             ],
             [
              0.2222222222222222,
              "#7201a8"
             ],
             [
              0.3333333333333333,
              "#9c179e"
             ],
             [
              0.4444444444444444,
              "#bd3786"
             ],
             [
              0.5555555555555556,
              "#d8576b"
             ],
             [
              0.6666666666666666,
              "#ed7953"
             ],
             [
              0.7777777777777778,
              "#fb9f3a"
             ],
             [
              0.8888888888888888,
              "#fdca26"
             ],
             [
              1.0,
              "#f0f921"
             ]
            ],
            "type": "contour"
           }
          ],
          "contourcarpet": [
           {
            "colorbar": {
             "outlinewidth": 0,
             "ticks": ""
            },
            "type": "contourcarpet"
           }
          ],
          "heatmap": [
           {
            "colorbar": {
             "outlinewidth": 0,
             "ticks": ""
            },
            "colorscale": [
             [
              0.0,
              "#0d0887"
             ],
             [
              0.1111111111111111,
              "#46039f"
             ],
             [
              0.2222222222222222,
              "#7201a8"
             ],
             [
              0.3333333333333333,
              "#9c179e"
             ],
             [
              0.4444444444444444,
              "#bd3786"
             ],
             [
              0.5555555555555556,
              "#d8576b"
             ],
             [
              0.6666666666666666,
              "#ed7953"
             ],
             [
              0.7777777777777778,
              "#fb9f3a"
             ],
             [
              0.8888888888888888,
              "#fdca26"
             ],
             [
              1.0,
              "#f0f921"
             ]
            ],
            "type": "heatmap"
           }
          ],
          "heatmapgl": [
           {
            "colorbar": {
             "outlinewidth": 0,
             "ticks": ""
            },
            "colorscale": [
             [
              0.0,
              "#0d0887"
             ],
             [
              0.1111111111111111,
              "#46039f"
             ],
             [
              0.2222222222222222,
              "#7201a8"
             ],
             [
              0.3333333333333333,
              "#9c179e"
             ],
             [
              0.4444444444444444,
              "#bd3786"
             ],
             [
              0.5555555555555556,
              "#d8576b"
             ],
             [
              0.6666666666666666,
              "#ed7953"
             ],
             [
              0.7777777777777778,
              "#fb9f3a"
             ],
             [
              0.8888888888888888,
              "#fdca26"
             ],
             [
              1.0,
              "#f0f921"
             ]
            ],
            "type": "heatmapgl"
           }
          ],
          "histogram": [
           {
            "marker": {
             "colorbar": {
              "outlinewidth": 0,
              "ticks": ""
             }
            },
            "type": "histogram"
           }
          ],
          "histogram2d": [
           {
            "colorbar": {
             "outlinewidth": 0,
             "ticks": ""
            },
            "colorscale": [
             [
              0.0,
              "#0d0887"
             ],
             [
              0.1111111111111111,
              "#46039f"
             ],
             [
              0.2222222222222222,
              "#7201a8"
             ],
             [
              0.3333333333333333,
              "#9c179e"
             ],
             [
              0.4444444444444444,
              "#bd3786"
             ],
             [
              0.5555555555555556,
              "#d8576b"
             ],
             [
              0.6666666666666666,
              "#ed7953"
             ],
             [
              0.7777777777777778,
              "#fb9f3a"
             ],
             [
              0.8888888888888888,
              "#fdca26"
             ],
             [
              1.0,
              "#f0f921"
             ]
            ],
            "type": "histogram2d"
           }
          ],
          "histogram2dcontour": [
           {
            "colorbar": {
             "outlinewidth": 0,
             "ticks": ""
            },
            "colorscale": [
             [
              0.0,
              "#0d0887"
             ],
             [
              0.1111111111111111,
              "#46039f"
             ],
             [
              0.2222222222222222,
              "#7201a8"
             ],
             [
              0.3333333333333333,
              "#9c179e"
             ],
             [
              0.4444444444444444,
              "#bd3786"
             ],
             [
              0.5555555555555556,
              "#d8576b"
             ],
             [
              0.6666666666666666,
              "#ed7953"
             ],
             [
              0.7777777777777778,
              "#fb9f3a"
             ],
             [
              0.8888888888888888,
              "#fdca26"
             ],
             [
              1.0,
              "#f0f921"
             ]
            ],
            "type": "histogram2dcontour"
           }
          ],
          "mesh3d": [
           {
            "colorbar": {
             "outlinewidth": 0,
             "ticks": ""
            },
            "type": "mesh3d"
           }
          ],
          "parcoords": [
           {
            "line": {
             "colorbar": {
              "outlinewidth": 0,
              "ticks": ""
             }
            },
            "type": "parcoords"
           }
          ],
          "scatter": [
           {
            "marker": {
             "colorbar": {
              "outlinewidth": 0,
              "ticks": ""
             }
            },
            "type": "scatter"
           }
          ],
          "scatter3d": [
           {
            "line": {
             "colorbar": {
              "outlinewidth": 0,
              "ticks": ""
             }
            },
            "marker": {
             "colorbar": {
              "outlinewidth": 0,
              "ticks": ""
             }
            },
            "type": "scatter3d"
           }
          ],
          "scattercarpet": [
           {
            "marker": {
             "colorbar": {
              "outlinewidth": 0,
              "ticks": ""
             }
            },
            "type": "scattercarpet"
           }
          ],
          "scattergeo": [
           {
            "marker": {
             "colorbar": {
              "outlinewidth": 0,
              "ticks": ""
             }
            },
            "type": "scattergeo"
           }
          ],
          "scattergl": [
           {
            "marker": {
             "colorbar": {
              "outlinewidth": 0,
              "ticks": ""
             }
            },
            "type": "scattergl"
           }
          ],
          "scattermapbox": [
           {
            "marker": {
             "colorbar": {
              "outlinewidth": 0,
              "ticks": ""
             }
            },
            "type": "scattermapbox"
           }
          ],
          "scatterpolar": [
           {
            "marker": {
             "colorbar": {
              "outlinewidth": 0,
              "ticks": ""
             }
            },
            "type": "scatterpolar"
           }
          ],
          "scatterpolargl": [
           {
            "marker": {
             "colorbar": {
              "outlinewidth": 0,
              "ticks": ""
             }
            },
            "type": "scatterpolargl"
           }
          ],
          "scatterternary": [
           {
            "marker": {
             "colorbar": {
              "outlinewidth": 0,
              "ticks": ""
             }
            },
            "type": "scatterternary"
           }
          ],
          "surface": [
           {
            "colorbar": {
             "outlinewidth": 0,
             "ticks": ""
            },
            "colorscale": [
             [
              0.0,
              "#0d0887"
             ],
             [
              0.1111111111111111,
              "#46039f"
             ],
             [
              0.2222222222222222,
              "#7201a8"
             ],
             [
              0.3333333333333333,
              "#9c179e"
             ],
             [
              0.4444444444444444,
              "#bd3786"
             ],
             [
              0.5555555555555556,
              "#d8576b"
             ],
             [
              0.6666666666666666,
              "#ed7953"
             ],
             [
              0.7777777777777778,
              "#fb9f3a"
             ],
             [
              0.8888888888888888,
              "#fdca26"
             ],
             [
              1.0,
              "#f0f921"
             ]
            ],
            "type": "surface"
           }
          ],
          "table": [
           {
            "cells": {
             "fill": {
              "color": "#EBF0F8"
             },
             "line": {
              "color": "white"
             }
            },
            "header": {
             "fill": {
              "color": "#C8D4E3"
             },
             "line": {
              "color": "white"
             }
            },
            "type": "table"
           }
          ]
         },
         "layout": {
          "annotationdefaults": {
           "arrowcolor": "#2a3f5f",
           "arrowhead": 0,
           "arrowwidth": 1
          },
          "colorscale": {
           "diverging": [
            [
             0,
             "#8e0152"
            ],
            [
             0.1,
             "#c51b7d"
            ],
            [
             0.2,
             "#de77ae"
            ],
            [
             0.3,
             "#f1b6da"
            ],
            [
             0.4,
             "#fde0ef"
            ],
            [
             0.5,
             "#f7f7f7"
            ],
            [
             0.6,
             "#e6f5d0"
            ],
            [
             0.7,
             "#b8e186"
            ],
            [
             0.8,
             "#7fbc41"
            ],
            [
             0.9,
             "#4d9221"
            ],
            [
             1,
             "#276419"
            ]
           ],
           "sequential": [
            [
             0.0,
             "#0d0887"
            ],
            [
             0.1111111111111111,
             "#46039f"
            ],
            [
             0.2222222222222222,
             "#7201a8"
            ],
            [
             0.3333333333333333,
             "#9c179e"
            ],
            [
             0.4444444444444444,
             "#bd3786"
            ],
            [
             0.5555555555555556,
             "#d8576b"
            ],
            [
             0.6666666666666666,
             "#ed7953"
            ],
            [
             0.7777777777777778,
             "#fb9f3a"
            ],
            [
             0.8888888888888888,
             "#fdca26"
            ],
            [
             1.0,
             "#f0f921"
            ]
           ],
           "sequentialminus": [
            [
             0.0,
             "#0d0887"
            ],
            [
             0.1111111111111111,
             "#46039f"
            ],
            [
             0.2222222222222222,
             "#7201a8"
            ],
            [
             0.3333333333333333,
             "#9c179e"
            ],
            [
             0.4444444444444444,
             "#bd3786"
            ],
            [
             0.5555555555555556,
             "#d8576b"
            ],
            [
             0.6666666666666666,
             "#ed7953"
            ],
            [
             0.7777777777777778,
             "#fb9f3a"
            ],
            [
             0.8888888888888888,
             "#fdca26"
            ],
            [
             1.0,
             "#f0f921"
            ]
           ]
          },
          "colorway": [
           "#636efa",
           "#EF553B",
           "#00cc96",
           "#ab63fa",
           "#FFA15A",
           "#19d3f3",
           "#FF6692",
           "#B6E880",
           "#FF97FF",
           "#FECB52"
          ],
          "font": {
           "color": "#2a3f5f"
          },
          "geo": {
           "bgcolor": "white",
           "lakecolor": "white",
           "landcolor": "#E5ECF6",
           "showlakes": true,
           "showland": true,
           "subunitcolor": "white"
          },
          "hoverlabel": {
           "align": "left"
          },
          "hovermode": "closest",
          "mapbox": {
           "style": "light"
          },
          "paper_bgcolor": "white",
          "plot_bgcolor": "#E5ECF6",
          "polar": {
           "angularaxis": {
            "gridcolor": "white",
            "linecolor": "white",
            "ticks": ""
           },
           "bgcolor": "#E5ECF6",
           "radialaxis": {
            "gridcolor": "white",
            "linecolor": "white",
            "ticks": ""
           }
          },
          "scene": {
           "xaxis": {
            "backgroundcolor": "#E5ECF6",
            "gridcolor": "white",
            "gridwidth": 2,
            "linecolor": "white",
            "showbackground": true,
            "ticks": "",
            "zerolinecolor": "white"
           },
           "yaxis": {
            "backgroundcolor": "#E5ECF6",
            "gridcolor": "white",
            "gridwidth": 2,
            "linecolor": "white",
            "showbackground": true,
            "ticks": "",
            "zerolinecolor": "white"
           },
           "zaxis": {
            "backgroundcolor": "#E5ECF6",
            "gridcolor": "white",
            "gridwidth": 2,
            "linecolor": "white",
            "showbackground": true,
            "ticks": "",
            "zerolinecolor": "white"
           }
          },
          "shapedefaults": {
           "line": {
            "color": "#2a3f5f"
           }
          },
          "ternary": {
           "aaxis": {
            "gridcolor": "white",
            "linecolor": "white",
            "ticks": ""
           },
           "baxis": {
            "gridcolor": "white",
            "linecolor": "white",
            "ticks": ""
           },
           "bgcolor": "#E5ECF6",
           "caxis": {
            "gridcolor": "white",
            "linecolor": "white",
            "ticks": ""
           }
          },
          "title": {
           "x": 0.05
          },
          "xaxis": {
           "automargin": true,
           "gridcolor": "white",
           "linecolor": "white",
           "ticks": "",
           "zerolinecolor": "white",
           "zerolinewidth": 2
          },
          "yaxis": {
           "automargin": true,
           "gridcolor": "white",
           "linecolor": "white",
           "ticks": "",
           "zerolinecolor": "white",
           "zerolinewidth": 2
          }
         }
        },
        "xaxis": {
         "gridcolor": "#F2E9E1",
         "gridwidth": 1,
         "hoverformat": ",.1f",
         "linecolor": "#F2E9E1",
         "linewidth": 2,
         "showgrid": true,
         "showline": true,
         "tickcolor": "#F2E9E1",
         "ticklen": 10,
         "ticks": "outside",
         "tickwidth": 0.5,
         "title": {
          "font": {
           "color": "#1A1817",
           "size": 12
          },
          "text": "<b>VARIETY</b> (total)"
         },
         "zeroline": true,
         "zerolinecolor": "crimson",
         "zerolinewidth": 1
        },
        "yaxis": {
         "gridcolor": "#F2E9E1",
         "gridwidth": 1,
         "hoverformat": ",.1f",
         "linecolor": "#F2E9E1",
         "linewidth": 2,
         "showgrid": true,
         "showline": true,
         "tickcolor": "#F2E9E1",
         "ticklen": 10,
         "ticks": "outside",
         "tickwidth": 0.5,
         "title": {
          "font": {
           "color": "#1A1817",
           "size": 12
          },
          "text": "<b>BRAND</b> (total)"
         },
         "zeroline": true,
         "zerolinecolor": "crimson",
         "zerolinewidth": 1
        }
       }
      },
      "text/html": [
       "<div>\n",
       "        \n",
       "        \n",
       "            <div id=\"7b94bbbf-c9b4-4fea-a486-f8ed902e1f22\" class=\"plotly-graph-div\" style=\"height:500px; width:100%;\"></div>\n",
       "            <script type=\"text/javascript\">\n",
       "                require([\"plotly\"], function(Plotly) {\n",
       "                    window.PLOTLYENV=window.PLOTLYENV || {};\n",
       "                    \n",
       "                if (document.getElementById(\"7b94bbbf-c9b4-4fea-a486-f8ed902e1f22\")) {\n",
       "                    Plotly.newPlot(\n",
       "                        '7b94bbbf-c9b4-4fea-a486-f8ed902e1f22',\n",
       "                        [{\"hoverinfo\": \"x+y+z+text\", \"hoverlabel\": {\"bgcolor\": \"rgba(20,189,204,1)\", \"bordercolor\": \"rgba(20,189,204,0.5)\", \"font\": {\"color\": \"rgba(255,255,255,1)\", \"family\": \"Arial\", \"size\": 10}}, \"marker\": {\"color\": \"rgba(20,189,204,0.2)\", \"line\": {\"color\": \"#14BDCC\", \"width\": 1}, \"size\": 15}, \"mode\": \"markers\", \"name\": \"Country\", \"text\": [\"Australia\", \"Bangladesh\", \"Brazil\", \"Cambodia\", \"Canada\", \"China\", \"Colombia\", \"Dubai\", \"Estonia\", \"Fiji\", \"Finland\", \"Germany\", \"Ghana\", \"Holland\", \"Hong Kong\", \"Hungary\", \"India\", \"Indonesia\", \"Japan\", \"Malaysia\", \"Mexico\", \"Myanmar\", \"Nepal\", \"Netherlands\", \"Nigeria\", \"Pakistan\", \"Philippines\", \"Poland\", \"Sarawak\", \"Singapore\", \"South Korea\", \"Sweden\", \"Taiwan\", \"Thailand\", \"UK\", \"USA\", \"United States\", \"Vietnam\"], \"type\": \"scatter\", \"x\": [22, 7, 5, 5, 41, 156, 6, 3, 2, 4, 3, 27, 2, 4, 136, 8, 29, 125, 333, 150, 25, 14, 14, 15, 1, 9, 47, 4, 3, 102, 290, 3, 222, 178, 69, 315, 1, 106], \"y\": [5, 3, 1, 2, 9, 33, 1, 1, 1, 2, 1, 4, 2, 1, 12, 4, 8, 19, 58, 32, 4, 2, 1, 4, 1, 3, 5, 2, 2, 10, 35, 2, 47, 25, 12, 49, 1, 19]}],\n",
       "                        {\"annotations\": [{\"align\": \"left\", \"font\": {\"color\": \"#1A1817\", \"family\": \" Raleway,sans-serif\", \"size\": 16}, \"showarrow\": false, \"text\": \"<b>Brand and variety are proportional with 1:5 ratio</b>\", \"x\": -0.05, \"xanchor\": \"left\", \"xref\": \"paper\", \"y\": 1.18, \"yanchor\": \"top\", \"yref\": \"paper\"}, {\"align\": \"left\", \"font\": {\"color\": \"#98928E\", \"family\": \"Raleway,sans-serif\", \"size\": 14}, \"showarrow\": false, \"text\": \"Total brands and ramen varieties by country\", \"x\": -0.05, \"xanchor\": \"left\", \"xref\": \"paper\", \"y\": 1.12, \"yanchor\": \"top\", \"yref\": \"paper\"}], \"font\": {\"color\": \"#98928E\", \"family\": \"Raleway, sans-serif\", \"size\": 12}, \"height\": 500, \"paper_bgcolor\": \"#fffaf7\", \"plot_bgcolor\": \"#fffaf7\", \"showlegend\": true, \"template\": {\"data\": {\"bar\": [{\"error_x\": {\"color\": \"#2a3f5f\"}, \"error_y\": {\"color\": \"#2a3f5f\"}, \"marker\": {\"line\": {\"color\": \"#E5ECF6\", \"width\": 0.5}}, \"type\": \"bar\"}], \"barpolar\": [{\"marker\": {\"line\": {\"color\": \"#E5ECF6\", \"width\": 0.5}}, \"type\": \"barpolar\"}], \"carpet\": [{\"aaxis\": {\"endlinecolor\": \"#2a3f5f\", \"gridcolor\": \"white\", \"linecolor\": \"white\", \"minorgridcolor\": \"white\", \"startlinecolor\": \"#2a3f5f\"}, \"baxis\": {\"endlinecolor\": \"#2a3f5f\", \"gridcolor\": \"white\", \"linecolor\": \"white\", \"minorgridcolor\": \"white\", \"startlinecolor\": \"#2a3f5f\"}, \"type\": \"carpet\"}], \"choropleth\": [{\"colorbar\": {\"outlinewidth\": 0, \"ticks\": \"\"}, \"type\": \"choropleth\"}], \"contour\": [{\"colorbar\": {\"outlinewidth\": 0, \"ticks\": \"\"}, \"colorscale\": [[0.0, \"#0d0887\"], [0.1111111111111111, \"#46039f\"], [0.2222222222222222, \"#7201a8\"], [0.3333333333333333, \"#9c179e\"], [0.4444444444444444, \"#bd3786\"], [0.5555555555555556, \"#d8576b\"], [0.6666666666666666, \"#ed7953\"], [0.7777777777777778, \"#fb9f3a\"], [0.8888888888888888, \"#fdca26\"], [1.0, \"#f0f921\"]], \"type\": \"contour\"}], \"contourcarpet\": [{\"colorbar\": {\"outlinewidth\": 0, \"ticks\": \"\"}, \"type\": \"contourcarpet\"}], \"heatmap\": [{\"colorbar\": {\"outlinewidth\": 0, \"ticks\": \"\"}, \"colorscale\": [[0.0, \"#0d0887\"], [0.1111111111111111, \"#46039f\"], [0.2222222222222222, \"#7201a8\"], [0.3333333333333333, \"#9c179e\"], [0.4444444444444444, \"#bd3786\"], [0.5555555555555556, \"#d8576b\"], [0.6666666666666666, \"#ed7953\"], [0.7777777777777778, \"#fb9f3a\"], [0.8888888888888888, \"#fdca26\"], [1.0, \"#f0f921\"]], \"type\": \"heatmap\"}], \"heatmapgl\": [{\"colorbar\": {\"outlinewidth\": 0, \"ticks\": \"\"}, \"colorscale\": [[0.0, \"#0d0887\"], [0.1111111111111111, \"#46039f\"], [0.2222222222222222, \"#7201a8\"], [0.3333333333333333, \"#9c179e\"], [0.4444444444444444, \"#bd3786\"], [0.5555555555555556, \"#d8576b\"], [0.6666666666666666, \"#ed7953\"], [0.7777777777777778, \"#fb9f3a\"], [0.8888888888888888, \"#fdca26\"], [1.0, \"#f0f921\"]], \"type\": \"heatmapgl\"}], \"histogram\": [{\"marker\": {\"colorbar\": {\"outlinewidth\": 0, \"ticks\": \"\"}}, \"type\": \"histogram\"}], \"histogram2d\": [{\"colorbar\": {\"outlinewidth\": 0, \"ticks\": \"\"}, \"colorscale\": [[0.0, \"#0d0887\"], [0.1111111111111111, \"#46039f\"], [0.2222222222222222, \"#7201a8\"], [0.3333333333333333, \"#9c179e\"], [0.4444444444444444, \"#bd3786\"], [0.5555555555555556, \"#d8576b\"], [0.6666666666666666, \"#ed7953\"], [0.7777777777777778, \"#fb9f3a\"], [0.8888888888888888, \"#fdca26\"], [1.0, \"#f0f921\"]], \"type\": \"histogram2d\"}], \"histogram2dcontour\": [{\"colorbar\": {\"outlinewidth\": 0, \"ticks\": \"\"}, \"colorscale\": [[0.0, \"#0d0887\"], [0.1111111111111111, \"#46039f\"], [0.2222222222222222, \"#7201a8\"], [0.3333333333333333, \"#9c179e\"], [0.4444444444444444, \"#bd3786\"], [0.5555555555555556, \"#d8576b\"], [0.6666666666666666, \"#ed7953\"], [0.7777777777777778, \"#fb9f3a\"], [0.8888888888888888, \"#fdca26\"], [1.0, \"#f0f921\"]], \"type\": \"histogram2dcontour\"}], \"mesh3d\": [{\"colorbar\": {\"outlinewidth\": 0, \"ticks\": \"\"}, \"type\": \"mesh3d\"}], \"parcoords\": [{\"line\": {\"colorbar\": {\"outlinewidth\": 0, \"ticks\": \"\"}}, \"type\": \"parcoords\"}], \"scatter\": [{\"marker\": {\"colorbar\": {\"outlinewidth\": 0, \"ticks\": \"\"}}, \"type\": \"scatter\"}], \"scatter3d\": [{\"line\": {\"colorbar\": {\"outlinewidth\": 0, \"ticks\": \"\"}}, \"marker\": {\"colorbar\": {\"outlinewidth\": 0, \"ticks\": \"\"}}, \"type\": \"scatter3d\"}], \"scattercarpet\": [{\"marker\": {\"colorbar\": {\"outlinewidth\": 0, \"ticks\": \"\"}}, \"type\": \"scattercarpet\"}], \"scattergeo\": [{\"marker\": {\"colorbar\": {\"outlinewidth\": 0, \"ticks\": \"\"}}, \"type\": \"scattergeo\"}], \"scattergl\": [{\"marker\": {\"colorbar\": {\"outlinewidth\": 0, \"ticks\": \"\"}}, \"type\": \"scattergl\"}], \"scattermapbox\": [{\"marker\": {\"colorbar\": {\"outlinewidth\": 0, \"ticks\": \"\"}}, \"type\": \"scattermapbox\"}], \"scatterpolar\": [{\"marker\": {\"colorbar\": {\"outlinewidth\": 0, \"ticks\": \"\"}}, \"type\": \"scatterpolar\"}], \"scatterpolargl\": [{\"marker\": {\"colorbar\": {\"outlinewidth\": 0, \"ticks\": \"\"}}, \"type\": \"scatterpolargl\"}], \"scatterternary\": [{\"marker\": {\"colorbar\": {\"outlinewidth\": 0, \"ticks\": \"\"}}, \"type\": \"scatterternary\"}], \"surface\": [{\"colorbar\": {\"outlinewidth\": 0, \"ticks\": \"\"}, \"colorscale\": [[0.0, \"#0d0887\"], [0.1111111111111111, \"#46039f\"], [0.2222222222222222, \"#7201a8\"], [0.3333333333333333, \"#9c179e\"], [0.4444444444444444, \"#bd3786\"], [0.5555555555555556, \"#d8576b\"], [0.6666666666666666, \"#ed7953\"], [0.7777777777777778, \"#fb9f3a\"], [0.8888888888888888, \"#fdca26\"], [1.0, \"#f0f921\"]], \"type\": \"surface\"}], \"table\": [{\"cells\": {\"fill\": {\"color\": \"#EBF0F8\"}, \"line\": {\"color\": \"white\"}}, \"header\": {\"fill\": {\"color\": \"#C8D4E3\"}, \"line\": {\"color\": \"white\"}}, \"type\": \"table\"}]}, \"layout\": {\"annotationdefaults\": {\"arrowcolor\": \"#2a3f5f\", \"arrowhead\": 0, \"arrowwidth\": 1}, \"colorscale\": {\"diverging\": [[0, \"#8e0152\"], [0.1, \"#c51b7d\"], [0.2, \"#de77ae\"], [0.3, \"#f1b6da\"], [0.4, \"#fde0ef\"], [0.5, \"#f7f7f7\"], [0.6, \"#e6f5d0\"], [0.7, \"#b8e186\"], [0.8, \"#7fbc41\"], [0.9, \"#4d9221\"], [1, \"#276419\"]], \"sequential\": [[0.0, \"#0d0887\"], [0.1111111111111111, \"#46039f\"], [0.2222222222222222, \"#7201a8\"], [0.3333333333333333, \"#9c179e\"], [0.4444444444444444, \"#bd3786\"], [0.5555555555555556, \"#d8576b\"], [0.6666666666666666, \"#ed7953\"], [0.7777777777777778, \"#fb9f3a\"], [0.8888888888888888, \"#fdca26\"], [1.0, \"#f0f921\"]], \"sequentialminus\": [[0.0, \"#0d0887\"], [0.1111111111111111, \"#46039f\"], [0.2222222222222222, \"#7201a8\"], [0.3333333333333333, \"#9c179e\"], [0.4444444444444444, \"#bd3786\"], [0.5555555555555556, \"#d8576b\"], [0.6666666666666666, \"#ed7953\"], [0.7777777777777778, \"#fb9f3a\"], [0.8888888888888888, \"#fdca26\"], [1.0, \"#f0f921\"]]}, \"colorway\": [\"#636efa\", \"#EF553B\", \"#00cc96\", \"#ab63fa\", \"#FFA15A\", \"#19d3f3\", \"#FF6692\", \"#B6E880\", \"#FF97FF\", \"#FECB52\"], \"font\": {\"color\": \"#2a3f5f\"}, \"geo\": {\"bgcolor\": \"white\", \"lakecolor\": \"white\", \"landcolor\": \"#E5ECF6\", \"showlakes\": true, \"showland\": true, \"subunitcolor\": \"white\"}, \"hoverlabel\": {\"align\": \"left\"}, \"hovermode\": \"closest\", \"mapbox\": {\"style\": \"light\"}, \"paper_bgcolor\": \"white\", \"plot_bgcolor\": \"#E5ECF6\", \"polar\": {\"angularaxis\": {\"gridcolor\": \"white\", \"linecolor\": \"white\", \"ticks\": \"\"}, \"bgcolor\": \"#E5ECF6\", \"radialaxis\": {\"gridcolor\": \"white\", \"linecolor\": \"white\", \"ticks\": \"\"}}, \"scene\": {\"xaxis\": {\"backgroundcolor\": \"#E5ECF6\", \"gridcolor\": \"white\", \"gridwidth\": 2, \"linecolor\": \"white\", \"showbackground\": true, \"ticks\": \"\", \"zerolinecolor\": \"white\"}, \"yaxis\": {\"backgroundcolor\": \"#E5ECF6\", \"gridcolor\": \"white\", \"gridwidth\": 2, \"linecolor\": \"white\", \"showbackground\": true, \"ticks\": \"\", \"zerolinecolor\": \"white\"}, \"zaxis\": {\"backgroundcolor\": \"#E5ECF6\", \"gridcolor\": \"white\", \"gridwidth\": 2, \"linecolor\": \"white\", \"showbackground\": true, \"ticks\": \"\", \"zerolinecolor\": \"white\"}}, \"shapedefaults\": {\"line\": {\"color\": \"#2a3f5f\"}}, \"ternary\": {\"aaxis\": {\"gridcolor\": \"white\", \"linecolor\": \"white\", \"ticks\": \"\"}, \"baxis\": {\"gridcolor\": \"white\", \"linecolor\": \"white\", \"ticks\": \"\"}, \"bgcolor\": \"#E5ECF6\", \"caxis\": {\"gridcolor\": \"white\", \"linecolor\": \"white\", \"ticks\": \"\"}}, \"title\": {\"x\": 0.05}, \"xaxis\": {\"automargin\": true, \"gridcolor\": \"white\", \"linecolor\": \"white\", \"ticks\": \"\", \"zerolinecolor\": \"white\", \"zerolinewidth\": 2}, \"yaxis\": {\"automargin\": true, \"gridcolor\": \"white\", \"linecolor\": \"white\", \"ticks\": \"\", \"zerolinecolor\": \"white\", \"zerolinewidth\": 2}}}, \"xaxis\": {\"gridcolor\": \"#F2E9E1\", \"gridwidth\": 1, \"hoverformat\": \",.1f\", \"linecolor\": \"#F2E9E1\", \"linewidth\": 2, \"showgrid\": true, \"showline\": true, \"tickcolor\": \"#F2E9E1\", \"ticklen\": 10, \"ticks\": \"outside\", \"tickwidth\": 0.5, \"title\": {\"font\": {\"color\": \"#1A1817\", \"size\": 12}, \"text\": \"<b>VARIETY</b> (total)\"}, \"zeroline\": true, \"zerolinecolor\": \"crimson\", \"zerolinewidth\": 1}, \"yaxis\": {\"gridcolor\": \"#F2E9E1\", \"gridwidth\": 1, \"hoverformat\": \",.1f\", \"linecolor\": \"#F2E9E1\", \"linewidth\": 2, \"showgrid\": true, \"showline\": true, \"tickcolor\": \"#F2E9E1\", \"ticklen\": 10, \"ticks\": \"outside\", \"tickwidth\": 0.5, \"title\": {\"font\": {\"color\": \"#1A1817\", \"size\": 12}, \"text\": \"<b>BRAND</b> (total)\"}, \"zeroline\": true, \"zerolinecolor\": \"crimson\", \"zerolinewidth\": 1}},\n",
       "                        {\"responsive\": true}\n",
       "                    ).then(function(){\n",
       "                            \n",
       "var gd = document.getElementById('7b94bbbf-c9b4-4fea-a486-f8ed902e1f22');\n",
       "var x = new MutationObserver(function (mutations, observer) {{\n",
       "        var display = window.getComputedStyle(gd).display;\n",
       "        if (!display || display === 'none') {{\n",
       "            console.log([gd, 'removed!']);\n",
       "            Plotly.purge(gd);\n",
       "            observer.disconnect();\n",
       "        }}\n",
       "}});\n",
       "\n",
       "// Listen for the removal of the full notebook cells\n",
       "var notebookContainer = gd.closest('#notebook-container');\n",
       "if (notebookContainer) {{\n",
       "    x.observe(notebookContainer, {childList: true});\n",
       "}}\n",
       "\n",
       "// Listen for the clearing of the current output cell\n",
       "var outputEl = gd.closest('.output');\n",
       "if (outputEl) {{\n",
       "    x.observe(outputEl, {childList: true});\n",
       "}}\n",
       "\n",
       "                        })\n",
       "                };\n",
       "                });\n",
       "            </script>\n",
       "        </div>"
      ]
     },
     "metadata": {},
     "output_type": "display_data"
    }
   ],
   "source": [
    "# Preparing data\n",
    "df2 = df1.groupby('Country').agg({'Variety':pd.Series.nunique,\n",
    "                                  'Brand':pd.Series.nunique, \n",
    "                                  'Stars':'mean',\n",
    "                                  'Review_#':['mean','sum'],\n",
    "                                  \n",
    "                                 })\n",
    "df2.columns =df2.columns.get_level_values(0)+\"_\"+df2.columns.get_level_values(1)\n",
    "df3 = df1.groupby(['Country','Brand']).agg({\n",
    "                                  'Stars':'mean',\n",
    "                                  'Review_#':'mean'\n",
    "                                 })\n",
    "\n",
    "# Generate plot and styling\n",
    "colorscale1 = [\n",
    "[0,'rgba(0,204,204,.5)'],\n",
    "[0.5,'rgba(0,102,102,.5)'], \n",
    "[1,'rgba(0,25,51,.5)']]\n",
    "\n",
    "colorscale1_line = [\n",
    "[0,'rgba(0,204,204,1)'],\n",
    "[0.5,'rgba(0,102,102,1)'], \n",
    "[1,'rgba(0,25,51,1)']]\n",
    "\n",
    "fig = go.Figure(data=  go.Scatter(\n",
    "        x=df2[\"Variety_nunique\"],\n",
    "        y=df2[\"Brand_nunique\"],\n",
    "        name =\"Country\",\n",
    "        mode=\"markers\",\n",
    "        text = df2.index,\n",
    "        marker=dict(\n",
    "            color=\"rgba(20,189,204,0.2)\",\n",
    "            size=15,\n",
    "            line=dict(color='#14BDCC', width=1)),\n",
    "        hoverinfo=\"x+y+z+text\",\n",
    "        hoverlabel = dict(\n",
    "                       bgcolor=\"rgba(20,189,204,1)\",\n",
    "                       bordercolor=\"rgba(20,189,204,0.5)\",\n",
    "                       font=dict(\n",
    "                           family=\"Arial\", \n",
    "                           size=10, \n",
    "                           color='rgba(255,255,255,1)'))))\n",
    "\n",
    "\n",
    "# Update xaxis properties\n",
    "fig.update_xaxes(title=dict(font=dict(size=12, color='#1A1817')),\n",
    "                 ticks=\"outside\", tickwidth=0.5, tickcolor='#F2E9E1', ticklen=10,hoverformat=\",.1f\",\n",
    "                 showline=True, linewidth=2, linecolor='#F2E9E1',\n",
    "                 showgrid=True, gridwidth=1, gridcolor='#F2E9E1',\n",
    "                 zeroline=True, zerolinewidth=1, zerolinecolor='crimson')\n",
    "\n",
    "fig.update_xaxes(title_text=\"<b>VARIETY</b> (total)\")\n",
    "\n",
    "# Update yaxis properties\n",
    "fig.update_yaxes(title= dict(font=dict(size=12, color='#1A1817'),),ticks=\"outside\", tickwidth=0.5, tickcolor='#F2E9E1', ticklen=10, hoverformat=\",.1f\",\n",
    "                 showline=True, linewidth=2, linecolor='#F2E9E1',\n",
    "                 showgrid=True, gridwidth=1, gridcolor='#F2E9E1',\n",
    "                 zeroline=True, zerolinewidth=1, zerolinecolor='crimson',)\n",
    "\n",
    "fig.update_yaxes(title_text=\"<b>BRAND</b> (total)\")\n",
    "\n",
    "fig.update_layout(    \n",
    "    font=dict(family=\"Raleway, sans-serif\", size=12, color='#98928E'),\n",
    "    plot_bgcolor=\"#fffaf7\",\n",
    "    showlegend=True,\n",
    "    paper_bgcolor = \"#fffaf7\",\n",
    "    height = 500,\n",
    "    annotations=[go.layout.Annotation(text=\"<b>Brand and variety are proportional with 1:5 ratio</b>\",x=-0.05,y=1.18,xref=\"paper\",yref=\"paper\",showarrow=False,\n",
    "                                      xanchor=\"left\",yanchor=\"top\",align=\"left\",font=dict(family=\" Raleway,sans-serif\", size=16, color='#1A1817')),\n",
    "                 go.layout.Annotation(text=\"Total brands and ramen varieties by country\",x=-0.05,y=1.12,xref=\"paper\",yref=\"paper\",showarrow=False,\n",
    "                                      xanchor=\"left\",yanchor=\"top\",align=\"left\",font=dict(family='Raleway,sans-serif', size=14, color='#98928E')),]\n",
    ")\n",
    "fig.show()"
   ]
  },
  {
   "cell_type": "markdown",
   "metadata": {},
   "source": [
    "#### 2.2 Which country has the highest competition?\n",
    "Competition level here is identified by both the number of brands and varieties. As you might expect, Japan has the highest number of brands, 58 and types, 333. The number of the brand to variety ratio seems to be proportional, at least for the top 10.\n",
    "\n"
   ]
  },
  {
   "cell_type": "code",
   "execution_count": 12,
   "metadata": {},
   "outputs": [
    {
     "data": {
      "application/vnd.plotly.v1+json": {
       "config": {
        "plotlyServerURL": "https://plot.ly"
       },
       "data": [
        {
         "hoverinfo": "x+y+z+text",
         "marker": {
          "color": [
           44110,
           13677,
           10468,
           9112,
           55822,
           224295,
           7593,
           2259,
           2199,
           6578,
           5393,
           55499,
           5090,
           3077,
           231999,
           17368,
           47189,
           124927,
           484327,
           253282,
           56879,
           26306,
           17123,
           27990,
           2502,
           15054,
           28853,
           3888,
           5122,
           185618,
           313192,
           4558,
           290380,
           217954,
           84028,
           351014,
           2007,
           92758
          ],
          "colorbar": {
           "len": 1,
           "title": {
            "font": {
             "color": "#1A1817",
             "size": 12
            },
            "text": "<b>TOTAL<br>REVIEWS</b>"
           },
           "x": 1.02,
           "y": 0.95,
           "yanchor": "top"
          },
          "colorscale": [
           [
            0,
            "rgba(0,204,204,.5)"
           ],
           [
            0.5,
            "rgba(0,102,102,.5)"
           ],
           [
            1,
            "rgba(0,25,51,.5)"
           ]
          ],
          "line": {
           "color": [
            44110,
            13677,
            10468,
            9112,
            55822,
            224295,
            7593,
            2259,
            2199,
            6578,
            5393,
            55499,
            5090,
            3077,
            231999,
            17368,
            47189,
            124927,
            484327,
            253282,
            56879,
            26306,
            17123,
            27990,
            2502,
            15054,
            28853,
            3888,
            5122,
            185618,
            313192,
            4558,
            290380,
            217954,
            84028,
            351014,
            2007,
            92758
           ],
           "colorscale": [
            [
             0,
             "rgba(0,204,204,1)"
            ],
            [
             0.5,
             "rgba(0,102,102,1)"
            ],
            [
             1,
             "rgba(0,25,51,1)"
            ]
           ],
           "width": 1
          },
          "size": 15
         },
         "mode": "markers",
         "name": "Country",
         "text": [
          "Australia",
          "Bangladesh",
          "Brazil",
          "Cambodia",
          "Canada",
          "China",
          "Colombia",
          "Dubai",
          "Estonia",
          "Fiji",
          "Finland",
          "Germany",
          "Ghana",
          "Holland",
          "Hong Kong",
          "Hungary",
          "India",
          "Indonesia",
          "Japan",
          "Malaysia",
          "Mexico",
          "Myanmar",
          "Nepal",
          "Netherlands",
          "Nigeria",
          "Pakistan",
          "Philippines",
          "Poland",
          "Sarawak",
          "Singapore",
          "South Korea",
          "Sweden",
          "Taiwan",
          "Thailand",
          "UK",
          "USA",
          "United States",
          "Vietnam"
         ],
         "type": "scatter",
         "x": [
          2005.0,
          1953.857142857143,
          2093.6,
          1822.4,
          1361.5121951219512,
          1327.189349112426,
          1265.5,
          753.0,
          1099.5,
          1644.5,
          1797.6666666666667,
          2055.5185185185187,
          2545.0,
          769.25,
          1693.4233576642337,
          1929.7777777777778,
          1522.225806451613,
          991.484126984127,
          1375.9289772727273,
          1623.6025641025642,
          2275.16,
          1879.0,
          1223.0714285714287,
          1866.0,
          2502.0,
          1672.6666666666667,
          613.8936170212766,
          972.0,
          1707.3333333333333,
          1702.9174311926606,
          1013.5663430420713,
          1519.3333333333333,
          1296.3392857142858,
          1141.1204188481674,
          1217.7971014492753,
          1086.7306501547987,
          2007.0,
          858.8703703703703
         ],
         "y": [
          3.1386363636363637,
          3.7142857142857144,
          4.35,
          4.2,
          2.2439024390243905,
          3.4218934911242602,
          3.2916666666666665,
          3.5833333333333335,
          3.5,
          3.875,
          3.5833333333333335,
          3.638888888888889,
          3.5,
          3.5625,
          3.8018248175182485,
          3.611111111111111,
          3.3951612903225805,
          4.067460317460317,
          3.981605113636364,
          4.121153846153846,
          3.73,
          3.9464285714285716,
          3.5535714285714284,
          2.4833333333333334,
          1.5,
          3.0,
          3.3297872340425534,
          3.625,
          4.333333333333333,
          4.126146788990826,
          3.7595469255663425,
          3.25,
          3.665401785714286,
          3.3848167539267022,
          2.9971014492753625,
          3.457043343653251,
          3.75,
          3.187962962962963
         ]
        }
       ],
       "layout": {
        "annotations": [
         {
          "align": "left",
          "font": {
           "color": "#1A1817",
           "family": " Raleway,sans-serif",
           "size": 16
          },
          "showarrow": false,
          "text": "<b>Most countries with high total reviews, generously rate ramens</b>",
          "x": -0.05,
          "xanchor": "left",
          "xref": "paper",
          "y": 1.18,
          "yanchor": "top",
          "yref": "paper"
         },
         {
          "align": "left",
          "font": {
           "color": "#98928E",
           "family": "Raleway,sans-serif",
           "size": 14
          },
          "showarrow": false,
          "text": "Countries average stars and reviews color coded by total reviews",
          "x": -0.05,
          "xanchor": "left",
          "xref": "paper",
          "y": 1.12,
          "yanchor": "top",
          "yref": "paper"
         }
        ],
        "font": {
         "color": "#98928E",
         "family": "Raleway, sans-serif",
         "size": 12
        },
        "height": 500,
        "paper_bgcolor": "#fffaf7",
        "plot_bgcolor": "#fffaf7",
        "showlegend": true,
        "template": {
         "data": {
          "bar": [
           {
            "error_x": {
             "color": "#2a3f5f"
            },
            "error_y": {
             "color": "#2a3f5f"
            },
            "marker": {
             "line": {
              "color": "#E5ECF6",
              "width": 0.5
             }
            },
            "type": "bar"
           }
          ],
          "barpolar": [
           {
            "marker": {
             "line": {
              "color": "#E5ECF6",
              "width": 0.5
             }
            },
            "type": "barpolar"
           }
          ],
          "carpet": [
           {
            "aaxis": {
             "endlinecolor": "#2a3f5f",
             "gridcolor": "white",
             "linecolor": "white",
             "minorgridcolor": "white",
             "startlinecolor": "#2a3f5f"
            },
            "baxis": {
             "endlinecolor": "#2a3f5f",
             "gridcolor": "white",
             "linecolor": "white",
             "minorgridcolor": "white",
             "startlinecolor": "#2a3f5f"
            },
            "type": "carpet"
           }
          ],
          "choropleth": [
           {
            "colorbar": {
             "outlinewidth": 0,
             "ticks": ""
            },
            "type": "choropleth"
           }
          ],
          "contour": [
           {
            "colorbar": {
             "outlinewidth": 0,
             "ticks": ""
            },
            "colorscale": [
             [
              0.0,
              "#0d0887"
             ],
             [
              0.1111111111111111,
              "#46039f"
             ],
             [
              0.2222222222222222,
              "#7201a8"
             ],
             [
              0.3333333333333333,
              "#9c179e"
             ],
             [
              0.4444444444444444,
              "#bd3786"
             ],
             [
              0.5555555555555556,
              "#d8576b"
             ],
             [
              0.6666666666666666,
              "#ed7953"
             ],
             [
              0.7777777777777778,
              "#fb9f3a"
             ],
             [
              0.8888888888888888,
              "#fdca26"
             ],
             [
              1.0,
              "#f0f921"
             ]
            ],
            "type": "contour"
           }
          ],
          "contourcarpet": [
           {
            "colorbar": {
             "outlinewidth": 0,
             "ticks": ""
            },
            "type": "contourcarpet"
           }
          ],
          "heatmap": [
           {
            "colorbar": {
             "outlinewidth": 0,
             "ticks": ""
            },
            "colorscale": [
             [
              0.0,
              "#0d0887"
             ],
             [
              0.1111111111111111,
              "#46039f"
             ],
             [
              0.2222222222222222,
              "#7201a8"
             ],
             [
              0.3333333333333333,
              "#9c179e"
             ],
             [
              0.4444444444444444,
              "#bd3786"
             ],
             [
              0.5555555555555556,
              "#d8576b"
             ],
             [
              0.6666666666666666,
              "#ed7953"
             ],
             [
              0.7777777777777778,
              "#fb9f3a"
             ],
             [
              0.8888888888888888,
              "#fdca26"
             ],
             [
              1.0,
              "#f0f921"
             ]
            ],
            "type": "heatmap"
           }
          ],
          "heatmapgl": [
           {
            "colorbar": {
             "outlinewidth": 0,
             "ticks": ""
            },
            "colorscale": [
             [
              0.0,
              "#0d0887"
             ],
             [
              0.1111111111111111,
              "#46039f"
             ],
             [
              0.2222222222222222,
              "#7201a8"
             ],
             [
              0.3333333333333333,
              "#9c179e"
             ],
             [
              0.4444444444444444,
              "#bd3786"
             ],
             [
              0.5555555555555556,
              "#d8576b"
             ],
             [
              0.6666666666666666,
              "#ed7953"
             ],
             [
              0.7777777777777778,
              "#fb9f3a"
             ],
             [
              0.8888888888888888,
              "#fdca26"
             ],
             [
              1.0,
              "#f0f921"
             ]
            ],
            "type": "heatmapgl"
           }
          ],
          "histogram": [
           {
            "marker": {
             "colorbar": {
              "outlinewidth": 0,
              "ticks": ""
             }
            },
            "type": "histogram"
           }
          ],
          "histogram2d": [
           {
            "colorbar": {
             "outlinewidth": 0,
             "ticks": ""
            },
            "colorscale": [
             [
              0.0,
              "#0d0887"
             ],
             [
              0.1111111111111111,
              "#46039f"
             ],
             [
              0.2222222222222222,
              "#7201a8"
             ],
             [
              0.3333333333333333,
              "#9c179e"
             ],
             [
              0.4444444444444444,
              "#bd3786"
             ],
             [
              0.5555555555555556,
              "#d8576b"
             ],
             [
              0.6666666666666666,
              "#ed7953"
             ],
             [
              0.7777777777777778,
              "#fb9f3a"
             ],
             [
              0.8888888888888888,
              "#fdca26"
             ],
             [
              1.0,
              "#f0f921"
             ]
            ],
            "type": "histogram2d"
           }
          ],
          "histogram2dcontour": [
           {
            "colorbar": {
             "outlinewidth": 0,
             "ticks": ""
            },
            "colorscale": [
             [
              0.0,
              "#0d0887"
             ],
             [
              0.1111111111111111,
              "#46039f"
             ],
             [
              0.2222222222222222,
              "#7201a8"
             ],
             [
              0.3333333333333333,
              "#9c179e"
             ],
             [
              0.4444444444444444,
              "#bd3786"
             ],
             [
              0.5555555555555556,
              "#d8576b"
             ],
             [
              0.6666666666666666,
              "#ed7953"
             ],
             [
              0.7777777777777778,
              "#fb9f3a"
             ],
             [
              0.8888888888888888,
              "#fdca26"
             ],
             [
              1.0,
              "#f0f921"
             ]
            ],
            "type": "histogram2dcontour"
           }
          ],
          "mesh3d": [
           {
            "colorbar": {
             "outlinewidth": 0,
             "ticks": ""
            },
            "type": "mesh3d"
           }
          ],
          "parcoords": [
           {
            "line": {
             "colorbar": {
              "outlinewidth": 0,
              "ticks": ""
             }
            },
            "type": "parcoords"
           }
          ],
          "scatter": [
           {
            "marker": {
             "colorbar": {
              "outlinewidth": 0,
              "ticks": ""
             }
            },
            "type": "scatter"
           }
          ],
          "scatter3d": [
           {
            "line": {
             "colorbar": {
              "outlinewidth": 0,
              "ticks": ""
             }
            },
            "marker": {
             "colorbar": {
              "outlinewidth": 0,
              "ticks": ""
             }
            },
            "type": "scatter3d"
           }
          ],
          "scattercarpet": [
           {
            "marker": {
             "colorbar": {
              "outlinewidth": 0,
              "ticks": ""
             }
            },
            "type": "scattercarpet"
           }
          ],
          "scattergeo": [
           {
            "marker": {
             "colorbar": {
              "outlinewidth": 0,
              "ticks": ""
             }
            },
            "type": "scattergeo"
           }
          ],
          "scattergl": [
           {
            "marker": {
             "colorbar": {
              "outlinewidth": 0,
              "ticks": ""
             }
            },
            "type": "scattergl"
           }
          ],
          "scattermapbox": [
           {
            "marker": {
             "colorbar": {
              "outlinewidth": 0,
              "ticks": ""
             }
            },
            "type": "scattermapbox"
           }
          ],
          "scatterpolar": [
           {
            "marker": {
             "colorbar": {
              "outlinewidth": 0,
              "ticks": ""
             }
            },
            "type": "scatterpolar"
           }
          ],
          "scatterpolargl": [
           {
            "marker": {
             "colorbar": {
              "outlinewidth": 0,
              "ticks": ""
             }
            },
            "type": "scatterpolargl"
           }
          ],
          "scatterternary": [
           {
            "marker": {
             "colorbar": {
              "outlinewidth": 0,
              "ticks": ""
             }
            },
            "type": "scatterternary"
           }
          ],
          "surface": [
           {
            "colorbar": {
             "outlinewidth": 0,
             "ticks": ""
            },
            "colorscale": [
             [
              0.0,
              "#0d0887"
             ],
             [
              0.1111111111111111,
              "#46039f"
             ],
             [
              0.2222222222222222,
              "#7201a8"
             ],
             [
              0.3333333333333333,
              "#9c179e"
             ],
             [
              0.4444444444444444,
              "#bd3786"
             ],
             [
              0.5555555555555556,
              "#d8576b"
             ],
             [
              0.6666666666666666,
              "#ed7953"
             ],
             [
              0.7777777777777778,
              "#fb9f3a"
             ],
             [
              0.8888888888888888,
              "#fdca26"
             ],
             [
              1.0,
              "#f0f921"
             ]
            ],
            "type": "surface"
           }
          ],
          "table": [
           {
            "cells": {
             "fill": {
              "color": "#EBF0F8"
             },
             "line": {
              "color": "white"
             }
            },
            "header": {
             "fill": {
              "color": "#C8D4E3"
             },
             "line": {
              "color": "white"
             }
            },
            "type": "table"
           }
          ]
         },
         "layout": {
          "annotationdefaults": {
           "arrowcolor": "#2a3f5f",
           "arrowhead": 0,
           "arrowwidth": 1
          },
          "colorscale": {
           "diverging": [
            [
             0,
             "#8e0152"
            ],
            [
             0.1,
             "#c51b7d"
            ],
            [
             0.2,
             "#de77ae"
            ],
            [
             0.3,
             "#f1b6da"
            ],
            [
             0.4,
             "#fde0ef"
            ],
            [
             0.5,
             "#f7f7f7"
            ],
            [
             0.6,
             "#e6f5d0"
            ],
            [
             0.7,
             "#b8e186"
            ],
            [
             0.8,
             "#7fbc41"
            ],
            [
             0.9,
             "#4d9221"
            ],
            [
             1,
             "#276419"
            ]
           ],
           "sequential": [
            [
             0.0,
             "#0d0887"
            ],
            [
             0.1111111111111111,
             "#46039f"
            ],
            [
             0.2222222222222222,
             "#7201a8"
            ],
            [
             0.3333333333333333,
             "#9c179e"
            ],
            [
             0.4444444444444444,
             "#bd3786"
            ],
            [
             0.5555555555555556,
             "#d8576b"
            ],
            [
             0.6666666666666666,
             "#ed7953"
            ],
            [
             0.7777777777777778,
             "#fb9f3a"
            ],
            [
             0.8888888888888888,
             "#fdca26"
            ],
            [
             1.0,
             "#f0f921"
            ]
           ],
           "sequentialminus": [
            [
             0.0,
             "#0d0887"
            ],
            [
             0.1111111111111111,
             "#46039f"
            ],
            [
             0.2222222222222222,
             "#7201a8"
            ],
            [
             0.3333333333333333,
             "#9c179e"
            ],
            [
             0.4444444444444444,
             "#bd3786"
            ],
            [
             0.5555555555555556,
             "#d8576b"
            ],
            [
             0.6666666666666666,
             "#ed7953"
            ],
            [
             0.7777777777777778,
             "#fb9f3a"
            ],
            [
             0.8888888888888888,
             "#fdca26"
            ],
            [
             1.0,
             "#f0f921"
            ]
           ]
          },
          "colorway": [
           "#636efa",
           "#EF553B",
           "#00cc96",
           "#ab63fa",
           "#FFA15A",
           "#19d3f3",
           "#FF6692",
           "#B6E880",
           "#FF97FF",
           "#FECB52"
          ],
          "font": {
           "color": "#2a3f5f"
          },
          "geo": {
           "bgcolor": "white",
           "lakecolor": "white",
           "landcolor": "#E5ECF6",
           "showlakes": true,
           "showland": true,
           "subunitcolor": "white"
          },
          "hoverlabel": {
           "align": "left"
          },
          "hovermode": "closest",
          "mapbox": {
           "style": "light"
          },
          "paper_bgcolor": "white",
          "plot_bgcolor": "#E5ECF6",
          "polar": {
           "angularaxis": {
            "gridcolor": "white",
            "linecolor": "white",
            "ticks": ""
           },
           "bgcolor": "#E5ECF6",
           "radialaxis": {
            "gridcolor": "white",
            "linecolor": "white",
            "ticks": ""
           }
          },
          "scene": {
           "xaxis": {
            "backgroundcolor": "#E5ECF6",
            "gridcolor": "white",
            "gridwidth": 2,
            "linecolor": "white",
            "showbackground": true,
            "ticks": "",
            "zerolinecolor": "white"
           },
           "yaxis": {
            "backgroundcolor": "#E5ECF6",
            "gridcolor": "white",
            "gridwidth": 2,
            "linecolor": "white",
            "showbackground": true,
            "ticks": "",
            "zerolinecolor": "white"
           },
           "zaxis": {
            "backgroundcolor": "#E5ECF6",
            "gridcolor": "white",
            "gridwidth": 2,
            "linecolor": "white",
            "showbackground": true,
            "ticks": "",
            "zerolinecolor": "white"
           }
          },
          "shapedefaults": {
           "line": {
            "color": "#2a3f5f"
           }
          },
          "ternary": {
           "aaxis": {
            "gridcolor": "white",
            "linecolor": "white",
            "ticks": ""
           },
           "baxis": {
            "gridcolor": "white",
            "linecolor": "white",
            "ticks": ""
           },
           "bgcolor": "#E5ECF6",
           "caxis": {
            "gridcolor": "white",
            "linecolor": "white",
            "ticks": ""
           }
          },
          "title": {
           "x": 0.05
          },
          "xaxis": {
           "automargin": true,
           "gridcolor": "white",
           "linecolor": "white",
           "ticks": "",
           "zerolinecolor": "white",
           "zerolinewidth": 2
          },
          "yaxis": {
           "automargin": true,
           "gridcolor": "white",
           "linecolor": "white",
           "ticks": "",
           "zerolinecolor": "white",
           "zerolinewidth": 2
          }
         }
        },
        "xaxis": {
         "gridcolor": "#F2E9E1",
         "gridwidth": 1,
         "hoverformat": ",.1f",
         "linecolor": "#F2E9E1",
         "linewidth": 2,
         "showgrid": true,
         "showline": true,
         "tickcolor": "#F2E9E1",
         "ticklen": 10,
         "ticks": "outside",
         "tickwidth": 0.5,
         "title": {
          "font": {
           "color": "#1A1817",
           "size": 12
          },
          "text": "<b>REVIEWS</b> (average per ramen)"
         },
         "zeroline": true,
         "zerolinecolor": "crimson",
         "zerolinewidth": 1
        },
        "yaxis": {
         "gridcolor": "#F2E9E1",
         "gridwidth": 1,
         "hoverformat": ",.1f",
         "linecolor": "#F2E9E1",
         "linewidth": 2,
         "showgrid": true,
         "showline": true,
         "tickcolor": "#F2E9E1",
         "ticklen": 10,
         "ticks": "outside",
         "tickwidth": 0.5,
         "title": {
          "font": {
           "color": "#1A1817",
           "size": 12
          },
          "text": "<b>STARS</b> (rating)"
         },
         "zeroline": true,
         "zerolinecolor": "crimson",
         "zerolinewidth": 1
        }
       }
      },
      "text/html": [
       "<div>\n",
       "        \n",
       "        \n",
       "            <div id=\"d21312df-b3f9-478d-b22b-b7120f6573bb\" class=\"plotly-graph-div\" style=\"height:500px; width:100%;\"></div>\n",
       "            <script type=\"text/javascript\">\n",
       "                require([\"plotly\"], function(Plotly) {\n",
       "                    window.PLOTLYENV=window.PLOTLYENV || {};\n",
       "                    \n",
       "                if (document.getElementById(\"d21312df-b3f9-478d-b22b-b7120f6573bb\")) {\n",
       "                    Plotly.newPlot(\n",
       "                        'd21312df-b3f9-478d-b22b-b7120f6573bb',\n",
       "                        [{\"hoverinfo\": \"x+y+z+text\", \"marker\": {\"color\": [44110, 13677, 10468, 9112, 55822, 224295, 7593, 2259, 2199, 6578, 5393, 55499, 5090, 3077, 231999, 17368, 47189, 124927, 484327, 253282, 56879, 26306, 17123, 27990, 2502, 15054, 28853, 3888, 5122, 185618, 313192, 4558, 290380, 217954, 84028, 351014, 2007, 92758], \"colorbar\": {\"len\": 1, \"title\": {\"font\": {\"color\": \"#1A1817\", \"size\": 12}, \"text\": \"<b>TOTAL<br>REVIEWS</b>\"}, \"x\": 1.02, \"y\": 0.95, \"yanchor\": \"top\"}, \"colorscale\": [[0, \"rgba(0,204,204,.5)\"], [0.5, \"rgba(0,102,102,.5)\"], [1, \"rgba(0,25,51,.5)\"]], \"line\": {\"color\": [44110, 13677, 10468, 9112, 55822, 224295, 7593, 2259, 2199, 6578, 5393, 55499, 5090, 3077, 231999, 17368, 47189, 124927, 484327, 253282, 56879, 26306, 17123, 27990, 2502, 15054, 28853, 3888, 5122, 185618, 313192, 4558, 290380, 217954, 84028, 351014, 2007, 92758], \"colorscale\": [[0, \"rgba(0,204,204,1)\"], [0.5, \"rgba(0,102,102,1)\"], [1, \"rgba(0,25,51,1)\"]], \"width\": 1}, \"size\": 15}, \"mode\": \"markers\", \"name\": \"Country\", \"text\": [\"Australia\", \"Bangladesh\", \"Brazil\", \"Cambodia\", \"Canada\", \"China\", \"Colombia\", \"Dubai\", \"Estonia\", \"Fiji\", \"Finland\", \"Germany\", \"Ghana\", \"Holland\", \"Hong Kong\", \"Hungary\", \"India\", \"Indonesia\", \"Japan\", \"Malaysia\", \"Mexico\", \"Myanmar\", \"Nepal\", \"Netherlands\", \"Nigeria\", \"Pakistan\", \"Philippines\", \"Poland\", \"Sarawak\", \"Singapore\", \"South Korea\", \"Sweden\", \"Taiwan\", \"Thailand\", \"UK\", \"USA\", \"United States\", \"Vietnam\"], \"type\": \"scatter\", \"x\": [2005.0, 1953.857142857143, 2093.6, 1822.4, 1361.5121951219512, 1327.189349112426, 1265.5, 753.0, 1099.5, 1644.5, 1797.6666666666667, 2055.5185185185187, 2545.0, 769.25, 1693.4233576642337, 1929.7777777777778, 1522.225806451613, 991.484126984127, 1375.9289772727273, 1623.6025641025642, 2275.16, 1879.0, 1223.0714285714287, 1866.0, 2502.0, 1672.6666666666667, 613.8936170212766, 972.0, 1707.3333333333333, 1702.9174311926606, 1013.5663430420713, 1519.3333333333333, 1296.3392857142858, 1141.1204188481674, 1217.7971014492753, 1086.7306501547987, 2007.0, 858.8703703703703], \"y\": [3.1386363636363637, 3.7142857142857144, 4.35, 4.2, 2.2439024390243905, 3.4218934911242602, 3.2916666666666665, 3.5833333333333335, 3.5, 3.875, 3.5833333333333335, 3.638888888888889, 3.5, 3.5625, 3.8018248175182485, 3.611111111111111, 3.3951612903225805, 4.067460317460317, 3.981605113636364, 4.121153846153846, 3.73, 3.9464285714285716, 3.5535714285714284, 2.4833333333333334, 1.5, 3.0, 3.3297872340425534, 3.625, 4.333333333333333, 4.126146788990826, 3.7595469255663425, 3.25, 3.665401785714286, 3.3848167539267022, 2.9971014492753625, 3.457043343653251, 3.75, 3.187962962962963]}],\n",
       "                        {\"annotations\": [{\"align\": \"left\", \"font\": {\"color\": \"#1A1817\", \"family\": \" Raleway,sans-serif\", \"size\": 16}, \"showarrow\": false, \"text\": \"<b>Most countries with high total reviews, generously rate ramens</b>\", \"x\": -0.05, \"xanchor\": \"left\", \"xref\": \"paper\", \"y\": 1.18, \"yanchor\": \"top\", \"yref\": \"paper\"}, {\"align\": \"left\", \"font\": {\"color\": \"#98928E\", \"family\": \"Raleway,sans-serif\", \"size\": 14}, \"showarrow\": false, \"text\": \"Countries average stars and reviews color coded by total reviews\", \"x\": -0.05, \"xanchor\": \"left\", \"xref\": \"paper\", \"y\": 1.12, \"yanchor\": \"top\", \"yref\": \"paper\"}], \"font\": {\"color\": \"#98928E\", \"family\": \"Raleway, sans-serif\", \"size\": 12}, \"height\": 500, \"paper_bgcolor\": \"#fffaf7\", \"plot_bgcolor\": \"#fffaf7\", \"showlegend\": true, \"template\": {\"data\": {\"bar\": [{\"error_x\": {\"color\": \"#2a3f5f\"}, \"error_y\": {\"color\": \"#2a3f5f\"}, \"marker\": {\"line\": {\"color\": \"#E5ECF6\", \"width\": 0.5}}, \"type\": \"bar\"}], \"barpolar\": [{\"marker\": {\"line\": {\"color\": \"#E5ECF6\", \"width\": 0.5}}, \"type\": \"barpolar\"}], \"carpet\": [{\"aaxis\": {\"endlinecolor\": \"#2a3f5f\", \"gridcolor\": \"white\", \"linecolor\": \"white\", \"minorgridcolor\": \"white\", \"startlinecolor\": \"#2a3f5f\"}, \"baxis\": {\"endlinecolor\": \"#2a3f5f\", \"gridcolor\": \"white\", \"linecolor\": \"white\", \"minorgridcolor\": \"white\", \"startlinecolor\": \"#2a3f5f\"}, \"type\": \"carpet\"}], \"choropleth\": [{\"colorbar\": {\"outlinewidth\": 0, \"ticks\": \"\"}, \"type\": \"choropleth\"}], \"contour\": [{\"colorbar\": {\"outlinewidth\": 0, \"ticks\": \"\"}, \"colorscale\": [[0.0, \"#0d0887\"], [0.1111111111111111, \"#46039f\"], [0.2222222222222222, \"#7201a8\"], [0.3333333333333333, \"#9c179e\"], [0.4444444444444444, \"#bd3786\"], [0.5555555555555556, \"#d8576b\"], [0.6666666666666666, \"#ed7953\"], [0.7777777777777778, \"#fb9f3a\"], [0.8888888888888888, \"#fdca26\"], [1.0, \"#f0f921\"]], \"type\": \"contour\"}], \"contourcarpet\": [{\"colorbar\": {\"outlinewidth\": 0, \"ticks\": \"\"}, \"type\": \"contourcarpet\"}], \"heatmap\": [{\"colorbar\": {\"outlinewidth\": 0, \"ticks\": \"\"}, \"colorscale\": [[0.0, \"#0d0887\"], [0.1111111111111111, \"#46039f\"], [0.2222222222222222, \"#7201a8\"], [0.3333333333333333, \"#9c179e\"], [0.4444444444444444, \"#bd3786\"], [0.5555555555555556, \"#d8576b\"], [0.6666666666666666, \"#ed7953\"], [0.7777777777777778, \"#fb9f3a\"], [0.8888888888888888, \"#fdca26\"], [1.0, \"#f0f921\"]], \"type\": \"heatmap\"}], \"heatmapgl\": [{\"colorbar\": {\"outlinewidth\": 0, \"ticks\": \"\"}, \"colorscale\": [[0.0, \"#0d0887\"], [0.1111111111111111, \"#46039f\"], [0.2222222222222222, \"#7201a8\"], [0.3333333333333333, \"#9c179e\"], [0.4444444444444444, \"#bd3786\"], [0.5555555555555556, \"#d8576b\"], [0.6666666666666666, \"#ed7953\"], [0.7777777777777778, \"#fb9f3a\"], [0.8888888888888888, \"#fdca26\"], [1.0, \"#f0f921\"]], \"type\": \"heatmapgl\"}], \"histogram\": [{\"marker\": {\"colorbar\": {\"outlinewidth\": 0, \"ticks\": \"\"}}, \"type\": \"histogram\"}], \"histogram2d\": [{\"colorbar\": {\"outlinewidth\": 0, \"ticks\": \"\"}, \"colorscale\": [[0.0, \"#0d0887\"], [0.1111111111111111, \"#46039f\"], [0.2222222222222222, \"#7201a8\"], [0.3333333333333333, \"#9c179e\"], [0.4444444444444444, \"#bd3786\"], [0.5555555555555556, \"#d8576b\"], [0.6666666666666666, \"#ed7953\"], [0.7777777777777778, \"#fb9f3a\"], [0.8888888888888888, \"#fdca26\"], [1.0, \"#f0f921\"]], \"type\": \"histogram2d\"}], \"histogram2dcontour\": [{\"colorbar\": {\"outlinewidth\": 0, \"ticks\": \"\"}, \"colorscale\": [[0.0, \"#0d0887\"], [0.1111111111111111, \"#46039f\"], [0.2222222222222222, \"#7201a8\"], [0.3333333333333333, \"#9c179e\"], [0.4444444444444444, \"#bd3786\"], [0.5555555555555556, \"#d8576b\"], [0.6666666666666666, \"#ed7953\"], [0.7777777777777778, \"#fb9f3a\"], [0.8888888888888888, \"#fdca26\"], [1.0, \"#f0f921\"]], \"type\": \"histogram2dcontour\"}], \"mesh3d\": [{\"colorbar\": {\"outlinewidth\": 0, \"ticks\": \"\"}, \"type\": \"mesh3d\"}], \"parcoords\": [{\"line\": {\"colorbar\": {\"outlinewidth\": 0, \"ticks\": \"\"}}, \"type\": \"parcoords\"}], \"scatter\": [{\"marker\": {\"colorbar\": {\"outlinewidth\": 0, \"ticks\": \"\"}}, \"type\": \"scatter\"}], \"scatter3d\": [{\"line\": {\"colorbar\": {\"outlinewidth\": 0, \"ticks\": \"\"}}, \"marker\": {\"colorbar\": {\"outlinewidth\": 0, \"ticks\": \"\"}}, \"type\": \"scatter3d\"}], \"scattercarpet\": [{\"marker\": {\"colorbar\": {\"outlinewidth\": 0, \"ticks\": \"\"}}, \"type\": \"scattercarpet\"}], \"scattergeo\": [{\"marker\": {\"colorbar\": {\"outlinewidth\": 0, \"ticks\": \"\"}}, \"type\": \"scattergeo\"}], \"scattergl\": [{\"marker\": {\"colorbar\": {\"outlinewidth\": 0, \"ticks\": \"\"}}, \"type\": \"scattergl\"}], \"scattermapbox\": [{\"marker\": {\"colorbar\": {\"outlinewidth\": 0, \"ticks\": \"\"}}, \"type\": \"scattermapbox\"}], \"scatterpolar\": [{\"marker\": {\"colorbar\": {\"outlinewidth\": 0, \"ticks\": \"\"}}, \"type\": \"scatterpolar\"}], \"scatterpolargl\": [{\"marker\": {\"colorbar\": {\"outlinewidth\": 0, \"ticks\": \"\"}}, \"type\": \"scatterpolargl\"}], \"scatterternary\": [{\"marker\": {\"colorbar\": {\"outlinewidth\": 0, \"ticks\": \"\"}}, \"type\": \"scatterternary\"}], \"surface\": [{\"colorbar\": {\"outlinewidth\": 0, \"ticks\": \"\"}, \"colorscale\": [[0.0, \"#0d0887\"], [0.1111111111111111, \"#46039f\"], [0.2222222222222222, \"#7201a8\"], [0.3333333333333333, \"#9c179e\"], [0.4444444444444444, \"#bd3786\"], [0.5555555555555556, \"#d8576b\"], [0.6666666666666666, \"#ed7953\"], [0.7777777777777778, \"#fb9f3a\"], [0.8888888888888888, \"#fdca26\"], [1.0, \"#f0f921\"]], \"type\": \"surface\"}], \"table\": [{\"cells\": {\"fill\": {\"color\": \"#EBF0F8\"}, \"line\": {\"color\": \"white\"}}, \"header\": {\"fill\": {\"color\": \"#C8D4E3\"}, \"line\": {\"color\": \"white\"}}, \"type\": \"table\"}]}, \"layout\": {\"annotationdefaults\": {\"arrowcolor\": \"#2a3f5f\", \"arrowhead\": 0, \"arrowwidth\": 1}, \"colorscale\": {\"diverging\": [[0, \"#8e0152\"], [0.1, \"#c51b7d\"], [0.2, \"#de77ae\"], [0.3, \"#f1b6da\"], [0.4, \"#fde0ef\"], [0.5, \"#f7f7f7\"], [0.6, \"#e6f5d0\"], [0.7, \"#b8e186\"], [0.8, \"#7fbc41\"], [0.9, \"#4d9221\"], [1, \"#276419\"]], \"sequential\": [[0.0, \"#0d0887\"], [0.1111111111111111, \"#46039f\"], [0.2222222222222222, \"#7201a8\"], [0.3333333333333333, \"#9c179e\"], [0.4444444444444444, \"#bd3786\"], [0.5555555555555556, \"#d8576b\"], [0.6666666666666666, \"#ed7953\"], [0.7777777777777778, \"#fb9f3a\"], [0.8888888888888888, \"#fdca26\"], [1.0, \"#f0f921\"]], \"sequentialminus\": [[0.0, \"#0d0887\"], [0.1111111111111111, \"#46039f\"], [0.2222222222222222, \"#7201a8\"], [0.3333333333333333, \"#9c179e\"], [0.4444444444444444, \"#bd3786\"], [0.5555555555555556, \"#d8576b\"], [0.6666666666666666, \"#ed7953\"], [0.7777777777777778, \"#fb9f3a\"], [0.8888888888888888, \"#fdca26\"], [1.0, \"#f0f921\"]]}, \"colorway\": [\"#636efa\", \"#EF553B\", \"#00cc96\", \"#ab63fa\", \"#FFA15A\", \"#19d3f3\", \"#FF6692\", \"#B6E880\", \"#FF97FF\", \"#FECB52\"], \"font\": {\"color\": \"#2a3f5f\"}, \"geo\": {\"bgcolor\": \"white\", \"lakecolor\": \"white\", \"landcolor\": \"#E5ECF6\", \"showlakes\": true, \"showland\": true, \"subunitcolor\": \"white\"}, \"hoverlabel\": {\"align\": \"left\"}, \"hovermode\": \"closest\", \"mapbox\": {\"style\": \"light\"}, \"paper_bgcolor\": \"white\", \"plot_bgcolor\": \"#E5ECF6\", \"polar\": {\"angularaxis\": {\"gridcolor\": \"white\", \"linecolor\": \"white\", \"ticks\": \"\"}, \"bgcolor\": \"#E5ECF6\", \"radialaxis\": {\"gridcolor\": \"white\", \"linecolor\": \"white\", \"ticks\": \"\"}}, \"scene\": {\"xaxis\": {\"backgroundcolor\": \"#E5ECF6\", \"gridcolor\": \"white\", \"gridwidth\": 2, \"linecolor\": \"white\", \"showbackground\": true, \"ticks\": \"\", \"zerolinecolor\": \"white\"}, \"yaxis\": {\"backgroundcolor\": \"#E5ECF6\", \"gridcolor\": \"white\", \"gridwidth\": 2, \"linecolor\": \"white\", \"showbackground\": true, \"ticks\": \"\", \"zerolinecolor\": \"white\"}, \"zaxis\": {\"backgroundcolor\": \"#E5ECF6\", \"gridcolor\": \"white\", \"gridwidth\": 2, \"linecolor\": \"white\", \"showbackground\": true, \"ticks\": \"\", \"zerolinecolor\": \"white\"}}, \"shapedefaults\": {\"line\": {\"color\": \"#2a3f5f\"}}, \"ternary\": {\"aaxis\": {\"gridcolor\": \"white\", \"linecolor\": \"white\", \"ticks\": \"\"}, \"baxis\": {\"gridcolor\": \"white\", \"linecolor\": \"white\", \"ticks\": \"\"}, \"bgcolor\": \"#E5ECF6\", \"caxis\": {\"gridcolor\": \"white\", \"linecolor\": \"white\", \"ticks\": \"\"}}, \"title\": {\"x\": 0.05}, \"xaxis\": {\"automargin\": true, \"gridcolor\": \"white\", \"linecolor\": \"white\", \"ticks\": \"\", \"zerolinecolor\": \"white\", \"zerolinewidth\": 2}, \"yaxis\": {\"automargin\": true, \"gridcolor\": \"white\", \"linecolor\": \"white\", \"ticks\": \"\", \"zerolinecolor\": \"white\", \"zerolinewidth\": 2}}}, \"xaxis\": {\"gridcolor\": \"#F2E9E1\", \"gridwidth\": 1, \"hoverformat\": \",.1f\", \"linecolor\": \"#F2E9E1\", \"linewidth\": 2, \"showgrid\": true, \"showline\": true, \"tickcolor\": \"#F2E9E1\", \"ticklen\": 10, \"ticks\": \"outside\", \"tickwidth\": 0.5, \"title\": {\"font\": {\"color\": \"#1A1817\", \"size\": 12}, \"text\": \"<b>REVIEWS</b> (average per ramen)\"}, \"zeroline\": true, \"zerolinecolor\": \"crimson\", \"zerolinewidth\": 1}, \"yaxis\": {\"gridcolor\": \"#F2E9E1\", \"gridwidth\": 1, \"hoverformat\": \",.1f\", \"linecolor\": \"#F2E9E1\", \"linewidth\": 2, \"showgrid\": true, \"showline\": true, \"tickcolor\": \"#F2E9E1\", \"ticklen\": 10, \"ticks\": \"outside\", \"tickwidth\": 0.5, \"title\": {\"font\": {\"color\": \"#1A1817\", \"size\": 12}, \"text\": \"<b>STARS</b> (rating)\"}, \"zeroline\": true, \"zerolinecolor\": \"crimson\", \"zerolinewidth\": 1}},\n",
       "                        {\"responsive\": true}\n",
       "                    ).then(function(){\n",
       "                            \n",
       "var gd = document.getElementById('d21312df-b3f9-478d-b22b-b7120f6573bb');\n",
       "var x = new MutationObserver(function (mutations, observer) {{\n",
       "        var display = window.getComputedStyle(gd).display;\n",
       "        if (!display || display === 'none') {{\n",
       "            console.log([gd, 'removed!']);\n",
       "            Plotly.purge(gd);\n",
       "            observer.disconnect();\n",
       "        }}\n",
       "}});\n",
       "\n",
       "// Listen for the removal of the full notebook cells\n",
       "var notebookContainer = gd.closest('#notebook-container');\n",
       "if (notebookContainer) {{\n",
       "    x.observe(notebookContainer, {childList: true});\n",
       "}}\n",
       "\n",
       "// Listen for the clearing of the current output cell\n",
       "var outputEl = gd.closest('.output');\n",
       "if (outputEl) {{\n",
       "    x.observe(outputEl, {childList: true});\n",
       "}}\n",
       "\n",
       "                        })\n",
       "                };\n",
       "                });\n",
       "            </script>\n",
       "        </div>"
      ]
     },
     "metadata": {},
     "output_type": "display_data"
    }
   ],
   "source": [
    "# Preparing data\n",
    "df2 = df1.groupby('Country').agg({'Variety':pd.Series.nunique,\n",
    "                                  'Brand':pd.Series.nunique, \n",
    "                                  'Stars':'mean',\n",
    "                                  'Review_#':['mean','sum'],\n",
    "                                  \n",
    "                                 })\n",
    "df2.columns =df2.columns.get_level_values(0)+\"_\"+df2.columns.get_level_values(1)\n",
    "df3 = df1.groupby(['Country','Brand']).agg({\n",
    "                                  'Stars':'mean',\n",
    "                                  'Review_#':'mean'\n",
    "                                 })\n",
    "\n",
    "# Generate plot and styling\n",
    "colorscale1 = [\n",
    "[0,'rgba(0,204,204,.5)'],\n",
    "[0.5,'rgba(0,102,102,.5)'], \n",
    "[1,'rgba(0,25,51,.5)']]\n",
    "\n",
    "colorscale1_line = [\n",
    "[0,'rgba(0,204,204,1)'],\n",
    "[0.5,'rgba(0,102,102,1)'], \n",
    "[1,'rgba(0,25,51,1)']]\n",
    "\n",
    "fig = go.Figure(data=  go.Scatter(x=df2[\"Review_#_mean\"],\n",
    "               y=df2[\"Stars_mean\"],\n",
    "               mode=\"markers\",\n",
    "               name=\"Country\",\n",
    "               hoverinfo=\"x+y+z+text\",\n",
    "               text = df2.index,\n",
    "               marker=dict(color=(df2[\"Review_#_sum\"]), size=15,\n",
    "                           colorbar=dict(title= dict(text=\"<b>TOTAL<br>REVIEWS</b>\",font=dict(size=12, color='#1A1817'),),x=1.02, y=0.95,yanchor=\"top\", len=1, ),colorscale=colorscale1,\n",
    "                           line=dict(color=df2[\"Review_#_sum\"],width=1,colorscale=colorscale1_line)), \n",
    "               \n",
    "              ))\n",
    "\n",
    "\n",
    "\n",
    "# Update xaxis properties\n",
    "fig.update_xaxes(title=dict(font=dict(size=12, color='#1A1817')),\n",
    "                 ticks=\"outside\", tickwidth=0.5, tickcolor='#F2E9E1', ticklen=10,hoverformat=\",.1f\",\n",
    "                 showline=True, linewidth=2, linecolor='#F2E9E1',\n",
    "                 showgrid=True, gridwidth=1, gridcolor='#F2E9E1',\n",
    "                 zeroline=True, zerolinewidth=1, zerolinecolor='crimson')\n",
    "fig.update_xaxes(title_text=\"<b>REVIEWS</b> (average per ramen)\")\n",
    "\n",
    "# Update yaxis properties\n",
    "fig.update_yaxes(title= dict(font=dict(size=12, color='#1A1817'),),ticks=\"outside\", tickwidth=0.5, tickcolor='#F2E9E1', ticklen=10, hoverformat=\",.1f\",\n",
    "                 showline=True, linewidth=2, linecolor='#F2E9E1',\n",
    "                 showgrid=True, gridwidth=1, gridcolor='#F2E9E1',\n",
    "                 zeroline=True, zerolinewidth=1, zerolinecolor='crimson',)\n",
    "fig.update_yaxes(title_text=\"<b>STARS</b> (rating)\")\n",
    "\n",
    "fig.update_layout(    \n",
    "    font=dict(family=\"Raleway, sans-serif\", size=12, color='#98928E'),\n",
    "    plot_bgcolor=\"#fffaf7\",\n",
    "    showlegend=True,\n",
    "    paper_bgcolor = \"#fffaf7\",\n",
    "    height = 500,\n",
    "    annotations=[go.layout.Annotation(text=\"<b>Most countries with high total reviews, generously rate ramens</b>\",x=-0.05,y=1.18,xref=\"paper\",yref=\"paper\",showarrow=False,\n",
    "                                      xanchor=\"left\",yanchor=\"top\",align=\"left\",font=dict(family=\" Raleway,sans-serif\", size=16, color='#1A1817')),\n",
    "                 go.layout.Annotation(text=\"Countries average stars and reviews color coded by total reviews\",x=-0.05,y=1.12,xref=\"paper\",yref=\"paper\",showarrow=False,\n",
    "                                      xanchor=\"left\",yanchor=\"top\",align=\"left\",font=dict(family='Raleway,sans-serif', size=14, color='#98928E')),]\n",
    ")\n",
    "fig.show()"
   ]
  },
  {
   "cell_type": "markdown",
   "metadata": {},
   "source": [
    "#### 2.3 How strict a country judge a Ramen?\n",
    "Since the ratings are 0–5, most countries with high total reviews, indicated by darker green color, tend to have average scores above 3, predominantly above 3.5."
   ]
  },
  {
   "cell_type": "code",
   "execution_count": 13,
   "metadata": {},
   "outputs": [
    {
     "data": {
      "application/vnd.plotly.v1+json": {
       "config": {
        "plotlyServerURL": "https://plot.ly"
       },
       "data": [
        {
         "colorbar": {
          "title": {
           "font": {
            "color": "#1A1817",
            "size": 12
           },
           "text": "<b>RATINGS</b><br>(average)"
          }
         },
         "type": "heatmap",
         "x": [
          "Australia",
          "Bangladesh",
          "Bangladesh",
          "Brazil",
          "Cambodia",
          "Cambodia",
          "Canada",
          "China",
          "China",
          "China",
          "China",
          "Colombia",
          "Fiji",
          "Germany",
          "Hong Kong",
          "Hong Kong",
          "Hungary",
          "India",
          "India",
          "India",
          "Indonesia",
          "Indonesia",
          "Japan",
          "Japan",
          "Japan",
          "Japan",
          "Japan",
          "Japan",
          "Japan",
          "Malaysia",
          "Malaysia",
          "Malaysia",
          "Mexico",
          "Mexico",
          "Mexico",
          "Myanmar",
          "Myanmar",
          "Nigeria",
          "Philippines",
          "Philippines",
          "Poland",
          "Singapore",
          "Singapore",
          "Singapore",
          "Singapore",
          "Singapore",
          "South Korea",
          "South Korea",
          "South Korea",
          "South Korea",
          "Taiwan",
          "Taiwan",
          "Thailand",
          "Thailand",
          "Thailand",
          "Thailand",
          "USA",
          "USA",
          "USA",
          "USA",
          "USA",
          "United States",
          "Vietnam",
          "Vietnam",
          "Vietnam"
         ],
         "y": [
          "Maggi",
          "MAMA",
          "Mama",
          "Nissin",
          "MAMA",
          "Mama",
          "Sapporo Ichiban",
          "JML",
          "Master Kong",
          "Nissin",
          "Nongshim",
          "Nissin",
          "Maggi",
          "Nissin",
          "Mamee",
          "Nissin",
          "Nissin",
          "Maggi",
          "Nissin",
          "Wai Wai",
          "Indomie",
          "Nissin",
          "Maruchan",
          "MyKuali",
          "Myojo",
          "Nissin",
          "Paldo",
          "Samyang Foods",
          "Sapporo Ichiban",
          "Maggi",
          "Mamee",
          "MyKuali",
          "Maruchan",
          "Nissin",
          "Ottogi",
          "MAMA",
          "Mama",
          "Indomie",
          "Lucky Me!",
          "Nissin",
          "Vifon",
          "KOKA",
          "Maggi",
          "MyKuali",
          "Myojo",
          "Nissin",
          "Nongshim",
          "Ottogi",
          "Paldo",
          "Samyang Foods",
          "A-Sha Dry Noodle",
          "Ve Wong",
          "MAMA",
          "Mama",
          "Nissin",
          "Wai Wai",
          "Maruchan",
          "Myojo",
          "Nissin",
          "Nongshim",
          "Sapporo Ichiban",
          "Nongshim",
          "Ve Wong",
          "Vifon",
          "Vina Acecook"
         ],
         "z": [
          5.0,
          3.5,
          3.625,
          4.35,
          3.5,
          4.375,
          5.0,
          3.902173913043478,
          3.8482142857142856,
          3.8333333333333335,
          3.6,
          3.2916666666666665,
          3.625,
          3.6931818181818183,
          3.25,
          4.141791044776119,
          3.75,
          3.232142857142857,
          3.25,
          3.3333333333333335,
          4.1201923076923075,
          3.875,
          3.9402173913043477,
          5.0,
          3.7134146341463414,
          4.2599099099099105,
          3.25,
          3.25,
          3.9107142857142856,
          3.95625,
          3.9642857142857144,
          4.940476190476191,
          3.25,
          3.7777777777777777,
          3.9375,
          3.9166666666666665,
          4.0,
          1.5,
          3.2941176470588234,
          2.0,
          4.0,
          4.21,
          4.25,
          5.0,
          4.09375,
          4.092592592592593,
          3.973684210526316,
          3.2380952380952372,
          4.030769230769231,
          4.0,
          4.0673076923076925,
          3.185714285714286,
          3.9375,
          3.5456896551724135,
          3.8088235294117645,
          2.8795454545454544,
          3.392156862745098,
          3.625,
          3.4960526315789475,
          4.107142857142857,
          3.6,
          3.75,
          2.8333333333333335,
          3.025,
          3.536764705882353
         ]
        }
       ],
       "layout": {
        "annotations": [
         {
          "align": "left",
          "font": {
           "color": "#1A1817",
           "family": " Raleway,sans-serif",
           "size": 16
          },
          "showarrow": false,
          "text": "<b>Nissin has the most presence in contries</b>",
          "x": -0.05,
          "xanchor": "left",
          "xref": "paper",
          "y": 1.18,
          "yanchor": "top",
          "yref": "paper"
         },
         {
          "align": "left",
          "font": {
           "color": "#98928E",
           "family": "Raleway,sans-serif",
           "size": 14
          },
          "showarrow": false,
          "text": "Average rating by brand and country",
          "x": -0.05,
          "xanchor": "left",
          "xref": "paper",
          "y": 1.12,
          "yanchor": "top",
          "yref": "paper"
         }
        ],
        "font": {
         "color": "#98928E",
         "family": "raleway, sans-serif",
         "size": 10
        },
        "height": 500,
        "paper_bgcolor": "#fffaf7",
        "plot_bgcolor": "#fffaf7",
        "showlegend": true,
        "template": {
         "data": {
          "bar": [
           {
            "error_x": {
             "color": "#2a3f5f"
            },
            "error_y": {
             "color": "#2a3f5f"
            },
            "marker": {
             "line": {
              "color": "#E5ECF6",
              "width": 0.5
             }
            },
            "type": "bar"
           }
          ],
          "barpolar": [
           {
            "marker": {
             "line": {
              "color": "#E5ECF6",
              "width": 0.5
             }
            },
            "type": "barpolar"
           }
          ],
          "carpet": [
           {
            "aaxis": {
             "endlinecolor": "#2a3f5f",
             "gridcolor": "white",
             "linecolor": "white",
             "minorgridcolor": "white",
             "startlinecolor": "#2a3f5f"
            },
            "baxis": {
             "endlinecolor": "#2a3f5f",
             "gridcolor": "white",
             "linecolor": "white",
             "minorgridcolor": "white",
             "startlinecolor": "#2a3f5f"
            },
            "type": "carpet"
           }
          ],
          "choropleth": [
           {
            "colorbar": {
             "outlinewidth": 0,
             "ticks": ""
            },
            "type": "choropleth"
           }
          ],
          "contour": [
           {
            "colorbar": {
             "outlinewidth": 0,
             "ticks": ""
            },
            "colorscale": [
             [
              0.0,
              "#0d0887"
             ],
             [
              0.1111111111111111,
              "#46039f"
             ],
             [
              0.2222222222222222,
              "#7201a8"
             ],
             [
              0.3333333333333333,
              "#9c179e"
             ],
             [
              0.4444444444444444,
              "#bd3786"
             ],
             [
              0.5555555555555556,
              "#d8576b"
             ],
             [
              0.6666666666666666,
              "#ed7953"
             ],
             [
              0.7777777777777778,
              "#fb9f3a"
             ],
             [
              0.8888888888888888,
              "#fdca26"
             ],
             [
              1.0,
              "#f0f921"
             ]
            ],
            "type": "contour"
           }
          ],
          "contourcarpet": [
           {
            "colorbar": {
             "outlinewidth": 0,
             "ticks": ""
            },
            "type": "contourcarpet"
           }
          ],
          "heatmap": [
           {
            "colorbar": {
             "outlinewidth": 0,
             "ticks": ""
            },
            "colorscale": [
             [
              0.0,
              "#0d0887"
             ],
             [
              0.1111111111111111,
              "#46039f"
             ],
             [
              0.2222222222222222,
              "#7201a8"
             ],
             [
              0.3333333333333333,
              "#9c179e"
             ],
             [
              0.4444444444444444,
              "#bd3786"
             ],
             [
              0.5555555555555556,
              "#d8576b"
             ],
             [
              0.6666666666666666,
              "#ed7953"
             ],
             [
              0.7777777777777778,
              "#fb9f3a"
             ],
             [
              0.8888888888888888,
              "#fdca26"
             ],
             [
              1.0,
              "#f0f921"
             ]
            ],
            "type": "heatmap"
           }
          ],
          "heatmapgl": [
           {
            "colorbar": {
             "outlinewidth": 0,
             "ticks": ""
            },
            "colorscale": [
             [
              0.0,
              "#0d0887"
             ],
             [
              0.1111111111111111,
              "#46039f"
             ],
             [
              0.2222222222222222,
              "#7201a8"
             ],
             [
              0.3333333333333333,
              "#9c179e"
             ],
             [
              0.4444444444444444,
              "#bd3786"
             ],
             [
              0.5555555555555556,
              "#d8576b"
             ],
             [
              0.6666666666666666,
              "#ed7953"
             ],
             [
              0.7777777777777778,
              "#fb9f3a"
             ],
             [
              0.8888888888888888,
              "#fdca26"
             ],
             [
              1.0,
              "#f0f921"
             ]
            ],
            "type": "heatmapgl"
           }
          ],
          "histogram": [
           {
            "marker": {
             "colorbar": {
              "outlinewidth": 0,
              "ticks": ""
             }
            },
            "type": "histogram"
           }
          ],
          "histogram2d": [
           {
            "colorbar": {
             "outlinewidth": 0,
             "ticks": ""
            },
            "colorscale": [
             [
              0.0,
              "#0d0887"
             ],
             [
              0.1111111111111111,
              "#46039f"
             ],
             [
              0.2222222222222222,
              "#7201a8"
             ],
             [
              0.3333333333333333,
              "#9c179e"
             ],
             [
              0.4444444444444444,
              "#bd3786"
             ],
             [
              0.5555555555555556,
              "#d8576b"
             ],
             [
              0.6666666666666666,
              "#ed7953"
             ],
             [
              0.7777777777777778,
              "#fb9f3a"
             ],
             [
              0.8888888888888888,
              "#fdca26"
             ],
             [
              1.0,
              "#f0f921"
             ]
            ],
            "type": "histogram2d"
           }
          ],
          "histogram2dcontour": [
           {
            "colorbar": {
             "outlinewidth": 0,
             "ticks": ""
            },
            "colorscale": [
             [
              0.0,
              "#0d0887"
             ],
             [
              0.1111111111111111,
              "#46039f"
             ],
             [
              0.2222222222222222,
              "#7201a8"
             ],
             [
              0.3333333333333333,
              "#9c179e"
             ],
             [
              0.4444444444444444,
              "#bd3786"
             ],
             [
              0.5555555555555556,
              "#d8576b"
             ],
             [
              0.6666666666666666,
              "#ed7953"
             ],
             [
              0.7777777777777778,
              "#fb9f3a"
             ],
             [
              0.8888888888888888,
              "#fdca26"
             ],
             [
              1.0,
              "#f0f921"
             ]
            ],
            "type": "histogram2dcontour"
           }
          ],
          "mesh3d": [
           {
            "colorbar": {
             "outlinewidth": 0,
             "ticks": ""
            },
            "type": "mesh3d"
           }
          ],
          "parcoords": [
           {
            "line": {
             "colorbar": {
              "outlinewidth": 0,
              "ticks": ""
             }
            },
            "type": "parcoords"
           }
          ],
          "scatter": [
           {
            "marker": {
             "colorbar": {
              "outlinewidth": 0,
              "ticks": ""
             }
            },
            "type": "scatter"
           }
          ],
          "scatter3d": [
           {
            "line": {
             "colorbar": {
              "outlinewidth": 0,
              "ticks": ""
             }
            },
            "marker": {
             "colorbar": {
              "outlinewidth": 0,
              "ticks": ""
             }
            },
            "type": "scatter3d"
           }
          ],
          "scattercarpet": [
           {
            "marker": {
             "colorbar": {
              "outlinewidth": 0,
              "ticks": ""
             }
            },
            "type": "scattercarpet"
           }
          ],
          "scattergeo": [
           {
            "marker": {
             "colorbar": {
              "outlinewidth": 0,
              "ticks": ""
             }
            },
            "type": "scattergeo"
           }
          ],
          "scattergl": [
           {
            "marker": {
             "colorbar": {
              "outlinewidth": 0,
              "ticks": ""
             }
            },
            "type": "scattergl"
           }
          ],
          "scattermapbox": [
           {
            "marker": {
             "colorbar": {
              "outlinewidth": 0,
              "ticks": ""
             }
            },
            "type": "scattermapbox"
           }
          ],
          "scatterpolar": [
           {
            "marker": {
             "colorbar": {
              "outlinewidth": 0,
              "ticks": ""
             }
            },
            "type": "scatterpolar"
           }
          ],
          "scatterpolargl": [
           {
            "marker": {
             "colorbar": {
              "outlinewidth": 0,
              "ticks": ""
             }
            },
            "type": "scatterpolargl"
           }
          ],
          "scatterternary": [
           {
            "marker": {
             "colorbar": {
              "outlinewidth": 0,
              "ticks": ""
             }
            },
            "type": "scatterternary"
           }
          ],
          "surface": [
           {
            "colorbar": {
             "outlinewidth": 0,
             "ticks": ""
            },
            "colorscale": [
             [
              0.0,
              "#0d0887"
             ],
             [
              0.1111111111111111,
              "#46039f"
             ],
             [
              0.2222222222222222,
              "#7201a8"
             ],
             [
              0.3333333333333333,
              "#9c179e"
             ],
             [
              0.4444444444444444,
              "#bd3786"
             ],
             [
              0.5555555555555556,
              "#d8576b"
             ],
             [
              0.6666666666666666,
              "#ed7953"
             ],
             [
              0.7777777777777778,
              "#fb9f3a"
             ],
             [
              0.8888888888888888,
              "#fdca26"
             ],
             [
              1.0,
              "#f0f921"
             ]
            ],
            "type": "surface"
           }
          ],
          "table": [
           {
            "cells": {
             "fill": {
              "color": "#EBF0F8"
             },
             "line": {
              "color": "white"
             }
            },
            "header": {
             "fill": {
              "color": "#C8D4E3"
             },
             "line": {
              "color": "white"
             }
            },
            "type": "table"
           }
          ]
         },
         "layout": {
          "annotationdefaults": {
           "arrowcolor": "#2a3f5f",
           "arrowhead": 0,
           "arrowwidth": 1
          },
          "colorscale": {
           "diverging": [
            [
             0,
             "#8e0152"
            ],
            [
             0.1,
             "#c51b7d"
            ],
            [
             0.2,
             "#de77ae"
            ],
            [
             0.3,
             "#f1b6da"
            ],
            [
             0.4,
             "#fde0ef"
            ],
            [
             0.5,
             "#f7f7f7"
            ],
            [
             0.6,
             "#e6f5d0"
            ],
            [
             0.7,
             "#b8e186"
            ],
            [
             0.8,
             "#7fbc41"
            ],
            [
             0.9,
             "#4d9221"
            ],
            [
             1,
             "#276419"
            ]
           ],
           "sequential": [
            [
             0.0,
             "#0d0887"
            ],
            [
             0.1111111111111111,
             "#46039f"
            ],
            [
             0.2222222222222222,
             "#7201a8"
            ],
            [
             0.3333333333333333,
             "#9c179e"
            ],
            [
             0.4444444444444444,
             "#bd3786"
            ],
            [
             0.5555555555555556,
             "#d8576b"
            ],
            [
             0.6666666666666666,
             "#ed7953"
            ],
            [
             0.7777777777777778,
             "#fb9f3a"
            ],
            [
             0.8888888888888888,
             "#fdca26"
            ],
            [
             1.0,
             "#f0f921"
            ]
           ],
           "sequentialminus": [
            [
             0.0,
             "#0d0887"
            ],
            [
             0.1111111111111111,
             "#46039f"
            ],
            [
             0.2222222222222222,
             "#7201a8"
            ],
            [
             0.3333333333333333,
             "#9c179e"
            ],
            [
             0.4444444444444444,
             "#bd3786"
            ],
            [
             0.5555555555555556,
             "#d8576b"
            ],
            [
             0.6666666666666666,
             "#ed7953"
            ],
            [
             0.7777777777777778,
             "#fb9f3a"
            ],
            [
             0.8888888888888888,
             "#fdca26"
            ],
            [
             1.0,
             "#f0f921"
            ]
           ]
          },
          "colorway": [
           "#636efa",
           "#EF553B",
           "#00cc96",
           "#ab63fa",
           "#FFA15A",
           "#19d3f3",
           "#FF6692",
           "#B6E880",
           "#FF97FF",
           "#FECB52"
          ],
          "font": {
           "color": "#2a3f5f"
          },
          "geo": {
           "bgcolor": "white",
           "lakecolor": "white",
           "landcolor": "#E5ECF6",
           "showlakes": true,
           "showland": true,
           "subunitcolor": "white"
          },
          "hoverlabel": {
           "align": "left"
          },
          "hovermode": "closest",
          "mapbox": {
           "style": "light"
          },
          "paper_bgcolor": "white",
          "plot_bgcolor": "#E5ECF6",
          "polar": {
           "angularaxis": {
            "gridcolor": "white",
            "linecolor": "white",
            "ticks": ""
           },
           "bgcolor": "#E5ECF6",
           "radialaxis": {
            "gridcolor": "white",
            "linecolor": "white",
            "ticks": ""
           }
          },
          "scene": {
           "xaxis": {
            "backgroundcolor": "#E5ECF6",
            "gridcolor": "white",
            "gridwidth": 2,
            "linecolor": "white",
            "showbackground": true,
            "ticks": "",
            "zerolinecolor": "white"
           },
           "yaxis": {
            "backgroundcolor": "#E5ECF6",
            "gridcolor": "white",
            "gridwidth": 2,
            "linecolor": "white",
            "showbackground": true,
            "ticks": "",
            "zerolinecolor": "white"
           },
           "zaxis": {
            "backgroundcolor": "#E5ECF6",
            "gridcolor": "white",
            "gridwidth": 2,
            "linecolor": "white",
            "showbackground": true,
            "ticks": "",
            "zerolinecolor": "white"
           }
          },
          "shapedefaults": {
           "line": {
            "color": "#2a3f5f"
           }
          },
          "ternary": {
           "aaxis": {
            "gridcolor": "white",
            "linecolor": "white",
            "ticks": ""
           },
           "baxis": {
            "gridcolor": "white",
            "linecolor": "white",
            "ticks": ""
           },
           "bgcolor": "#E5ECF6",
           "caxis": {
            "gridcolor": "white",
            "linecolor": "white",
            "ticks": ""
           }
          },
          "title": {
           "x": 0.05
          },
          "xaxis": {
           "automargin": true,
           "gridcolor": "white",
           "linecolor": "white",
           "ticks": "",
           "zerolinecolor": "white",
           "zerolinewidth": 2
          },
          "yaxis": {
           "automargin": true,
           "gridcolor": "white",
           "linecolor": "white",
           "ticks": "",
           "zerolinecolor": "white",
           "zerolinewidth": 2
          }
         }
        },
        "xaxis": {
         "gridcolor": "#F2E9E1",
         "gridwidth": 1,
         "hoverformat": ",.1f",
         "linecolor": "#F2E9E1",
         "linewidth": 2,
         "nticks": 65,
         "showgrid": true,
         "showline": true,
         "tickcolor": "#F2E9E1",
         "ticklen": 10,
         "ticks": "outside",
         "tickwidth": 0.5,
         "title": {
          "font": {
           "color": "#1A1817",
           "size": 12
          },
          "text": "<b>COUNTRY</b>"
         },
         "zeroline": true,
         "zerolinecolor": "crimson",
         "zerolinewidth": 1
        },
        "yaxis": {
         "gridcolor": "#F2E9E1",
         "gridwidth": 1,
         "hoverformat": ",.1f",
         "linecolor": "#F2E9E1",
         "linewidth": 2,
         "nticks": 65,
         "showgrid": true,
         "showline": true,
         "tickcolor": "#F2E9E1",
         "ticklen": 10,
         "ticks": "outside",
         "tickwidth": 0.5,
         "title": {
          "font": {
           "color": "#1A1817",
           "size": 12
          },
          "text": "<b>BRAND</b>"
         },
         "zeroline": true,
         "zerolinecolor": "crimson",
         "zerolinewidth": 1
        }
       }
      },
      "text/html": [
       "<div>\n",
       "        \n",
       "        \n",
       "            <div id=\"2422b2cc-fe87-4042-838e-e86a75f45283\" class=\"plotly-graph-div\" style=\"height:500px; width:100%;\"></div>\n",
       "            <script type=\"text/javascript\">\n",
       "                require([\"plotly\"], function(Plotly) {\n",
       "                    window.PLOTLYENV=window.PLOTLYENV || {};\n",
       "                    \n",
       "                if (document.getElementById(\"2422b2cc-fe87-4042-838e-e86a75f45283\")) {\n",
       "                    Plotly.newPlot(\n",
       "                        '2422b2cc-fe87-4042-838e-e86a75f45283',\n",
       "                        [{\"colorbar\": {\"title\": {\"font\": {\"color\": \"#1A1817\", \"size\": 12}, \"text\": \"<b>RATINGS</b><br>(average)\"}}, \"type\": \"heatmap\", \"x\": [\"Australia\", \"Bangladesh\", \"Bangladesh\", \"Brazil\", \"Cambodia\", \"Cambodia\", \"Canada\", \"China\", \"China\", \"China\", \"China\", \"Colombia\", \"Fiji\", \"Germany\", \"Hong Kong\", \"Hong Kong\", \"Hungary\", \"India\", \"India\", \"India\", \"Indonesia\", \"Indonesia\", \"Japan\", \"Japan\", \"Japan\", \"Japan\", \"Japan\", \"Japan\", \"Japan\", \"Malaysia\", \"Malaysia\", \"Malaysia\", \"Mexico\", \"Mexico\", \"Mexico\", \"Myanmar\", \"Myanmar\", \"Nigeria\", \"Philippines\", \"Philippines\", \"Poland\", \"Singapore\", \"Singapore\", \"Singapore\", \"Singapore\", \"Singapore\", \"South Korea\", \"South Korea\", \"South Korea\", \"South Korea\", \"Taiwan\", \"Taiwan\", \"Thailand\", \"Thailand\", \"Thailand\", \"Thailand\", \"USA\", \"USA\", \"USA\", \"USA\", \"USA\", \"United States\", \"Vietnam\", \"Vietnam\", \"Vietnam\"], \"y\": [\"Maggi\", \"MAMA\", \"Mama\", \"Nissin\", \"MAMA\", \"Mama\", \"Sapporo Ichiban\", \"JML\", \"Master Kong\", \"Nissin\", \"Nongshim\", \"Nissin\", \"Maggi\", \"Nissin\", \"Mamee\", \"Nissin\", \"Nissin\", \"Maggi\", \"Nissin\", \"Wai Wai\", \"Indomie\", \"Nissin\", \"Maruchan\", \"MyKuali\", \"Myojo\", \"Nissin\", \"Paldo\", \"Samyang Foods\", \"Sapporo Ichiban\", \"Maggi\", \"Mamee\", \"MyKuali\", \"Maruchan\", \"Nissin\", \"Ottogi\", \"MAMA\", \"Mama\", \"Indomie\", \"Lucky Me!\", \"Nissin\", \"Vifon\", \"KOKA\", \"Maggi\", \"MyKuali\", \"Myojo\", \"Nissin\", \"Nongshim\", \"Ottogi\", \"Paldo\", \"Samyang Foods\", \"A-Sha Dry Noodle\", \"Ve Wong\", \"MAMA\", \"Mama\", \"Nissin\", \"Wai Wai\", \"Maruchan\", \"Myojo\", \"Nissin\", \"Nongshim\", \"Sapporo Ichiban\", \"Nongshim\", \"Ve Wong\", \"Vifon\", \"Vina Acecook\"], \"z\": [5.0, 3.5, 3.625, 4.35, 3.5, 4.375, 5.0, 3.902173913043478, 3.8482142857142856, 3.8333333333333335, 3.6, 3.2916666666666665, 3.625, 3.6931818181818183, 3.25, 4.141791044776119, 3.75, 3.232142857142857, 3.25, 3.3333333333333335, 4.1201923076923075, 3.875, 3.9402173913043477, 5.0, 3.7134146341463414, 4.2599099099099105, 3.25, 3.25, 3.9107142857142856, 3.95625, 3.9642857142857144, 4.940476190476191, 3.25, 3.7777777777777777, 3.9375, 3.9166666666666665, 4.0, 1.5, 3.2941176470588234, 2.0, 4.0, 4.21, 4.25, 5.0, 4.09375, 4.092592592592593, 3.973684210526316, 3.2380952380952372, 4.030769230769231, 4.0, 4.0673076923076925, 3.185714285714286, 3.9375, 3.5456896551724135, 3.8088235294117645, 2.8795454545454544, 3.392156862745098, 3.625, 3.4960526315789475, 4.107142857142857, 3.6, 3.75, 2.8333333333333335, 3.025, 3.536764705882353]}],\n",
       "                        {\"annotations\": [{\"align\": \"left\", \"font\": {\"color\": \"#1A1817\", \"family\": \" Raleway,sans-serif\", \"size\": 16}, \"showarrow\": false, \"text\": \"<b>Nissin has the most presence in contries</b>\", \"x\": -0.05, \"xanchor\": \"left\", \"xref\": \"paper\", \"y\": 1.18, \"yanchor\": \"top\", \"yref\": \"paper\"}, {\"align\": \"left\", \"font\": {\"color\": \"#98928E\", \"family\": \"Raleway,sans-serif\", \"size\": 14}, \"showarrow\": false, \"text\": \"Average rating by brand and country\", \"x\": -0.05, \"xanchor\": \"left\", \"xref\": \"paper\", \"y\": 1.12, \"yanchor\": \"top\", \"yref\": \"paper\"}], \"font\": {\"color\": \"#98928E\", \"family\": \"raleway, sans-serif\", \"size\": 10}, \"height\": 500, \"paper_bgcolor\": \"#fffaf7\", \"plot_bgcolor\": \"#fffaf7\", \"showlegend\": true, \"template\": {\"data\": {\"bar\": [{\"error_x\": {\"color\": \"#2a3f5f\"}, \"error_y\": {\"color\": \"#2a3f5f\"}, \"marker\": {\"line\": {\"color\": \"#E5ECF6\", \"width\": 0.5}}, \"type\": \"bar\"}], \"barpolar\": [{\"marker\": {\"line\": {\"color\": \"#E5ECF6\", \"width\": 0.5}}, \"type\": \"barpolar\"}], \"carpet\": [{\"aaxis\": {\"endlinecolor\": \"#2a3f5f\", \"gridcolor\": \"white\", \"linecolor\": \"white\", \"minorgridcolor\": \"white\", \"startlinecolor\": \"#2a3f5f\"}, \"baxis\": {\"endlinecolor\": \"#2a3f5f\", \"gridcolor\": \"white\", \"linecolor\": \"white\", \"minorgridcolor\": \"white\", \"startlinecolor\": \"#2a3f5f\"}, \"type\": \"carpet\"}], \"choropleth\": [{\"colorbar\": {\"outlinewidth\": 0, \"ticks\": \"\"}, \"type\": \"choropleth\"}], \"contour\": [{\"colorbar\": {\"outlinewidth\": 0, \"ticks\": \"\"}, \"colorscale\": [[0.0, \"#0d0887\"], [0.1111111111111111, \"#46039f\"], [0.2222222222222222, \"#7201a8\"], [0.3333333333333333, \"#9c179e\"], [0.4444444444444444, \"#bd3786\"], [0.5555555555555556, \"#d8576b\"], [0.6666666666666666, \"#ed7953\"], [0.7777777777777778, \"#fb9f3a\"], [0.8888888888888888, \"#fdca26\"], [1.0, \"#f0f921\"]], \"type\": \"contour\"}], \"contourcarpet\": [{\"colorbar\": {\"outlinewidth\": 0, \"ticks\": \"\"}, \"type\": \"contourcarpet\"}], \"heatmap\": [{\"colorbar\": {\"outlinewidth\": 0, \"ticks\": \"\"}, \"colorscale\": [[0.0, \"#0d0887\"], [0.1111111111111111, \"#46039f\"], [0.2222222222222222, \"#7201a8\"], [0.3333333333333333, \"#9c179e\"], [0.4444444444444444, \"#bd3786\"], [0.5555555555555556, \"#d8576b\"], [0.6666666666666666, \"#ed7953\"], [0.7777777777777778, \"#fb9f3a\"], [0.8888888888888888, \"#fdca26\"], [1.0, \"#f0f921\"]], \"type\": \"heatmap\"}], \"heatmapgl\": [{\"colorbar\": {\"outlinewidth\": 0, \"ticks\": \"\"}, \"colorscale\": [[0.0, \"#0d0887\"], [0.1111111111111111, \"#46039f\"], [0.2222222222222222, \"#7201a8\"], [0.3333333333333333, \"#9c179e\"], [0.4444444444444444, \"#bd3786\"], [0.5555555555555556, \"#d8576b\"], [0.6666666666666666, \"#ed7953\"], [0.7777777777777778, \"#fb9f3a\"], [0.8888888888888888, \"#fdca26\"], [1.0, \"#f0f921\"]], \"type\": \"heatmapgl\"}], \"histogram\": [{\"marker\": {\"colorbar\": {\"outlinewidth\": 0, \"ticks\": \"\"}}, \"type\": \"histogram\"}], \"histogram2d\": [{\"colorbar\": {\"outlinewidth\": 0, \"ticks\": \"\"}, \"colorscale\": [[0.0, \"#0d0887\"], [0.1111111111111111, \"#46039f\"], [0.2222222222222222, \"#7201a8\"], [0.3333333333333333, \"#9c179e\"], [0.4444444444444444, \"#bd3786\"], [0.5555555555555556, \"#d8576b\"], [0.6666666666666666, \"#ed7953\"], [0.7777777777777778, \"#fb9f3a\"], [0.8888888888888888, \"#fdca26\"], [1.0, \"#f0f921\"]], \"type\": \"histogram2d\"}], \"histogram2dcontour\": [{\"colorbar\": {\"outlinewidth\": 0, \"ticks\": \"\"}, \"colorscale\": [[0.0, \"#0d0887\"], [0.1111111111111111, \"#46039f\"], [0.2222222222222222, \"#7201a8\"], [0.3333333333333333, \"#9c179e\"], [0.4444444444444444, \"#bd3786\"], [0.5555555555555556, \"#d8576b\"], [0.6666666666666666, \"#ed7953\"], [0.7777777777777778, \"#fb9f3a\"], [0.8888888888888888, \"#fdca26\"], [1.0, \"#f0f921\"]], \"type\": \"histogram2dcontour\"}], \"mesh3d\": [{\"colorbar\": {\"outlinewidth\": 0, \"ticks\": \"\"}, \"type\": \"mesh3d\"}], \"parcoords\": [{\"line\": {\"colorbar\": {\"outlinewidth\": 0, \"ticks\": \"\"}}, \"type\": \"parcoords\"}], \"scatter\": [{\"marker\": {\"colorbar\": {\"outlinewidth\": 0, \"ticks\": \"\"}}, \"type\": \"scatter\"}], \"scatter3d\": [{\"line\": {\"colorbar\": {\"outlinewidth\": 0, \"ticks\": \"\"}}, \"marker\": {\"colorbar\": {\"outlinewidth\": 0, \"ticks\": \"\"}}, \"type\": \"scatter3d\"}], \"scattercarpet\": [{\"marker\": {\"colorbar\": {\"outlinewidth\": 0, \"ticks\": \"\"}}, \"type\": \"scattercarpet\"}], \"scattergeo\": [{\"marker\": {\"colorbar\": {\"outlinewidth\": 0, \"ticks\": \"\"}}, \"type\": \"scattergeo\"}], \"scattergl\": [{\"marker\": {\"colorbar\": {\"outlinewidth\": 0, \"ticks\": \"\"}}, \"type\": \"scattergl\"}], \"scattermapbox\": [{\"marker\": {\"colorbar\": {\"outlinewidth\": 0, \"ticks\": \"\"}}, \"type\": \"scattermapbox\"}], \"scatterpolar\": [{\"marker\": {\"colorbar\": {\"outlinewidth\": 0, \"ticks\": \"\"}}, \"type\": \"scatterpolar\"}], \"scatterpolargl\": [{\"marker\": {\"colorbar\": {\"outlinewidth\": 0, \"ticks\": \"\"}}, \"type\": \"scatterpolargl\"}], \"scatterternary\": [{\"marker\": {\"colorbar\": {\"outlinewidth\": 0, \"ticks\": \"\"}}, \"type\": \"scatterternary\"}], \"surface\": [{\"colorbar\": {\"outlinewidth\": 0, \"ticks\": \"\"}, \"colorscale\": [[0.0, \"#0d0887\"], [0.1111111111111111, \"#46039f\"], [0.2222222222222222, \"#7201a8\"], [0.3333333333333333, \"#9c179e\"], [0.4444444444444444, \"#bd3786\"], [0.5555555555555556, \"#d8576b\"], [0.6666666666666666, \"#ed7953\"], [0.7777777777777778, \"#fb9f3a\"], [0.8888888888888888, \"#fdca26\"], [1.0, \"#f0f921\"]], \"type\": \"surface\"}], \"table\": [{\"cells\": {\"fill\": {\"color\": \"#EBF0F8\"}, \"line\": {\"color\": \"white\"}}, \"header\": {\"fill\": {\"color\": \"#C8D4E3\"}, \"line\": {\"color\": \"white\"}}, \"type\": \"table\"}]}, \"layout\": {\"annotationdefaults\": {\"arrowcolor\": \"#2a3f5f\", \"arrowhead\": 0, \"arrowwidth\": 1}, \"colorscale\": {\"diverging\": [[0, \"#8e0152\"], [0.1, \"#c51b7d\"], [0.2, \"#de77ae\"], [0.3, \"#f1b6da\"], [0.4, \"#fde0ef\"], [0.5, \"#f7f7f7\"], [0.6, \"#e6f5d0\"], [0.7, \"#b8e186\"], [0.8, \"#7fbc41\"], [0.9, \"#4d9221\"], [1, \"#276419\"]], \"sequential\": [[0.0, \"#0d0887\"], [0.1111111111111111, \"#46039f\"], [0.2222222222222222, \"#7201a8\"], [0.3333333333333333, \"#9c179e\"], [0.4444444444444444, \"#bd3786\"], [0.5555555555555556, \"#d8576b\"], [0.6666666666666666, \"#ed7953\"], [0.7777777777777778, \"#fb9f3a\"], [0.8888888888888888, \"#fdca26\"], [1.0, \"#f0f921\"]], \"sequentialminus\": [[0.0, \"#0d0887\"], [0.1111111111111111, \"#46039f\"], [0.2222222222222222, \"#7201a8\"], [0.3333333333333333, \"#9c179e\"], [0.4444444444444444, \"#bd3786\"], [0.5555555555555556, \"#d8576b\"], [0.6666666666666666, \"#ed7953\"], [0.7777777777777778, \"#fb9f3a\"], [0.8888888888888888, \"#fdca26\"], [1.0, \"#f0f921\"]]}, \"colorway\": [\"#636efa\", \"#EF553B\", \"#00cc96\", \"#ab63fa\", \"#FFA15A\", \"#19d3f3\", \"#FF6692\", \"#B6E880\", \"#FF97FF\", \"#FECB52\"], \"font\": {\"color\": \"#2a3f5f\"}, \"geo\": {\"bgcolor\": \"white\", \"lakecolor\": \"white\", \"landcolor\": \"#E5ECF6\", \"showlakes\": true, \"showland\": true, \"subunitcolor\": \"white\"}, \"hoverlabel\": {\"align\": \"left\"}, \"hovermode\": \"closest\", \"mapbox\": {\"style\": \"light\"}, \"paper_bgcolor\": \"white\", \"plot_bgcolor\": \"#E5ECF6\", \"polar\": {\"angularaxis\": {\"gridcolor\": \"white\", \"linecolor\": \"white\", \"ticks\": \"\"}, \"bgcolor\": \"#E5ECF6\", \"radialaxis\": {\"gridcolor\": \"white\", \"linecolor\": \"white\", \"ticks\": \"\"}}, \"scene\": {\"xaxis\": {\"backgroundcolor\": \"#E5ECF6\", \"gridcolor\": \"white\", \"gridwidth\": 2, \"linecolor\": \"white\", \"showbackground\": true, \"ticks\": \"\", \"zerolinecolor\": \"white\"}, \"yaxis\": {\"backgroundcolor\": \"#E5ECF6\", \"gridcolor\": \"white\", \"gridwidth\": 2, \"linecolor\": \"white\", \"showbackground\": true, \"ticks\": \"\", \"zerolinecolor\": \"white\"}, \"zaxis\": {\"backgroundcolor\": \"#E5ECF6\", \"gridcolor\": \"white\", \"gridwidth\": 2, \"linecolor\": \"white\", \"showbackground\": true, \"ticks\": \"\", \"zerolinecolor\": \"white\"}}, \"shapedefaults\": {\"line\": {\"color\": \"#2a3f5f\"}}, \"ternary\": {\"aaxis\": {\"gridcolor\": \"white\", \"linecolor\": \"white\", \"ticks\": \"\"}, \"baxis\": {\"gridcolor\": \"white\", \"linecolor\": \"white\", \"ticks\": \"\"}, \"bgcolor\": \"#E5ECF6\", \"caxis\": {\"gridcolor\": \"white\", \"linecolor\": \"white\", \"ticks\": \"\"}}, \"title\": {\"x\": 0.05}, \"xaxis\": {\"automargin\": true, \"gridcolor\": \"white\", \"linecolor\": \"white\", \"ticks\": \"\", \"zerolinecolor\": \"white\", \"zerolinewidth\": 2}, \"yaxis\": {\"automargin\": true, \"gridcolor\": \"white\", \"linecolor\": \"white\", \"ticks\": \"\", \"zerolinecolor\": \"white\", \"zerolinewidth\": 2}}}, \"xaxis\": {\"gridcolor\": \"#F2E9E1\", \"gridwidth\": 1, \"hoverformat\": \",.1f\", \"linecolor\": \"#F2E9E1\", \"linewidth\": 2, \"nticks\": 65, \"showgrid\": true, \"showline\": true, \"tickcolor\": \"#F2E9E1\", \"ticklen\": 10, \"ticks\": \"outside\", \"tickwidth\": 0.5, \"title\": {\"font\": {\"color\": \"#1A1817\", \"size\": 12}, \"text\": \"<b>COUNTRY</b>\"}, \"zeroline\": true, \"zerolinecolor\": \"crimson\", \"zerolinewidth\": 1}, \"yaxis\": {\"gridcolor\": \"#F2E9E1\", \"gridwidth\": 1, \"hoverformat\": \",.1f\", \"linecolor\": \"#F2E9E1\", \"linewidth\": 2, \"nticks\": 65, \"showgrid\": true, \"showline\": true, \"tickcolor\": \"#F2E9E1\", \"ticklen\": 10, \"ticks\": \"outside\", \"tickwidth\": 0.5, \"title\": {\"font\": {\"color\": \"#1A1817\", \"size\": 12}, \"text\": \"<b>BRAND</b>\"}, \"zeroline\": true, \"zerolinecolor\": \"crimson\", \"zerolinewidth\": 1}},\n",
       "                        {\"responsive\": true}\n",
       "                    ).then(function(){\n",
       "                            \n",
       "var gd = document.getElementById('2422b2cc-fe87-4042-838e-e86a75f45283');\n",
       "var x = new MutationObserver(function (mutations, observer) {{\n",
       "        var display = window.getComputedStyle(gd).display;\n",
       "        if (!display || display === 'none') {{\n",
       "            console.log([gd, 'removed!']);\n",
       "            Plotly.purge(gd);\n",
       "            observer.disconnect();\n",
       "        }}\n",
       "}});\n",
       "\n",
       "// Listen for the removal of the full notebook cells\n",
       "var notebookContainer = gd.closest('#notebook-container');\n",
       "if (notebookContainer) {{\n",
       "    x.observe(notebookContainer, {childList: true});\n",
       "}}\n",
       "\n",
       "// Listen for the clearing of the current output cell\n",
       "var outputEl = gd.closest('.output');\n",
       "if (outputEl) {{\n",
       "    x.observe(outputEl, {childList: true});\n",
       "}}\n",
       "\n",
       "                        })\n",
       "                };\n",
       "                });\n",
       "            </script>\n",
       "        </div>"
      ]
     },
     "metadata": {},
     "output_type": "display_data"
    }
   ],
   "source": [
    "# Preparing data \n",
    "top_brand = df1.groupby('Brand').count()['Variety'][df1.groupby('Brand').count()['Variety']>20].index.values # Listing brands with 20+ variety\n",
    "df1_top_brand =  df1.loc[df1['Brand'].isin(top_brand)] # Filtering the brand\n",
    "df1_brand_heatmaps = df1_top_brand.groupby(['Country','Brand']).agg({'Stars':'mean','Review_#':'mean'})\n",
    "\n",
    "# Generate plot and styling\n",
    "fig = go.Figure(data=go.Heatmap(\n",
    "        x=df1_brand_heatmaps.index.get_level_values(0),\n",
    "        y=df1_brand_heatmaps.index.get_level_values(1),\n",
    "        z=df1_brand_heatmaps['Stars'],\n",
    "    colorbar=dict(title= dict(text='<b>RATINGS</b><br>(average)',font=dict(size=12, color='#1A1817'),) )\n",
    "\n",
    "))\n",
    "# Update xaxis properties\n",
    "fig.update_xaxes(title=dict(text=\"<b>COUNTRY</b>\",font=dict(size=12, color='#1A1817')),\n",
    "                 ticks=\"outside\", tickwidth=0.5, tickcolor='#F2E9E1', ticklen=10,hoverformat=\",.1f\",\n",
    "                 showline=True, linewidth=2, linecolor='#F2E9E1',\n",
    "                 showgrid=True, gridwidth=1, gridcolor='#F2E9E1',\n",
    "                 zeroline=True, zerolinewidth=1, zerolinecolor='crimson')\n",
    "\n",
    "\n",
    "# Update yaxis properties\n",
    "fig.update_yaxes(title= dict(text = \"<b>BRAND</b>\",font=dict(size=12, color='#1A1817'),),ticks=\"outside\", tickwidth=0.5, tickcolor='#F2E9E1', ticklen=10, hoverformat=\",.1f\",\n",
    "                 showline=True, linewidth=2, linecolor='#F2E9E1',\n",
    "                 showgrid=True, gridwidth=1, gridcolor='#F2E9E1',\n",
    "                 zeroline=True, zerolinewidth=1, zerolinecolor='crimson',)\n",
    "\n",
    "fig.update_layout(    \n",
    "    xaxis_nticks=len(df1_brand_heatmaps.index.get_level_values(0)),\n",
    "    yaxis_nticks=len(df1_brand_heatmaps.index.get_level_values(1)),\n",
    "    font=dict(family=\"raleway, sans-serif\", size=10, color='#98928E'),\n",
    "    plot_bgcolor=\"#fffaf7\",\n",
    "    showlegend=True,\n",
    "    paper_bgcolor = \"#fffaf7\",\n",
    "    height = 500,\n",
    "    annotations=[go.layout.Annotation(text=\"<b>Nissin has the most presence in contries</b>\",x=-0.05,y=1.18,xref=\"paper\",yref=\"paper\",showarrow=False,\n",
    "                                      xanchor=\"left\",yanchor=\"top\",align=\"left\",font=dict(family=\" Raleway,sans-serif\", size=16, color='#1A1817')),\n",
    "                 go.layout.Annotation(text=\"Average rating by brand and country\",x=-0.05,y=1.12,xref=\"paper\",yref=\"paper\",showarrow=False,\n",
    "                                      xanchor=\"left\",yanchor=\"top\",align=\"left\",font=dict(family='Raleway,sans-serif', size=14, color='#98928E')),]\n",
    "                 )\n",
    "\n",
    "fig.show()"
   ]
  },
  {
   "cell_type": "markdown",
   "metadata": {},
   "source": [
    "#### 2.4 What is the leading global brand?\n",
    "To answer this, I am using the brand's presence in countries regardless of their rating. Nissin has the most present worldwide though the ratings do not seem to be outstanding. Nissin has mostly average ratings, orange to red color, with even one low score, purple indicating rating as little as 2 out of 5.\n",
    "Couple worth-noting things are,\n",
    "- My Kuali is astonishingly scored ~5 (look for the yellow-colored box) in all countries it presents, but bear in mind; this average rating doesn't take into account the total number of reviews. Look forward to trying this ramen!\n",
    "- Indomie doesn't seem to perform well in Nigeria. "
   ]
  }
 ],
 "metadata": {
  "kernelspec": {
   "display_name": "Python 3",
   "language": "python",
   "name": "python3"
  },
  "language_info": {
   "codemirror_mode": {
    "name": "ipython",
    "version": 3
   },
   "file_extension": ".py",
   "mimetype": "text/x-python",
   "name": "python",
   "nbconvert_exporter": "python",
   "pygments_lexer": "ipython3",
   "version": "3.6.6"
  }
 },
 "nbformat": 4,
 "nbformat_minor": 1
}
